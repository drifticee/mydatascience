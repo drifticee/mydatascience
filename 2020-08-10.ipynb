{
 "cells": [
  {
   "cell_type": "code",
   "execution_count": 2,
   "metadata": {},
   "outputs": [],
   "source": [
    "#모델 평가\n",
    "#훈련 세트 크기에 따른 영향 시각화\n",
    "\n",
    "import numpy as np\n",
    "import matplotlib.pyplot as plt\n",
    "from sklearn.ensemble import RandomForestClassifier\n",
    "from sklearn.datasets import load_digits\n",
    "from sklearn.model_selection import learning_curve\n",
    "\n",
    "digits = load_digits() # 데이터 로드\n",
    "features, target = digits.data, digits.target # 특성 행렬과 타깃 벡터 분리\n",
    "\n",
    "# 다양한 훈련 세트 크기에서 교차검증 훈련 점수와 테스트 점수를 계산합니다.\n",
    "train_sizes, train_scores, test_scores = learning_curve(RandomForestClassifier(), # 분류기\n",
    "                                                        features, # 특성 행렬\n",
    "                                                        target, # 타깃 벡터\n",
    "                                                        cv=10, # 폴드 수\n",
    "                                                        scoring='accuracy', # 성능 지표\n",
    "                                                        n_jobs=-1, # 모든 코어 사용\n",
    "                                                        train_sizes=np.linspace( 0.01, 1.0, 50)) # 50개의 훈련 세트 크기"
   ]
  },
  {
   "cell_type": "code",
   "execution_count": null,
   "metadata": {},
   "outputs": [],
   "source": [
    "# 훈련 세트 점수의 평균과 표준 편차를 계산합니다.\n",
    "train_mean = np.mean(train_scores, axis=1)\n",
    "train_std = np.std(train_scores, axis=1)\n",
    "\n",
    "# 테스트 세트 점수의 평균과 표준 편차를 계산합니다.\n",
    "test_mean = np.mean(test_scores, axis=1)\n",
    "test_std = np.std(test_scores, axis=1)\n",
    "\n",
    "# 그래프를 그립니다.\n",
    "plt.plot(train_sizes, train_mean, '--', color=\"#111111\", label=\"Training score\")\n",
    "plt.plot(train_sizes, test_mean, color=\"#111111\", label=\"Cross-validation score\")\n",
    "\n",
    "# 표준 편차 영역을 그립니다.\n",
    "plt.fill_between(train_sizes, train_mean - train_std, train_mean + train_std, color=\"#DDDDDD\")\n",
    "plt.fill_between(train_sizes, test_mean - test_std, test_mean + test_std, color=\"#DDDDDD\")\n",
    "\n",
    "# 그래프를 출력합니다.\n",
    "plt.title(\"Learning Curve\")\n",
    "plt.xlabel(\"Training Set Size\"), plt.ylabel(\"Accuracy Score\"),\n",
    "plt.legend(loc=\"best\")\n",
    "plt.tight_layout()\n",
    "plt.show()\n",
    "\n",
    "#훈련 세트 샘플의 1%에서 100%까지 50개 크기에서 랜덤 포레스트 분류기의 정확도를 그래프로 출력합니다.\n",
    "#모델의 교차검증 정확도가 증가하면 추가적인 샘플이 도움이 된다는 것을 의미합니다."
   ]
  },
  {
   "cell_type": "code",
   "execution_count": null,
   "metadata": {},
   "outputs": [],
   "source": [
    "from sklearn import datasets\n",
    "from sklearn.linear_model import LogisticRegression\n",
    "from sklearn.model_selection import train_test_split\n",
    "from sklearn.metrics import classification_report\n",
    "\n",
    "iris = datasets.load_iris() # 데이터 로드\n",
    "features = iris.data, target = iris.target\n",
    "class_names = iris.target_names # 타깃 클래스 이름의 리스트\n",
    "\n",
    "# 훈련 세트와 테스트 세트를 만듭니다.\n",
    "features_train, features_test, target_train, target_test = train_test_split( features, target, random_state=1)\n",
    "classifier = LogisticRegression() # 로지스틱 회귀 모델 객체 생성\n",
    "model = classifier.fit(features_train, target_train) # 모델 훈련\n",
    "target_predicted = model.predict(features_test) # 예측\n",
    "\n",
    "print(classification_report(target_test,\n",
    "                            target_predicted,\n",
    "                            target_names=class_names)) # 분류 리포트 새성"
   ]
  },
  {
   "cell_type": "code",
   "execution_count": null,
   "metadata": {},
   "outputs": [],
   "source": [
    "# 분류 리포트를 만듭니다.\n",
    "print(classification_report(target_test, target_predicted, labels=[0,1,2,3])) "
   ]
  },
  {
   "cell_type": "code",
   "execution_count": 1,
   "metadata": {},
   "outputs": [
    {
     "data": {
      "image/png": "[encoded data removed]",
      "text/plain": [
       "<Figure size 432x288 with 1 Axes>"
      ]
     },
     "metadata": {
      "needs_background": "light"
     },
     "output_type": "display_data"
    }
   ],
   "source": [
    "#하이퍼파라미터 값의 영향 시각화\n",
    "#실습: 트리 개수가 증가할 때 랜덤 포레스트 분류기의 훈련 세트 정확도와 교차검증 정확도의 변화를 시각화\n",
    "#검증 곡선을 그려 모델의 하이퍼파라미터 값 변화에 따른 성능 변화 확인\n",
    "#랜덤 포레스트 분류기의 하이퍼파라미터는 앙상블을 할 트리의 개수\n",
    "import matplotlib.pyplot as plt\n",
    "import numpy as np\n",
    "from sklearn.datasets import load_digits\n",
    "from sklearn.ensemble import RandomForestClassifier\n",
    "from sklearn.model_selection import validation_curve\n",
    "\n",
    "digits = load_digits()\n",
    "features, target = digits.data, digits.target\n",
    "param_range = np.arange(1, 250, 2) #파라미터 값의 범위\n",
    "\n",
    "train_scores, test_scores = validation_curve(RandomForestClassifier(),\n",
    "                                            features,\n",
    "                                            target,\n",
    "                                            param_name='n_estimators', #조사할 하이퍼파라미터\n",
    "                                            param_range=param_range, #하이퍼파라미터 값의 범위\n",
    "                                            cv=3, #폴드 수\n",
    "                                            scoring='accuracy', #성능 지표\n",
    "                                            n_jobs=-1) #모든 코어 사용\n",
    "#훈련과 테스트 세트 점수의 평균과 표준 편차 계산\n",
    "train_mean = np.mean(train_scores, axis=1)\n",
    "train_std = np.std(train_scores, axis=1)\n",
    "test_mean = np.mean(test_scores, axis=1)\n",
    "test_std = np.std(test_scores, axis=1)\n",
    "\n",
    "#훈련 세트와 테스트 세트의 평균 정확도 점수를 그래프로\n",
    "plt.plot(param_range, train_mean, label='Training score', color='black')\n",
    "plt.plot(param_range, test_mean, label='Cross-validation score', color='dimgrey')\n",
    "\n",
    "#훈련 세트와 테스트 세트의 정확도에 대한 표준 편차를 그래프로\n",
    "plt.fill_between(param_range, train_mean - train_std, train_mean + train_std, color='gray')\n",
    "plt.fill_between(param_range, test_mean - test_std, test_mean + test_std, color='gainsboro')\n",
    "#mean위아래로 std만큼 벌어진 선을 색을 채워 그려넣는 코드\n",
    "\n",
    "plt.title('Validation Curve With Random Forest')\n",
    "plt.xlabel('Number of Trees'), plt.ylabel('Accuracy Score')\n",
    "plt.tight_layout()\n",
    "plt.legend(loc='best')\n",
    "plt.show()"
   ]
  },
  {
   "cell_type": "code",
   "execution_count": null,
   "metadata": {},
   "outputs": [],
   "source": []
  }
 ],
 "metadata": {
  "kernelspec": {
   "display_name": "Python 3",
   "language": "python",
   "name": "python3"
  },
  "language_info": {
   "codemirror_mode": {
    "name": "ipython",
    "version": 3
   },
   "file_extension": ".py",
   "mimetype": "text/x-python",
   "name": "python",
   "nbconvert_exporter": "python",
   "pygments_lexer": "ipython3",
   "version": "3.7.6"
  }
 },
 "nbformat": 4,
 "nbformat_minor": 4
}
