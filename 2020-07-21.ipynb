{
 "cells": [
  {
   "cell_type": "code",
   "execution_count": 48,
   "metadata": {},
   "outputs": [
    {
     "data": {
      "text/plain": [
       "'\\nstartwith\\nendwith\\n\\nisalpha\\nisdigit\\nisalnum\\nisspace\\n\\nloewr\\nupper\\n'"
      ]
     },
     "execution_count": 48,
     "metadata": {},
     "output_type": "execute_result"
    }
   ],
   "source": [
    "'''\n",
    "startwith\n",
    "endwith\n",
    "\n",
    "isalpha\n",
    "isdigit\n",
    "isalnum\n",
    "isspace\n",
    "\n",
    "loewr\n",
    "upper\n",
    "'''\n"
   ]
  },
  {
   "cell_type": "code",
   "execution_count": 44,
   "metadata": {
    "scrolled": true
   },
   "outputs": [
    {
     "name": "stdout",
     "output_type": "stream",
     "text": [
      "날짜 에스프레소 아메리카노 카페라떼 카푸치노\n",
      "10.15\t10\t50\t45\t20\n",
      "10.16\t12\t45\t41\t18\n",
      "10.17\t11\t53\t32\t25\n",
      "10.18\t15\t49\t38\t22\n"
     ]
    }
   ],
   "source": [
    "!type c:\\users\\student\\mypy\\data\\coffeeShopSales.txt"
   ]
  },
  {
   "cell_type": "code",
   "execution_count": 49,
   "metadata": {},
   "outputs": [
    {
     "name": "stdout",
     "output_type": "stream",
     "text": [
      "에스프레소: [10, 12, 11, 15]\n",
      "아메리카노: [50, 45, 53, 49]\n",
      "카페라떼: [45, 41, 32, 38]\n",
      "카푸치노: [20, 18, 25, 22]\n"
     ]
    }
   ],
   "source": [
    "file_name = 'c:\\\\users\\student\\mypy\\data\\coffeeShopSales.txt'\n",
    "\n",
    "f = open(file_name)\n",
    "headerList = f.readline().split()\n",
    "\n",
    "espresso = []\n",
    "americano = []\n",
    "cafelatte = []\n",
    "cappucino = []\n",
    "\n",
    "for line in f:\n",
    "    dataList = line.split()\n",
    "    \n",
    "    espresso.append(int(dataList[1]))\n",
    "    americano.append(int(dataList[2]))\n",
    "    cafelatte.append(int(dataList[3]))\n",
    "    cappucino.append(int(dataList[4]))\n",
    "    \n",
    "f.close()\n",
    "\n",
    "print(\"{0}: {1}\".format(headerList[1], espresso))\n",
    "print(\"{0}: {1}\".format(headerList[2], americano))\n",
    "print(\"{0}: {1}\".format(headerList[3], cafelatte))\n",
    "print(\"{0}: {1}\".format(headerList[4], cappucino))"
   ]
  },
  {
   "cell_type": "code",
   "execution_count": 53,
   "metadata": {},
   "outputs": [
    {
     "name": "stdout",
     "output_type": "stream",
     "text": [
      "[에스프레소] 판매량\n",
      "- 나흘 전체: 48, 하루 평균: 12.0\n",
      "[아메리카노] 판매량\n",
      "- 나흘 전체: 197, 하루 평균: 49.25\n",
      "[카페라떼] 판매량\n",
      "- 나흘 전체: 156, 하루 평균: 39.0\n",
      "[카푸치노] 판매량\n",
      "- 나흘 전체: 85, 하루 평균: 21.25\n"
     ]
    }
   ],
   "source": [
    "total_sum = [sum(espresso), sum(americano), sum(cafelatte), sum(cappucino)]\n",
    "total_mean = [sum(espresso)/len(espresso), sum(americano)/len(americano), sum(cafelatte)/len(cafelatte), sum(cappucino)/len(cafelatte)]\n",
    "\n",
    "for k in range(len(total_sum)):\n",
    "    print('[{0}] 판매량'.format(headerList[k+1]))\n",
    "    print('- 나흘 전체: {0}, 하루 평균: {1}'.format(total_sum[k], total_mean[k]))"
   ]
  },
  {
   "cell_type": "code",
   "execution_count": 65,
   "metadata": {},
   "outputs": [
    {
     "name": "stderr",
     "output_type": "stream",
     "text": [
      "UsageError: Line magic function `%%writefile` not found.\n"
     ]
    }
   ],
   "source": [
    "#module\n",
    "\n",
    "\"\"\"\n",
    "%%writefile C:\\\\users\\student\\mypy\\modules\\my_first_module.py\n",
    "    \n",
    "def my_function():\n",
    "    print(\"This is my first module.\")\n",
    "\n",
    "#에러 발생 / 그냥 직접 만듦\n",
    "\"\"\"\n"
   ]
  },
  {
   "cell_type": "code",
   "execution_count": 66,
   "metadata": {},
   "outputs": [
    {
     "name": "stdout",
     "output_type": "stream",
     "text": [
      "def my_function():\n",
      "    print(\"This is my first module.\")\n"
     ]
    }
   ],
   "source": [
    "!type C:\\users\\student\\mypy\\modules\\my_first_module.py"
   ]
  },
  {
   "cell_type": "code",
   "execution_count": 68,
   "metadata": {},
   "outputs": [
    {
     "name": "stdout",
     "output_type": "stream",
     "text": [
      "C:\\users\\student\\mypy\\modules\n"
     ]
    }
   ],
   "source": [
    "cd C:\\users\\student\\mypy\\modules\\"
   ]
  },
  {
   "cell_type": "code",
   "execution_count": 71,
   "metadata": {},
   "outputs": [
    {
     "name": "stdout",
     "output_type": "stream",
     "text": [
      "This is my first module.\n"
     ]
    }
   ],
   "source": [
    "import my_first_module\n",
    "\n",
    "my_first_module.my_function()"
   ]
  },
  {
   "cell_type": "code",
   "execution_count": 74,
   "metadata": {},
   "outputs": [
    {
     "name": "stdout",
     "output_type": "stream",
     "text": [
      "C:\\Users\\student\\mypy\\packages;C:\\Users\\student\\mypy\\modules\n"
     ]
    }
   ],
   "source": [
    "#module의 경로 지정해주기\n",
    "\n",
    "!echo %PYTHONPATH%\n",
    "\n",
    "#%%writefile C:\\users\\student\\mypy\\modules\\my_area.py"
   ]
  },
  {
   "cell_type": "code",
   "execution_count": 76,
   "metadata": {},
   "outputs": [
    {
     "name": "stdout",
     "output_type": "stream",
     "text": [
      "C:\\users\\student\\mypy\\modules\n"
     ]
    }
   ],
   "source": [
    "cd C:\\users\\student\\mypy\\modules\\"
   ]
  },
  {
   "cell_type": "code",
   "execution_count": 79,
   "metadata": {},
   "outputs": [
    {
     "name": "stdout",
     "output_type": "stream",
     "text": [
      "pi =  3.14\n",
      "square area =  25\n",
      "circle area =  12.56\n"
     ]
    }
   ],
   "source": [
    "import my_area\n",
    "\n",
    "print('pi = ', my_area.PI)\n",
    "print('square area = ', my_area.square_area(5))\n",
    "print('circle area = ', my_area.circle_area(2))"
   ]
  },
  {
   "cell_type": "code",
   "execution_count": 81,
   "metadata": {
    "scrolled": true
   },
   "outputs": [
    {
     "data": {
      "text/plain": [
       "['PI',\n",
       " '__builtins__',\n",
       " '__cached__',\n",
       " '__doc__',\n",
       " '__file__',\n",
       " '__loader__',\n",
       " '__name__',\n",
       " '__package__',\n",
       " '__spec__',\n",
       " 'circle_area',\n",
       " 'square_area']"
      ]
     },
     "execution_count": 81,
     "metadata": {},
     "output_type": "execute_result"
    }
   ],
   "source": [
    "dir(my_area)"
   ]
  },
  {
   "cell_type": "code",
   "execution_count": 83,
   "metadata": {},
   "outputs": [
    {
     "name": "stdout",
     "output_type": "stream",
     "text": [
      "Only when directly running the module.\n",
      "input num:  37\n"
     ]
    }
   ],
   "source": [
    "%run C:\\users\\student\\mypy\\modules\\my_module_test3.py"
   ]
  },
  {
   "cell_type": "code",
   "execution_count": 99,
   "metadata": {},
   "outputs": [
    {
     "name": "stdout",
     "output_type": "stream",
     "text": [
      "input num:  8\n"
     ]
    }
   ],
   "source": [
    "#random(), randint(a,b) - a~b / randrange(start, stop, step)\n",
    "# choice(seq) - ex) choice([1,2,3]) 중 하나\n",
    "#sample(population, k) - 모집단 population에서 중복되지 않은 k개 인자 반환\n",
    "\n",
    "import my_module_test3 as mmt3\n",
    "mmt3.func(8)"
   ]
  },
  {
   "cell_type": "code",
   "execution_count": 101,
   "metadata": {},
   "outputs": [
    {
     "data": {
      "text/plain": [
       "0.2629684938144917"
      ]
     },
     "execution_count": 101,
     "metadata": {},
     "output_type": "execute_result"
    }
   ],
   "source": [
    "import random as rd\n",
    "rd.random()"
   ]
  },
  {
   "cell_type": "code",
   "execution_count": 302,
   "metadata": {},
   "outputs": [
    {
     "name": "stdout",
     "output_type": "stream",
     "text": [
      "50.0462\n"
     ]
    }
   ],
   "source": [
    "res = []\n",
    "for i in range(10000):\n",
    "    res.append(0)\n",
    "    for _ in range(100):\n",
    "        res[i] += rd.randint(0,1)\n",
    "    \n",
    "print (sum(res)/len(res))"
   ]
  },
  {
   "cell_type": "code",
   "execution_count": 281,
   "metadata": {},
   "outputs": [],
   "source": [
    "random01 = pd.DataFrame(res)"
   ]
  },
  {
   "cell_type": "code",
   "execution_count": 272,
   "metadata": {},
   "outputs": [
    {
     "ename": "SyntaxError",
     "evalue": "invalid syntax (<ipython-input-272-93253c41520f>, line 1)",
     "output_type": "error",
     "traceback": [
      "\u001b[1;36m  File \u001b[1;32m\"<ipython-input-272-93253c41520f>\"\u001b[1;36m, line \u001b[1;32m1\u001b[0m\n\u001b[1;33m    pip3 install matplotlib\u001b[0m\n\u001b[1;37m               ^\u001b[0m\n\u001b[1;31mSyntaxError\u001b[0m\u001b[1;31m:\u001b[0m invalid syntax\n"
     ]
    }
   ],
   "source": [
    "pip install matplotlib"
   ]
  },
  {
   "cell_type": "code",
   "execution_count": 278,
   "metadata": {},
   "outputs": [],
   "source": [
    "import pandas as pd\n",
    "import numpy as np\n",
    "import matplotlib\n",
    "import matplotlib.pyplot as plt"
   ]
  },
  {
   "cell_type": "code",
   "execution_count": 296,
   "metadata": {},
   "outputs": [
    {
     "data": {
      "text/plain": [
       "<Figure size 432x288 with 0 Axes>"
      ]
     },
     "metadata": {},
     "output_type": "display_data"
    },
    {
     "data": {
      "image/png": "[encoded data removed]",
      "text/plain": [
       "<Figure size 1440x720 with 1 Axes>"
      ]
     },
     "metadata": {
      "image/png": {
       "height": 574,
       "width": 1150
      },
      "needs_background": "light"
     },
     "output_type": "display_data"
    }
   ],
   "source": [
    "fig = plt.figure()\n",
    "fig.suptitle('figure sample plots')\n",
    "\n",
    "fig, ax_lst = plt.subplots(figsize=(20,10))\n",
    "\n",
    "ax_lst.plot(random01)\n",
    "plt.show()"
   ]
  },
  {
   "cell_type": "code",
   "execution_count": 297,
   "metadata": {},
   "outputs": [
    {
     "data": {
      "image/png": "[encoded data removed]",
      "text/plain": [
       "<Figure size 432x288 with 1 Axes>"
      ]
     },
     "metadata": {
      "image/png": {
       "height": 263,
       "width": 369
      },
      "needs_background": "light"
     },
     "output_type": "display_data"
    }
   ],
   "source": [
    "plt.title(\"test_Plot\")\n",
    "plt.plot(random01[1:100])\n",
    "plt.show()"
   ]
  },
  {
   "cell_type": "code",
   "execution_count": 362,
   "metadata": {},
   "outputs": [],
   "source": [
    "import datetime as dt\n",
    "now = dt.datetime.now()"
   ]
  },
  {
   "cell_type": "code",
   "execution_count": 318,
   "metadata": {},
   "outputs": [
    {
     "name": "stdout",
     "output_type": "stream",
     "text": [
      "Date and time: 2020-07-21 15:55:40.095985\n"
     ]
    },
    {
     "data": {
      "text/plain": [
       "['__add__',\n",
       " '__class__',\n",
       " '__delattr__',\n",
       " '__dir__',\n",
       " '__doc__',\n",
       " '__eq__',\n",
       " '__format__',\n",
       " '__ge__',\n",
       " '__getattribute__',\n",
       " '__gt__',\n",
       " '__hash__',\n",
       " '__init__',\n",
       " '__init_subclass__',\n",
       " '__le__',\n",
       " '__lt__',\n",
       " '__ne__',\n",
       " '__new__',\n",
       " '__radd__',\n",
       " '__reduce__',\n",
       " '__reduce_ex__',\n",
       " '__repr__',\n",
       " '__rsub__',\n",
       " '__setattr__',\n",
       " '__sizeof__',\n",
       " '__str__',\n",
       " '__sub__',\n",
       " '__subclasshook__',\n",
       " 'ctime',\n",
       " 'day',\n",
       " 'fromisoformat',\n",
       " 'fromordinal',\n",
       " 'fromtimestamp',\n",
       " 'isocalendar',\n",
       " 'isoformat',\n",
       " 'isoweekday',\n",
       " 'max',\n",
       " 'min',\n",
       " 'month',\n",
       " 'replace',\n",
       " 'resolution',\n",
       " 'strftime',\n",
       " 'timetuple',\n",
       " 'today',\n",
       " 'toordinal',\n",
       " 'weekday',\n",
       " 'year']"
      ]
     },
     "execution_count": 318,
     "metadata": {},
     "output_type": "execute_result"
    }
   ],
   "source": [
    "print(\"Date and time: {}\".format(now))\n",
    "dir(datetime.date)"
   ]
  },
  {
   "cell_type": "code",
   "execution_count": 326,
   "metadata": {},
   "outputs": [],
   "source": [
    "date_obj = dt.date(2020, 7, 21)\n",
    "time_obj = dt.time(16, 5, 30)\n",
    "datetime_obj = dt.datetime(2020, 7, 21, 16, 5, 30)"
   ]
  },
  {
   "cell_type": "code",
   "execution_count": 329,
   "metadata": {},
   "outputs": [
    {
     "name": "stdout",
     "output_type": "stream",
     "text": [
      "2020-07-21\n"
     ]
    }
   ],
   "source": [
    "print(date_obj)"
   ]
  },
  {
   "cell_type": "code",
   "execution_count": 337,
   "metadata": {},
   "outputs": [
    {
     "name": "stdout",
     "output_type": "stream",
     "text": [
      "2020-07-21\n"
     ]
    }
   ],
   "source": [
    "set_day = datetime.date(2020,7,21)\n",
    "print(set_day)"
   ]
  },
  {
   "cell_type": "code",
   "execution_count": 340,
   "metadata": {},
   "outputs": [
    {
     "name": "stdout",
     "output_type": "stream",
     "text": [
      "2020/7/21\n"
     ]
    }
   ],
   "source": [
    "print('{0}/{1}/{2}'.format(set_day.year, set_day.month, set_day.day))"
   ]
  },
  {
   "cell_type": "code",
   "execution_count": 349,
   "metadata": {},
   "outputs": [
    {
     "name": "stdout",
     "output_type": "stream",
     "text": [
      "100 days, 0:00:00\n",
      "100\n"
     ]
    }
   ],
   "source": [
    "day1 = dt.date(2019,4,1)\n",
    "day2 = dt.date(2019,7,10)\n",
    "diff_day = day2-day1\n",
    "print(diff_day)\n",
    "print(diff_day.days)"
   ]
  },
  {
   "cell_type": "code",
   "execution_count": 351,
   "metadata": {},
   "outputs": [
    {
     "name": "stdout",
     "output_type": "stream",
     "text": [
      "2020-07-21\n"
     ]
    }
   ],
   "source": [
    "print(dt.date.today())"
   ]
  },
  {
   "cell_type": "code",
   "execution_count": 354,
   "metadata": {},
   "outputs": [
    {
     "name": "stdout",
     "output_type": "stream",
     "text": [
      "날짜 2018/10/9\n"
     ]
    }
   ],
   "source": [
    "set_dt = dt.datetime(2018,10,9,10,20,0)\n",
    "print(\"날짜 {}/{}/{}\".format(set_dt.year, set_dt.month, set_dt.day))"
   ]
  },
  {
   "cell_type": "code",
   "execution_count": 358,
   "metadata": {},
   "outputs": [
    {
     "name": "stdout",
     "output_type": "stream",
     "text": [
      "2020-07-21 15:55:40.095985\n",
      "Date & Time: 2020-07-21, 15:55:40\n"
     ]
    }
   ],
   "source": [
    "print(now)\n",
    "print(\"Date & Time: {:%Y-%m-%d, %H:%M:%S}\".format(now))\n",
    "#위 값들은 {:} 안에 있어야 하며 일부만 사용할 수도 있다."
   ]
  },
  {
   "cell_type": "code",
   "execution_count": 363,
   "metadata": {},
   "outputs": [
    {
     "name": "stdout",
     "output_type": "stream",
     "text": [
      "Date: 2020, 07, 21\n",
      "Time: 16/17/42\n"
     ]
    }
   ],
   "source": [
    "print(\"Date: {:%Y, %m, %d}\".format(now))\n",
    "print(\"Time: {:%H/%M/%S}\".format(now))"
   ]
  },
  {
   "cell_type": "code",
   "execution_count": 366,
   "metadata": {},
   "outputs": [
    {
     "name": "stdout",
     "output_type": "stream",
     "text": [
      "set_dt - now =  -652 days, 18:02:17.516633\n"
     ]
    }
   ],
   "source": [
    "print(\"set_dt - now = \", set_dt - now)"
   ]
  },
  {
   "cell_type": "code",
   "execution_count": 371,
   "metadata": {},
   "outputs": [
    {
     "name": "stdout",
     "output_type": "stream",
     "text": [
      "                                  2020\n",
      "\n",
      "      January                   February                   March\n",
      "Mo Tu We Th Fr Sa Su      Mo Tu We Th Fr Sa Su      Mo Tu We Th Fr Sa Su\n",
      "       1  2  3  4  5                      1  2                         1\n",
      " 6  7  8  9 10 11 12       3  4  5  6  7  8  9       2  3  4  5  6  7  8\n",
      "13 14 15 16 17 18 19      10 11 12 13 14 15 16       9 10 11 12 13 14 15\n",
      "20 21 22 23 24 25 26      17 18 19 20 21 22 23      16 17 18 19 20 21 22\n",
      "27 28 29 30 31            24 25 26 27 28 29         23 24 25 26 27 28 29\n",
      "                                                    30 31\n",
      "\n",
      "       April                      May                       June\n",
      "Mo Tu We Th Fr Sa Su      Mo Tu We Th Fr Sa Su      Mo Tu We Th Fr Sa Su\n",
      "       1  2  3  4  5                   1  2  3       1  2  3  4  5  6  7\n",
      " 6  7  8  9 10 11 12       4  5  6  7  8  9 10       8  9 10 11 12 13 14\n",
      "13 14 15 16 17 18 19      11 12 13 14 15 16 17      15 16 17 18 19 20 21\n",
      "20 21 22 23 24 25 26      18 19 20 21 22 23 24      22 23 24 25 26 27 28\n",
      "27 28 29 30               25 26 27 28 29 30 31      29 30\n",
      "\n",
      "        July                     August                  September\n",
      "Mo Tu We Th Fr Sa Su      Mo Tu We Th Fr Sa Su      Mo Tu We Th Fr Sa Su\n",
      "       1  2  3  4  5                      1  2          1  2  3  4  5  6\n",
      " 6  7  8  9 10 11 12       3  4  5  6  7  8  9       7  8  9 10 11 12 13\n",
      "13 14 15 16 17 18 19      10 11 12 13 14 15 16      14 15 16 17 18 19 20\n",
      "20 21 22 23 24 25 26      17 18 19 20 21 22 23      21 22 23 24 25 26 27\n",
      "27 28 29 30 31            24 25 26 27 28 29 30      28 29 30\n",
      "                          31\n",
      "\n",
      "      October                   November                  December\n",
      "Mo Tu We Th Fr Sa Su      Mo Tu We Th Fr Sa Su      Mo Tu We Th Fr Sa Su\n",
      "          1  2  3  4                         1          1  2  3  4  5  6\n",
      " 5  6  7  8  9 10 11       2  3  4  5  6  7  8       7  8  9 10 11 12 13\n",
      "12 13 14 15 16 17 18       9 10 11 12 13 14 15      14 15 16 17 18 19 20\n",
      "19 20 21 22 23 24 25      16 17 18 19 20 21 22      21 22 23 24 25 26 27\n",
      "26 27 28 29 30 31         23 24 25 26 27 28 29      28 29 30 31\n",
      "                          30\n",
      "\n"
     ]
    }
   ],
   "source": [
    "import calendar\n",
    "\n",
    "print(calendar.calendar(2020))"
   ]
  },
  {
   "cell_type": "code",
   "execution_count": 373,
   "metadata": {},
   "outputs": [
    {
     "name": "stdout",
     "output_type": "stream",
     "text": [
      "                                               2020\n",
      "\n",
      "      January                   February                   March                     April\n",
      "Mo Tu We Th Fr Sa Su      Mo Tu We Th Fr Sa Su      Mo Tu We Th Fr Sa Su      Mo Tu We Th Fr Sa Su\n",
      "       1  2  3  4  5                      1  2                         1             1  2  3  4  5\n",
      " 6  7  8  9 10 11 12       3  4  5  6  7  8  9       2  3  4  5  6  7  8       6  7  8  9 10 11 12\n",
      "13 14 15 16 17 18 19      10 11 12 13 14 15 16       9 10 11 12 13 14 15      13 14 15 16 17 18 19\n",
      "20 21 22 23 24 25 26      17 18 19 20 21 22 23      16 17 18 19 20 21 22      20 21 22 23 24 25 26\n",
      "27 28 29 30 31            24 25 26 27 28 29         23 24 25 26 27 28 29      27 28 29 30\n",
      "                                                    30 31\n",
      "\n",
      "        May                       June                      July                     August\n",
      "Mo Tu We Th Fr Sa Su      Mo Tu We Th Fr Sa Su      Mo Tu We Th Fr Sa Su      Mo Tu We Th Fr Sa Su\n",
      "             1  2  3       1  2  3  4  5  6  7             1  2  3  4  5                      1  2\n",
      " 4  5  6  7  8  9 10       8  9 10 11 12 13 14       6  7  8  9 10 11 12       3  4  5  6  7  8  9\n",
      "11 12 13 14 15 16 17      15 16 17 18 19 20 21      13 14 15 16 17 18 19      10 11 12 13 14 15 16\n",
      "18 19 20 21 22 23 24      22 23 24 25 26 27 28      20 21 22 23 24 25 26      17 18 19 20 21 22 23\n",
      "25 26 27 28 29 30 31      29 30                     27 28 29 30 31            24 25 26 27 28 29 30\n",
      "                                                                              31\n",
      "\n",
      "     September                  October                   November                  December\n",
      "Mo Tu We Th Fr Sa Su      Mo Tu We Th Fr Sa Su      Mo Tu We Th Fr Sa Su      Mo Tu We Th Fr Sa Su\n",
      "    1  2  3  4  5  6                1  2  3  4                         1          1  2  3  4  5  6\n",
      " 7  8  9 10 11 12 13       5  6  7  8  9 10 11       2  3  4  5  6  7  8       7  8  9 10 11 12 13\n",
      "14 15 16 17 18 19 20      12 13 14 15 16 17 18       9 10 11 12 13 14 15      14 15 16 17 18 19 20\n",
      "21 22 23 24 25 26 27      19 20 21 22 23 24 25      16 17 18 19 20 21 22      21 22 23 24 25 26 27\n",
      "28 29 30                  26 27 28 29 30 31         23 24 25 26 27 28 29      28 29 30 31\n",
      "                                                    30\n",
      "\n"
     ]
    }
   ],
   "source": [
    "print(calendar.calendar(2020, m=4))"
   ]
  },
  {
   "cell_type": "code",
   "execution_count": 375,
   "metadata": {},
   "outputs": [
    {
     "name": "stdout",
     "output_type": "stream",
     "text": [
      "     July 2020\n",
      "Mo Tu We Th Fr Sa Su\n",
      "       1  2  3  4  5\n",
      " 6  7  8  9 10 11 12\n",
      "13 14 15 16 17 18 19\n",
      "20 21 22 23 24 25 26\n",
      "27 28 29 30 31\n",
      "\n"
     ]
    }
   ],
   "source": [
    "print(calendar.month(2020,7))"
   ]
  },
  {
   "cell_type": "code",
   "execution_count": 401,
   "metadata": {},
   "outputs": [
    {
     "name": "stdout",
     "output_type": "stream",
     "text": [
      "starting from SAT, 29 days\n"
     ]
    }
   ],
   "source": [
    "print(\"starting from {0}, {1} days\".format(wkdays[calendar.monthrange(2020,2)[0]], calendar.monthrange(2020,2)[1]))"
   ]
  },
  {
   "cell_type": "code",
   "execution_count": 388,
   "metadata": {},
   "outputs": [
    {
     "name": "stdout",
     "output_type": "stream",
     "text": [
      "0\n",
      "6\n",
      "   September 2020\n",
      "Su Mo Tu We Th Fr Sa\n",
      "       1  2  3  4  5\n",
      " 6  7  8  9 10 11 12\n",
      "13 14 15 16 17 18 19\n",
      "20 21 22 23 24 25 26\n",
      "27 28 29 30\n",
      "\n"
     ]
    }
   ],
   "source": [
    "print(calendar.firstweekday())\n",
    "calendar.setfirstweekday(calendar.SUNDAY)\n",
    "print(calendar.firstweekday())\n",
    "print(calendar.month(2020,9))"
   ]
  },
  {
   "cell_type": "code",
   "execution_count": 383,
   "metadata": {},
   "outputs": [
    {
     "name": "stdout",
     "output_type": "stream",
     "text": [
      "SUN\n"
     ]
    }
   ],
   "source": [
    "wkdays = ['MON', 'TUE', 'WED', 'THU', 'FRI', 'SAT', 'SUN']\n",
    "print(wkdays[calendar.weekday(2018, 10, 14)])"
   ]
  },
  {
   "cell_type": "code",
   "execution_count": 402,
   "metadata": {},
   "outputs": [
    {
     "name": "stdout",
     "output_type": "stream",
     "text": [
      "True\n"
     ]
    }
   ],
   "source": [
    "#윤년\n",
    "print(calendar.isleap(2020))"
   ]
  },
  {
   "cell_type": "code",
   "execution_count": null,
   "metadata": {},
   "outputs": [],
   "source": [
    "# %%writefile 은 cellmagic (%%)이므로 cell 맨 위에 적어야함\n",
    "# mkdir %%writefile C:\\users\\student\\mypy\\packages\\image\\ 은 cmd에서 쳐야 작동"
   ]
  },
  {
   "cell_type": "code",
   "execution_count": 420,
   "metadata": {},
   "outputs": [
    {
     "name": "stdout",
     "output_type": "stream",
     "text": [
      "Writing C:\\users\\student\\mypy\\packages\\image\\__init__.py\n"
     ]
    }
   ],
   "source": [
    "%%writefile C:\\users\\student\\mypy\\packages\\image\\__init__.py\n",
    "#File name: __init__.py\n",
    "#empty file"
   ]
  },
  {
   "cell_type": "code",
   "execution_count": 421,
   "metadata": {},
   "outputs": [
    {
     "name": "stdout",
     "output_type": "stream",
     "text": [
      "Writing C:\\users\\student\\mypy\\packages\\image\\io_file\\__init__.py\n"
     ]
    }
   ],
   "source": [
    "%%writefile C:\\users\\student\\mypy\\packages\\image\\io_file\\__init__.py\n",
    "#File name: __init__.py\n",
    "#io_file\\ empty file"
   ]
  },
  {
   "cell_type": "code",
   "execution_count": 422,
   "metadata": {},
   "outputs": [
    {
     "name": "stdout",
     "output_type": "stream",
     "text": [
      "Writing C:\\users\\student\\mypy\\packages\\image\\io_file\\imgread.py\n"
     ]
    }
   ],
   "source": [
    "%%writefile C:\\users\\student\\mypy\\packages\\image\\io_file\\imgread.py\n",
    "\n",
    "def pngread():\n",
    "    print(\"pngread in imgread module\")\n",
    "\n",
    "def jpgread():\n",
    "    print(\"jpgread in imgread module\")"
   ]
  },
  {
   "cell_type": "code",
   "execution_count": 423,
   "metadata": {},
   "outputs": [
    {
     "name": "stdout",
     "output_type": "stream",
     "text": [
      "폴더 PATH의 목록입니다.\n",
      "볼륨 일련 번호는 1A2A-9520입니다.\n",
      "C:\\USERS\\STUDENT\\MYPY\\PACKAGES\n",
      "└─image\n",
      "    │  __init__.py\n",
      "    │  \n",
      "    └─io_file\n",
      "            imgread.py\n",
      "            __init__.py\n",
      "            \n"
     ]
    }
   ],
   "source": [
    "!tree /F C:\\users\\student\\mypy\\packages"
   ]
  },
  {
   "cell_type": "code",
   "execution_count": 424,
   "metadata": {},
   "outputs": [
    {
     "name": "stdout",
     "output_type": "stream",
     "text": [
      "pngread in imgread module\n",
      "jpgread in imgread module\n"
     ]
    }
   ],
   "source": [
    "import image.io_file.imgread\n",
    "\n",
    "image.io_file.imgread.pngread()\n",
    "image.io_file.imgread.jpgread()"
   ]
  },
  {
   "cell_type": "code",
   "execution_count": 425,
   "metadata": {},
   "outputs": [
    {
     "name": "stdout",
     "output_type": "stream",
     "text": [
      "pngread in imgread module\n",
      "jpgread in imgread module\n"
     ]
    }
   ],
   "source": [
    "from image.io_file import imgread\n",
    "\n",
    "imgread.pngread()\n",
    "imgread.jpgread()"
   ]
  },
  {
   "cell_type": "code",
   "execution_count": 426,
   "metadata": {},
   "outputs": [
    {
     "name": "stdout",
     "output_type": "stream",
     "text": [
      "pngread in imgread module\n"
     ]
    }
   ],
   "source": [
    "from image.io_file.imgread import pngread\n",
    "\n",
    "pngread()"
   ]
  },
  {
   "cell_type": "code",
   "execution_count": 427,
   "metadata": {},
   "outputs": [
    {
     "name": "stdout",
     "output_type": "stream",
     "text": [
      "pngread in imgread module\n",
      "jpgread in imgread module\n"
     ]
    }
   ],
   "source": [
    "from image.io_file.imgread import *\n",
    "\n",
    "pngread()\n",
    "jpgread()"
   ]
  },
  {
   "cell_type": "code",
   "execution_count": 430,
   "metadata": {},
   "outputs": [
    {
     "name": "stdout",
     "output_type": "stream",
     "text": [
      "pngread in imgread module\n",
      "jpgread in imgread module\n"
     ]
    }
   ],
   "source": [
    "from image.io_file import imgread as img\n",
    "\n",
    "img.pngread()\n",
    "img.jpgread()"
   ]
  },
  {
   "cell_type": "code",
   "execution_count": 431,
   "metadata": {},
   "outputs": [
    {
     "name": "stdout",
     "output_type": "stream",
     "text": [
      "pngread in imgread module\n",
      "pngread in imgread module\n"
     ]
    }
   ],
   "source": [
    "from image.io_file.imgread import pngread as pread\n",
    "from image.io_file.imgread import pngread as jread\n",
    "\n",
    "pread()\n",
    "jread()"
   ]
  },
  {
   "cell_type": "code",
   "execution_count": 435,
   "metadata": {},
   "outputs": [
    {
     "data": {
      "text/plain": [
       "[]"
      ]
     },
     "execution_count": 435,
     "metadata": {},
     "output_type": "execute_result"
    }
   ],
   "source": [
    "# glob: 윈도우의 dir 이나 리눅스의 ls와 비슷한 기능의 모듈\n",
    "# 실무에서 많이 씀\n",
    "\n",
    "import glob\n",
    "glob.glob(\"canon?.*\")"
   ]
  },
  {
   "cell_type": "code",
   "execution_count": 437,
   "metadata": {},
   "outputs": [
    {
     "data": {
      "text/plain": [
       "['C:\\\\Users\\\\student',\n",
       " 'C:\\\\Users\\\\student\\\\mypy\\\\packages',\n",
       " 'C:\\\\Users\\\\student\\\\mypy\\\\modules',\n",
       " 'C:\\\\Users\\\\student\\\\anaconda3\\\\python37.zip',\n",
       " 'C:\\\\Users\\\\student\\\\anaconda3\\\\DLLs',\n",
       " 'C:\\\\Users\\\\student\\\\anaconda3\\\\lib',\n",
       " 'C:\\\\Users\\\\student\\\\anaconda3',\n",
       " '',\n",
       " 'C:\\\\Users\\\\student\\\\anaconda3\\\\lib\\\\site-packages',\n",
       " 'C:\\\\Users\\\\student\\\\anaconda3\\\\lib\\\\site-packages\\\\win32',\n",
       " 'C:\\\\Users\\\\student\\\\anaconda3\\\\lib\\\\site-packages\\\\win32\\\\lib',\n",
       " 'C:\\\\Users\\\\student\\\\anaconda3\\\\lib\\\\site-packages\\\\Pythonwin',\n",
       " 'C:\\\\Users\\\\student\\\\anaconda3\\\\lib\\\\site-packages\\\\IPython\\\\extensions',\n",
       " 'C:\\\\Users\\\\student\\\\.ipython']"
      ]
     },
     "execution_count": 437,
     "metadata": {},
     "output_type": "execute_result"
    }
   ],
   "source": [
    "import sys\n",
    "\n",
    "sys.path"
   ]
  },
  {
   "cell_type": "code",
   "execution_count": 440,
   "metadata": {},
   "outputs": [
    {
     "name": "stdout",
     "output_type": "stream",
     "text": [
      "(0, 100)\n",
      "(1, 15.5)\n",
      "(2, 'Apple')\n",
      "(101, 100)\n",
      "(102, 15.5)\n",
      "(103, 'Apple')\n"
     ]
    }
   ],
   "source": [
    "L = [100, 15.5, \"Apple\"]\n",
    "\n",
    "for i in enumerate(L):\n",
    "    print(i)\n",
    "    \n",
    "for i in enumerate(L, 101):\n",
    "    print(i)"
   ]
  },
  {
   "cell_type": "code",
   "execution_count": 443,
   "metadata": {},
   "outputs": [],
   "source": [
    "# pickle\n",
    "import pickle\n",
    "\n",
    "colors = ['red', 'green', 'black']\n",
    "f = open('colors', 'wb')\n",
    "pickle.dump(list, f)"
   ]
  },
  {
   "cell_type": "code",
   "execution_count": 450,
   "metadata": {},
   "outputs": [
    {
     "data": {
      "text/plain": [
       "list"
      ]
     },
     "execution_count": 450,
     "metadata": {},
     "output_type": "execute_result"
    }
   ],
   "source": [
    "del colors\n",
    "f = open('colors', 'rb')\n",
    "colors = pickle.load(f)\n",
    "f.close()\n",
    "colors"
   ]
  }
 ],
 "metadata": {
  "kernelspec": {
   "display_name": "Python 3",
   "language": "python",
   "name": "python3"
  },
  "language_info": {
   "codemirror_mode": {
    "name": "ipython",
    "version": 3
   },
   "file_extension": ".py",
   "mimetype": "text/x-python",
   "name": "python",
   "nbconvert_exporter": "python",
   "pygments_lexer": "ipython3",
   "version": "3.7.6"
  }
 },
 "nbformat": 4,
 "nbformat_minor": 4
}
