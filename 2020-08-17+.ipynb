{
 "cells": [
  {
   "cell_type": "code",
   "execution_count": 1,
   "metadata": {},
   "outputs": [
    {
     "name": "stderr",
     "output_type": "stream",
     "text": [
      "C:\\Users\\student\\AppData\\Roaming\\Python\\Python37\\site-packages\\tensorflow\\python\\framework\\dtypes.py:516: FutureWarning: Passing (type, 1) or '1type' as a synonym of type is deprecated; in a future version of numpy, it will be understood as (type, (1,)) / '(1,)type'.\n",
      "  _np_qint8 = np.dtype([(\"qint8\", np.int8, 1)])\n",
      "C:\\Users\\student\\AppData\\Roaming\\Python\\Python37\\site-packages\\tensorflow\\python\\framework\\dtypes.py:517: FutureWarning: Passing (type, 1) or '1type' as a synonym of type is deprecated; in a future version of numpy, it will be understood as (type, (1,)) / '(1,)type'.\n",
      "  _np_quint8 = np.dtype([(\"quint8\", np.uint8, 1)])\n",
      "C:\\Users\\student\\AppData\\Roaming\\Python\\Python37\\site-packages\\tensorflow\\python\\framework\\dtypes.py:518: FutureWarning: Passing (type, 1) or '1type' as a synonym of type is deprecated; in a future version of numpy, it will be understood as (type, (1,)) / '(1,)type'.\n",
      "  _np_qint16 = np.dtype([(\"qint16\", np.int16, 1)])\n",
      "C:\\Users\\student\\AppData\\Roaming\\Python\\Python37\\site-packages\\tensorflow\\python\\framework\\dtypes.py:519: FutureWarning: Passing (type, 1) or '1type' as a synonym of type is deprecated; in a future version of numpy, it will be understood as (type, (1,)) / '(1,)type'.\n",
      "  _np_quint16 = np.dtype([(\"quint16\", np.uint16, 1)])\n",
      "C:\\Users\\student\\AppData\\Roaming\\Python\\Python37\\site-packages\\tensorflow\\python\\framework\\dtypes.py:520: FutureWarning: Passing (type, 1) or '1type' as a synonym of type is deprecated; in a future version of numpy, it will be understood as (type, (1,)) / '(1,)type'.\n",
      "  _np_qint32 = np.dtype([(\"qint32\", np.int32, 1)])\n",
      "C:\\Users\\student\\AppData\\Roaming\\Python\\Python37\\site-packages\\tensorflow\\python\\framework\\dtypes.py:525: FutureWarning: Passing (type, 1) or '1type' as a synonym of type is deprecated; in a future version of numpy, it will be understood as (type, (1,)) / '(1,)type'.\n",
      "  np_resource = np.dtype([(\"resource\", np.ubyte, 1)])\n"
     ]
    },
    {
     "name": "stdout",
     "output_type": "stream",
     "text": [
      "['데이터', '분석을', '위한', '베이지안', '모델링']\n"
     ]
    }
   ],
   "source": [
    "######### 케라스의 텍스트 처리 함수 #########\n",
    "#text 모듈의 text_to_word_sequence()\n",
    "from tensorflow.keras.preprocessing.text import text_to_word_sequence\n",
    "\n",
    "text = '데이터 분석을 위한 베이지안 모델링'\n",
    "result = text_to_word_sequence(text)\n",
    "print(result)"
   ]
  },
  {
   "cell_type": "code",
   "execution_count": 2,
   "metadata": {},
   "outputs": [
    {
     "name": "stdout",
     "output_type": "stream",
     "text": [
      "OrderedDict([('텍스트의', 2), ('각', 1), ('단어를', 1), ('나누어', 1), ('토큰화합니다', 1), ('단어로', 1), ('토큰화해서', 1), ('수치', 1), ('데이터', 1), ('벡터로', 1), ('변환해야', 1), ('딥러닝에서', 2), ('인식됩니다', 1), ('토큰화된', 1), ('결과는', 1), ('사용할', 1), ('수', 1), ('있습니다', 1)]) \n",
      "\n",
      "3 \n",
      "\n",
      "defaultdict(<class 'int'>, {'단어를': 1, '각': 1, '토큰화합니다': 1, '텍스트의': 2, '나누어': 1, '딥러닝에서': 2, '변환해야': 1, '데이터': 1, '토큰화해서': 1, '수치': 1, '인식됩니다': 1, '단어로': 1, '벡터로': 1, '결과는': 1, '있습니다': 1, '사용할': 1, '토큰화된': 1, '수': 1}) \n",
      "\n",
      "{'텍스트의': 1, '딥러닝에서': 2, '각': 3, '단어를': 4, '나누어': 5, '토큰화합니다': 6, '단어로': 7, '토큰화해서': 8, '수치': 9, '데이터': 10, '벡터로': 11, '변환해야': 12, '인식됩니다': 13, '토큰화된': 14, '결과는': 15, '사용할': 16, '수': 17, '있습니다': 18} \n",
      "\n"
     ]
    }
   ],
   "source": [
    "#케라스에서 제공하는 BOW를 수행하는 함수 Tokenizer\n",
    "from tensorflow.keras.preprocessing.text import Tokenizer\n",
    "\n",
    "docs = ['텍스트의 각 단어를 나누어 토큰화합니다.',\n",
    "        '텍스트의 단어로 토큰화해서 수치 데이터 벡터로 변환해야 딥러닝에서 인식됩니다.',\n",
    "       '토큰화된 결과는 딥러닝에서 사용할 수 있습니다.']\n",
    "\n",
    "tokenizer = Tokenizer()\n",
    "tokenizer.fit_on_texts(docs)\n",
    "\n",
    "print(tokenizer.word_counts, '\\n') #단어 빈도수 계산 결과 출력됨 (OrderedDict 형태로)\n",
    "print(tokenizer.document_count, '\\n') #문장 개수 출력\n",
    "print(tokenizer.word_docs, '\\n')  #각 단어가 몇개의 문장에 출현하는지 출력\n",
    "print(tokenizer.word_index, '\\n')  #각 단어에 부여된 인덱스 값 출력"
   ]
  },
  {
   "cell_type": "code",
   "execution_count": 3,
   "metadata": {},
   "outputs": [
    {
     "name": "stdout",
     "output_type": "stream",
     "text": [
      "{'텍스트의': 1, '각': 2, '단어를': 3, '나누어': 4, '토큰화합니다': 5}\n",
      "[[1, 2, 3, 4, 5]]\n"
     ]
    }
   ],
   "source": [
    "######### 케라스에서 제공하는 텍스트를 원핫인코딩 변환 함수 : to_categorical #########\n",
    "text = ['텍스트의 각 단어를 나누어 토큰화합니다.']\n",
    "\n",
    "token = Tokenizer()\n",
    "token.fit_on_texts(text)\n",
    "\n",
    "print(token.word_index)\n",
    "\n",
    "x = token.texts_to_sequences(text) #토큰의 인덱스로 배열 생성\n",
    "\n",
    "print(x)"
   ]
  },
  {
   "cell_type": "code",
   "execution_count": 4,
   "metadata": {},
   "outputs": [
    {
     "name": "stdout",
     "output_type": "stream",
     "text": [
      "[[[0. 1. 0. 0. 0. 0.]\n",
      "  [0. 0. 1. 0. 0. 0.]\n",
      "  [0. 0. 0. 1. 0. 0.]\n",
      "  [0. 0. 0. 0. 1. 0.]\n",
      "  [0. 0. 0. 0. 0. 1.]]]\n"
     ]
    },
    {
     "name": "stderr",
     "output_type": "stream",
     "text": [
      "Using TensorFlow backend.\n"
     ]
    }
   ],
   "source": [
    "#케라스 원핫인코딩\n",
    "from keras.utils import to_categorical\n",
    "\n",
    "word_size = len(token.word_index) + 1\n",
    "x = to_categorical(x, num_classes=word_size)\n",
    "\n",
    "print(x)"
   ]
  },
  {
   "cell_type": "code",
   "execution_count": 5,
   "metadata": {},
   "outputs": [],
   "source": [
    "#텍스트의 원핫인코딩 변환은 그대로 사용하기에는 벡터 길이가 너무 길어짐\n",
    "#공간 낭비를 줄이기 위해 단어 임베딩 방법을 적용\n",
    "#각 단어 간의 유사도를 계산해서 배열을 새로운 수치값으로 변환\n",
    "# from keras.layers import Embedding\n",
    "\n",
    "# model = Sequential()\n",
    "# #model.add(Embedding(입력 단어 수, 출력될 벡터 크기, input_))"
   ]
  },
  {
   "cell_type": "code",
   "execution_count": 6,
   "metadata": {},
   "outputs": [
    {
     "name": "stdout",
     "output_type": "stream",
     "text": [
      "{'너무': 1, '재밌어요': 2, '최고예요': 3, '참': 4, '잘': 5, '만든': 6, '영화예요': 7, '추천하고': 8, '싶은': 9, '영화입니다': 10, '킬링타임용으로': 11, '좋아요': 12, '글쎄요': 13, '별로예요': 14, '생각보다': 15, '지루합니다': 16, '재미없었어요': 17, '그냥': 18, '그래요': 19, '3류': 20, '영화': 21}\n",
      "토큰화 결과  [[1, 2], [3], [4, 5, 6, 7], [8, 9, 10], [11, 12], [13], [14], [15, 16], [17], [18, 19], [20, 21]]\n",
      "\n",
      "패딩 결과:\n",
      " [[ 0  0  1  2]\n",
      " [ 0  0  0  3]\n",
      " [ 4  5  6  7]\n",
      " [ 0  8  9 10]\n",
      " [ 0  0 11 12]\n",
      " [ 0  0  0 13]\n",
      " [ 0  0  0 14]\n",
      " [ 0  0 15 16]\n",
      " [ 0  0  0 17]\n",
      " [ 0  0 18 19]\n",
      " [ 0  0 20 21]]\n"
     ]
    }
   ],
   "source": [
    "#텍스트 긍정, 부정 예측\n",
    "import numpy as np\n",
    "docs = [\"너무 재밌어요\", \"최고예요\", \"참 잘 만든 영화예요\",\n",
    "        \"추천하고 싶은 영화입니다.\", \"킬링타임용으로 좋아요\",\n",
    "        \"글쎄요\", \"별로예요\", \"생각보다 지루합니다.\",\n",
    "        \"재미없었어요\", \"그냥 그래요\", \"3류 영화\"]\n",
    "classes=np.array([1, 1, 1, 1, 1, 0, 0, 0, 0, 0, 0])\n",
    "\n",
    "token = Tokenizer()\n",
    "token.fit_on_texts(docs) \n",
    "print(token.word_index)\n",
    "x = token.texts_to_sequences(docs)  #토큰의 인덱스로 채운 배열 생성\n",
    "print(\"토큰화 결과 \" , x)\n",
    "\n",
    "# 서로 다른 길이의 데이터를 패딩으로 맞춰줍니다.\n",
    "from tensorflow.keras.preprocessing.sequence import pad_sequences\n",
    "\n",
    "padded_x = pad_sequences(x, 4)\n",
    "print(\"\\n패딩 결과:\\n\", padded_x)\n",
    "#오른쪽 정렬"
   ]
  },
  {
   "cell_type": "code",
   "execution_count": 7,
   "metadata": {},
   "outputs": [
    {
     "name": "stdout",
     "output_type": "stream",
     "text": [
      "WARNING:tensorflow:From C:\\Users\\student\\AppData\\Roaming\\Python\\Python37\\site-packages\\tensorflow\\python\\ops\\nn_impl.py:180: add_dispatch_support.<locals>.wrapper (from tensorflow.python.ops.array_ops) is deprecated and will be removed in a future version.\n",
      "Instructions for updating:\n",
      "Use tf.where in 2.0, which has the same broadcast rule as np.where\n",
      "WARNING:tensorflow:From C:\\Users\\student\\anaconda3\\envs\\mypy\\lib\\site-packages\\keras\\backend\\tensorflow_backend.py:422: The name tf.global_variables is deprecated. Please use tf.compat.v1.global_variables instead.\n",
      "\n",
      "Epoch 1/20\n",
      "11/11 [==============================] - 0s 35ms/step - loss: 0.6932 - accuracy: 0.2727\n",
      "Epoch 2/20\n",
      "11/11 [==============================] - 0s 362us/step - loss: 0.6910 - accuracy: 0.6364\n",
      "Epoch 3/20\n",
      "11/11 [==============================] - 0s 363us/step - loss: 0.6887 - accuracy: 0.6364\n",
      "Epoch 4/20\n",
      "11/11 [==============================] - 0s 272us/step - loss: 0.6864 - accuracy: 0.7273\n",
      "Epoch 5/20\n",
      "11/11 [==============================] - 0s 361us/step - loss: 0.6841 - accuracy: 0.7273\n",
      "Epoch 6/20\n",
      "11/11 [==============================] - 0s 361us/step - loss: 0.6818 - accuracy: 0.7273\n",
      "Epoch 7/20\n",
      "11/11 [==============================] - 0s 363us/step - loss: 0.6795 - accuracy: 0.7273\n",
      "Epoch 8/20\n",
      "11/11 [==============================] - 0s 544us/step - loss: 0.6772 - accuracy: 0.8182\n",
      "Epoch 9/20\n",
      "11/11 [==============================] - 0s 364us/step - loss: 0.6749 - accuracy: 0.9091\n",
      "Epoch 10/20\n",
      "11/11 [==============================] - 0s 544us/step - loss: 0.6726 - accuracy: 0.9091\n",
      "Epoch 11/20\n",
      "11/11 [==============================] - 0s 363us/step - loss: 0.6703 - accuracy: 0.9091\n",
      "Epoch 12/20\n",
      "11/11 [==============================] - 0s 363us/step - loss: 0.6680 - accuracy: 0.9091\n",
      "Epoch 13/20\n",
      "11/11 [==============================] - 0s 364us/step - loss: 0.6657 - accuracy: 0.9091\n",
      "Epoch 14/20\n",
      "11/11 [==============================] - 0s 363us/step - loss: 0.6634 - accuracy: 0.9091\n",
      "Epoch 15/20\n",
      "11/11 [==============================] - 0s 545us/step - loss: 0.6610 - accuracy: 0.8182\n",
      "Epoch 16/20\n",
      "11/11 [==============================] - 0s 272us/step - loss: 0.6587 - accuracy: 0.9091\n",
      "Epoch 17/20\n",
      "11/11 [==============================] - 0s 363us/step - loss: 0.6564 - accuracy: 0.9091\n",
      "Epoch 18/20\n",
      "11/11 [==============================] - 0s 453us/step - loss: 0.6540 - accuracy: 0.9091\n",
      "Epoch 19/20\n",
      "11/11 [==============================] - 0s 273us/step - loss: 0.6516 - accuracy: 0.9091\n",
      "Epoch 20/20\n",
      "11/11 [==============================] - 0s 454us/step - loss: 0.6492 - accuracy: 0.9091\n",
      "11/11 [==============================] - 0s 2ms/step\n",
      "\n",
      "Accuracy: 0.9091\n"
     ]
    }
   ],
   "source": [
    "from keras.models import Sequential\n",
    "from keras.layers import Dense, Activation, Flatten, Embedding\n",
    "\n",
    "word_size = len(token.word_index) + 1\n",
    "\n",
    "model = Sequential()\n",
    "model.add(Embedding(word_size, 8, input_length=4))\n",
    "model.add(Flatten())\n",
    "model.add(Dense(1, activation='sigmoid'))\n",
    "model.compile(optimizer='adam',\n",
    "              loss='binary_crossentropy',\n",
    "              metrics=['accuracy'])\n",
    "model.fit(padded_x, classes, epochs=20)\n",
    "\n",
    "print('\\nAccuracy: %.4f' % (model.evaluate(padded_x, classes)[1]))"
   ]
  }
 ],
 "metadata": {
  "kernelspec": {
   "display_name": "Python 3",
   "language": "python",
   "name": "python3"
  },
  "language_info": {
   "codemirror_mode": {
    "name": "ipython",
    "version": 3
   },
   "file_extension": ".py",
   "mimetype": "text/x-python",
   "name": "python",
   "nbconvert_exporter": "python",
   "pygments_lexer": "ipython3",
   "version": "3.7.7"
  }
 },
 "nbformat": 4,
 "nbformat_minor": 4
}
