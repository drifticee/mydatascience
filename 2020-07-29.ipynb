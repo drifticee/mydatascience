{
 "cells": [
  {
   "cell_type": "code",
   "execution_count": 22,
   "metadata": {},
   "outputs": [],
   "source": [
    "#셀레니움으로 웹 크롤링하기 selenium\n",
    "\n",
    "from selenium import webdriver\n",
    "url = 'http://www.opinet.co.kr/searRgSelect.do'\n",
    "driver = webdriver.Chrome('C:\\\\users\\\\student\\\\chromedriver.exe')\n",
    "driver.implicitly_wait(3)"
   ]
  },
  {
   "cell_type": "code",
   "execution_count": 23,
   "metadata": {},
   "outputs": [],
   "source": [
    "driver.get(url)"
   ]
  },
  {
   "cell_type": "code",
   "execution_count": 20,
   "metadata": {},
   "outputs": [
    {
     "data": {
      "text/plain": [
       "True"
      ]
     },
     "execution_count": 20,
     "metadata": {},
     "output_type": "execute_result"
    }
   ],
   "source": [
    "driver.save_screenshot('001.png')\n",
    "#현재 폴더에 저장 - jupyter notebook이 실행되는 'C:\\\\users\\\\student\\\\'"
   ]
  },
  {
   "cell_type": "code",
   "execution_count": 24,
   "metadata": {},
   "outputs": [],
   "source": [
    "cheapy = driver.find_element_by_xpath('''//*[@id=\"quick_ul\"]/li[2]/a''')\n",
    "#main 사이트 접속 후 '싼 주유소 찾기' 서비스 클릭해서 접속\n",
    "cheapy.click()"
   ]
  },
  {
   "cell_type": "code",
   "execution_count": 32,
   "metadata": {},
   "outputs": [],
   "source": [
    "gu_list_raw = driver.find_element_by_xpath('''//*[@id=\"SIGUNGU_NM0\"]''')\n",
    "# F12 - 왼쪽 위의 'Select an element in the page to inspect it. Ctrl+Shift+C'\n",
    "# 눌러 원하는 버튼의 html 주소 검색 - 해당 버튼 우클릭 - Copy - Copy XPath 해서 XPath 값 복사\n",
    "gu_list = gu_list_raw.find_elements_by_tag_name('option')\n",
    "# tag가 option인 항목들의 리스트 만들기"
   ]
  },
  {
   "cell_type": "code",
   "execution_count": 34,
   "metadata": {},
   "outputs": [
    {
     "data": {
      "text/plain": [
       "['강남구',\n",
       " '강동구',\n",
       " '강북구',\n",
       " '강서구',\n",
       " '관악구',\n",
       " '광진구',\n",
       " '구로구',\n",
       " '금천구',\n",
       " '노원구',\n",
       " '도봉구',\n",
       " '동대문구',\n",
       " '동작구',\n",
       " '마포구',\n",
       " '서대문구',\n",
       " '서초구',\n",
       " '성동구',\n",
       " '성북구',\n",
       " '송파구',\n",
       " '양천구',\n",
       " '영등포구',\n",
       " '용산구',\n",
       " '은평구',\n",
       " '종로구',\n",
       " '중구',\n",
       " '중랑구']"
      ]
     },
     "execution_count": 34,
     "metadata": {},
     "output_type": "execute_result"
    }
   ],
   "source": [
    "gu_names = [option.get_attribute('value') for option in gu_list]\n",
    "# html을 보면 <option value=\"강남구\" data-gis=\"\">강남구</option> 으로 되어있음 - option value의 값을 다 가져와 리스트로 만듦\n",
    "gu_names.remove('')\n",
    "gu_names"
   ]
  },
  {
   "cell_type": "code",
   "execution_count": 36,
   "metadata": {},
   "outputs": [],
   "source": [
    "element = driver.find_element_by_id('SIGUNGU_NM0')\n",
    "element.send_keys(gu_names[0])\n",
    "#위 옵션 중 index 0의 강남구 선택"
   ]
  },
  {
   "cell_type": "code",
   "execution_count": 37,
   "metadata": {},
   "outputs": [],
   "source": [
    "xpath = '''//*[@id=\"searRgSelect\"]/span'''\n",
    "element_sel_gu = driver.find_element_by_xpath(xpath).click()\n",
    "# 조회 버튼 클릭"
   ]
  },
  {
   "cell_type": "code",
   "execution_count": 38,
   "metadata": {},
   "outputs": [],
   "source": [
    "xpath = '''//*[@id=\"glopopd_excel\"]/span'''\n",
    "element_get_excel = driver.find_element_by_xpath(xpath).click()\n",
    "# 엑셀 저장 버튼 클릭"
   ]
  },
  {
   "cell_type": "code",
   "execution_count": 39,
   "metadata": {},
   "outputs": [
    {
     "name": "stderr",
     "output_type": "stream",
     "text": [
      "C:\\Users\\student\\anaconda3\\lib\\site-packages\\ipykernel_launcher.py:4: TqdmDeprecationWarning: This function will be removed in tqdm==5.0.0\n",
      "Please use `tqdm.notebook.tqdm` instead of `tqdm.tqdm_notebook`\n",
      "  after removing the cwd from sys.path.\n"
     ]
    },
    {
     "data": {
      "application/vnd.jupyter.widget-view+json": {
       "model_id": "71fee445e08a449b9799a5ec95555b8c",
       "version_major": 2,
       "version_minor": 0
      },
      "text/plain": [
       "HBox(children=(FloatProgress(value=0.0, max=25.0), HTML(value='')))"
      ]
     },
     "metadata": {},
     "output_type": "display_data"
    },
    {
     "name": "stdout",
     "output_type": "stream",
     "text": [
      "\n"
     ]
    }
   ],
   "source": [
    "'''\n",
    "import time\n",
    "from tqdm import notebook.tqdm\n",
    "\n",
    "for gu in notebook.tqdm(gu_names):\n",
    "    element = driver.find_element_by_id('SIGUNGU_NM0')\n",
    "    element.send_keys(gu)\n",
    "    \n",
    "    time.sleep(2)\n",
    "    #2초 쉬고\n",
    "    \n",
    "    xpath = '''//*[@id=\"searRgSelect\"]/span'''\n",
    "    element_sel_gu = driver.find_element_by_xpath(xpath).click()\n",
    "    \n",
    "    time.sleep(1)\n",
    "    \n",
    "    xpath = '''//*[@id=\"glopopd_excel\"]/span'''\n",
    "    element_get_excel = driver.find_element_by_xpath(xpath).click()\n",
    "    \n",
    "    time.sleep(1)\n",
    "'''\n",
    "#서울의 모든 구 정보 받는 코드"
   ]
  },
  {
   "cell_type": "code",
   "execution_count": 41,
   "metadata": {},
   "outputs": [],
   "source": [
    "driver.close()\n",
    "#selenium 창 닫음"
   ]
  },
  {
   "cell_type": "code",
   "execution_count": 46,
   "metadata": {},
   "outputs": [
    {
     "name": "stdout",
     "output_type": "stream",
     "text": [
      "['지역_위치별(주유소) (1).xls',\n",
      " '지역_위치별(주유소) (10).xls',\n",
      " '지역_위치별(주유소) (11).xls',\n",
      " '지역_위치별(주유소) (12).xls',\n",
      " '지역_위치별(주유소) (13).xls',\n",
      " '지역_위치별(주유소) (14).xls',\n",
      " '지역_위치별(주유소) (15).xls',\n",
      " '지역_위치별(주유소) (16).xls',\n",
      " '지역_위치별(주유소) (17).xls',\n",
      " '지역_위치별(주유소) (18).xls',\n",
      " '지역_위치별(주유소) (19).xls',\n",
      " '지역_위치별(주유소) (2).xls',\n",
      " '지역_위치별(주유소) (20).xls',\n",
      " '지역_위치별(주유소) (21).xls',\n",
      " '지역_위치별(주유소) (22).xls',\n",
      " '지역_위치별(주유소) (23).xls',\n",
      " '지역_위치별(주유소) (24).xls',\n",
      " '지역_위치별(주유소) (25).xls',\n",
      " '지역_위치별(주유소) (3).xls',\n",
      " '지역_위치별(주유소) (4).xls',\n",
      " '지역_위치별(주유소) (5).xls',\n",
      " '지역_위치별(주유소) (6).xls',\n",
      " '지역_위치별(주유소) (7).xls',\n",
      " '지역_위치별(주유소) (8).xls',\n",
      " '지역_위치별(주유소) (9).xls']\n"
     ]
    }
   ],
   "source": [
    "import os\n",
    "import pprint\n",
    "\n",
    "path = \"C:\\\\Users\\\\student\\\\Downloads\\\\\"\n",
    "file_list = os.listdir(path)\n",
    "stations_files = [file for file in file_list if file.endswith(\".xls\")]\n",
    "\n",
    "pprint.pprint(file_list_xls)"
   ]
  },
  {
   "cell_type": "code",
   "execution_count": null,
   "metadata": {},
   "outputs": [],
   "source": [
    "'''\n",
    "def replace_n(soup_html):\n",
    "    br_to_newlines = soup_html.find_all('br')\n",
    "    for br_to_n in br_to_newlines:\n",
    "        br_to_n.replace_with('\\n')\n",
    "    return soup_html\n",
    "'''"
   ]
  },
  {
   "cell_type": "code",
   "execution_count": 48,
   "metadata": {},
   "outputs": [],
   "source": [
    "import pandas as pd\n",
    "\n",
    "tmp_raw = []\n",
    "\n",
    "for file_name in stations_files:\n",
    "    tmp = pd.read_excel(path + file_name, header = 2)\n",
    "    tmp_raw.append(tmp)\n",
    "    \n",
    "station_raw = pd.concat(tmp_raw)"
   ]
  },
  {
   "cell_type": "code",
   "execution_count": 49,
   "metadata": {},
   "outputs": [
    {
     "name": "stdout",
     "output_type": "stream",
     "text": [
      "<class 'pandas.core.frame.DataFrame'>\n",
      "Int64Index: 502 entries, 0 to 14\n",
      "Data columns (total 10 columns):\n",
      " #   Column  Non-Null Count  Dtype \n",
      "---  ------  --------------  ----- \n",
      " 0   지역      502 non-null    object\n",
      " 1   상호      502 non-null    object\n",
      " 2   주소      502 non-null    object\n",
      " 3   상표      502 non-null    object\n",
      " 4   전화번호    502 non-null    object\n",
      " 5   셀프여부    502 non-null    object\n",
      " 6   고급휘발유   502 non-null    object\n",
      " 7   휘발유     502 non-null    object\n",
      " 8   경유      502 non-null    object\n",
      " 9   실내등유    502 non-null    object\n",
      "dtypes: object(10)\n",
      "memory usage: 43.1+ KB\n"
     ]
    }
   ],
   "source": [
    "station_raw.info()"
   ]
  },
  {
   "cell_type": "code",
   "execution_count": 68,
   "metadata": {},
   "outputs": [
    {
     "data": {
      "text/html": [
       "<div>\n",
       "<style scoped>\n",
       "    .dataframe tbody tr th:only-of-type {\n",
       "        vertical-align: middle;\n",
       "    }\n",
       "\n",
       "    .dataframe tbody tr th {\n",
       "        vertical-align: top;\n",
       "    }\n",
       "\n",
       "    .dataframe thead th {\n",
       "        text-align: right;\n",
       "    }\n",
       "</style>\n",
       "<table border=\"1\" class=\"dataframe\">\n",
       "  <thead>\n",
       "    <tr style=\"text-align: right;\">\n",
       "      <th></th>\n",
       "      <th>지역</th>\n",
       "      <th>상호</th>\n",
       "      <th>주소</th>\n",
       "      <th>상표</th>\n",
       "      <th>전화번호</th>\n",
       "      <th>셀프여부</th>\n",
       "      <th>고급휘발유</th>\n",
       "      <th>휘발유</th>\n",
       "      <th>경유</th>\n",
       "      <th>실내등유</th>\n",
       "    </tr>\n",
       "  </thead>\n",
       "  <tbody>\n",
       "    <tr>\n",
       "      <th>0</th>\n",
       "      <td>서울특별시</td>\n",
       "      <td>(주)보성 세곡주유소</td>\n",
       "      <td>서울 강남구  헌릉로 731 (세곡동)</td>\n",
       "      <td>SK에너지</td>\n",
       "      <td>02-445-6870</td>\n",
       "      <td>Y</td>\n",
       "      <td>-</td>\n",
       "      <td>1375</td>\n",
       "      <td>1175</td>\n",
       "      <td>-</td>\n",
       "    </tr>\n",
       "    <tr>\n",
       "      <th>1</th>\n",
       "      <td>서울특별시</td>\n",
       "      <td>현대오일뱅크 도곡셀프주유소</td>\n",
       "      <td>서울 강남구  남부순환로 2718 (도곡2동)</td>\n",
       "      <td>현대오일뱅크</td>\n",
       "      <td>02-529-5101</td>\n",
       "      <td>Y</td>\n",
       "      <td>1557</td>\n",
       "      <td>1383</td>\n",
       "      <td>1181</td>\n",
       "      <td>-</td>\n",
       "    </tr>\n",
       "    <tr>\n",
       "      <th>2</th>\n",
       "      <td>서울특별시</td>\n",
       "      <td>오일프러스 셀프</td>\n",
       "      <td>서울 강남구 남부순환로 2651 (도곡동)</td>\n",
       "      <td>SK에너지</td>\n",
       "      <td>02-3462-5100</td>\n",
       "      <td>Y</td>\n",
       "      <td>1549</td>\n",
       "      <td>1383</td>\n",
       "      <td>1181</td>\n",
       "      <td>-</td>\n",
       "    </tr>\n",
       "    <tr>\n",
       "      <th>3</th>\n",
       "      <td>서울특별시</td>\n",
       "      <td>GS칼텍스(주)직영 산성주유소</td>\n",
       "      <td>서울 강남구 헌릉로 730 (세곡동)</td>\n",
       "      <td>GS칼텍스</td>\n",
       "      <td>02-2226-4963</td>\n",
       "      <td>Y</td>\n",
       "      <td>-</td>\n",
       "      <td>1385</td>\n",
       "      <td>1195</td>\n",
       "      <td>-</td>\n",
       "    </tr>\n",
       "    <tr>\n",
       "      <th>4</th>\n",
       "      <td>서울특별시</td>\n",
       "      <td>현대오일뱅크(주) 유진주유소</td>\n",
       "      <td>서울 강남구 논현로 152 (도곡동)</td>\n",
       "      <td>현대오일뱅크</td>\n",
       "      <td>02-3462-5215</td>\n",
       "      <td>N</td>\n",
       "      <td>1572</td>\n",
       "      <td>1398</td>\n",
       "      <td>1196</td>\n",
       "      <td>1090</td>\n",
       "    </tr>\n",
       "  </tbody>\n",
       "</table>\n",
       "</div>"
      ],
      "text/plain": [
       "      지역                상호                         주소      상표          전화번호  \\\n",
       "0  서울특별시       (주)보성 세곡주유소      서울 강남구  헌릉로 731 (세곡동)   SK에너지   02-445-6870   \n",
       "1  서울특별시    현대오일뱅크 도곡셀프주유소  서울 강남구  남부순환로 2718 (도곡2동)  현대오일뱅크   02-529-5101   \n",
       "2  서울특별시          오일프러스 셀프    서울 강남구 남부순환로 2651 (도곡동)   SK에너지  02-3462-5100   \n",
       "3  서울특별시  GS칼텍스(주)직영 산성주유소       서울 강남구 헌릉로 730 (세곡동)   GS칼텍스  02-2226-4963   \n",
       "4  서울특별시   현대오일뱅크(주) 유진주유소       서울 강남구 논현로 152 (도곡동)  현대오일뱅크  02-3462-5215   \n",
       "\n",
       "  셀프여부 고급휘발유   휘발유    경유  실내등유  \n",
       "0    Y     -  1375  1175     -  \n",
       "1    Y  1557  1383  1181     -  \n",
       "2    Y  1549  1383  1181     -  \n",
       "3    Y     -  1385  1195     -  \n",
       "4    N  1572  1398  1196  1090  "
      ]
     },
     "execution_count": 68,
     "metadata": {},
     "output_type": "execute_result"
    }
   ],
   "source": [
    "station_raw.head()"
   ]
  },
  {
   "cell_type": "code",
   "execution_count": 115,
   "metadata": {},
   "outputs": [],
   "source": [
    "import numpy as np\n",
    "straw_new = np.where(station_raw == '-', np.NaN, station_raw)"
   ]
  },
  {
   "cell_type": "code",
   "execution_count": 116,
   "metadata": {},
   "outputs": [],
   "source": [
    "df_straw = pd.DataFrame(straw_new, columns=['지역', '상호', '주소', '상표', '전화번호', '셀프여부', '고급휘발유', '휘발유', '경유', '실내등유'])"
   ]
  },
  {
   "cell_type": "code",
   "execution_count": 133,
   "metadata": {},
   "outputs": [
    {
     "name": "stdout",
     "output_type": "stream",
     "text": [
      "<class 'pandas.core.frame.DataFrame'>\n",
      "RangeIndex: 502 entries, 0 to 501\n",
      "Data columns (total 10 columns):\n",
      " #   Column  Non-Null Count  Dtype \n",
      "---  ------  --------------  ----- \n",
      " 0   지역      502 non-null    object\n",
      " 1   상호      502 non-null    object\n",
      " 2   주소      502 non-null    object\n",
      " 3   상표      502 non-null    object\n",
      " 4   전화번호    502 non-null    object\n",
      " 5   셀프여부    502 non-null    object\n",
      " 6   고급휘발유   218 non-null    object\n",
      " 7   휘발유     493 non-null    object\n",
      " 8   경유      493 non-null    object\n",
      " 9   실내등유    159 non-null    object\n",
      "dtypes: object(10)\n",
      "memory usage: 39.3+ KB\n"
     ]
    }
   ],
   "source": [
    "df_straw.info()\n",
    "#휘발유, 경유 가격 등도 object 타입이므로 numeric으로 전환해줌"
   ]
  },
  {
   "cell_type": "code",
   "execution_count": 134,
   "metadata": {},
   "outputs": [],
   "source": [
    "df_straw['휘발유_num'] = pd.to_numeric(df_straw['휘발유'])"
   ]
  },
  {
   "cell_type": "code",
   "execution_count": 135,
   "metadata": {},
   "outputs": [
    {
     "name": "stdout",
     "output_type": "stream",
     "text": [
      "<class 'pandas.core.frame.DataFrame'>\n",
      "RangeIndex: 502 entries, 0 to 501\n",
      "Data columns (total 11 columns):\n",
      " #   Column   Non-Null Count  Dtype  \n",
      "---  ------   --------------  -----  \n",
      " 0   지역       502 non-null    object \n",
      " 1   상호       502 non-null    object \n",
      " 2   주소       502 non-null    object \n",
      " 3   상표       502 non-null    object \n",
      " 4   전화번호     502 non-null    object \n",
      " 5   셀프여부     502 non-null    object \n",
      " 6   고급휘발유    218 non-null    object \n",
      " 7   휘발유      493 non-null    object \n",
      " 8   경유       493 non-null    object \n",
      " 9   실내등유     159 non-null    object \n",
      " 10  휘발유_num  493 non-null    float64\n",
      "dtypes: float64(1), object(10)\n",
      "memory usage: 43.3+ KB\n"
     ]
    }
   ],
   "source": [
    "df_straw.info()\n",
    "#float 타입의 '휘발유_num' 열 생성 완료"
   ]
  },
  {
   "cell_type": "code",
   "execution_count": 145,
   "metadata": {},
   "outputs": [
    {
     "data": {
      "text/html": [
       "<div>\n",
       "<style scoped>\n",
       "    .dataframe tbody tr th:only-of-type {\n",
       "        vertical-align: middle;\n",
       "    }\n",
       "\n",
       "    .dataframe tbody tr th {\n",
       "        vertical-align: top;\n",
       "    }\n",
       "\n",
       "    .dataframe thead th {\n",
       "        text-align: right;\n",
       "    }\n",
       "</style>\n",
       "<table border=\"1\" class=\"dataframe\">\n",
       "  <thead>\n",
       "    <tr style=\"text-align: right;\">\n",
       "      <th></th>\n",
       "      <th>휘발유_num</th>\n",
       "    </tr>\n",
       "    <tr>\n",
       "      <th>상호</th>\n",
       "      <th></th>\n",
       "    </tr>\n",
       "  </thead>\n",
       "  <tbody>\n",
       "    <tr>\n",
       "      <th>현대오일뱅크㈜직영 구로셀프주유소</th>\n",
       "      <td>1</td>\n",
       "    </tr>\n",
       "    <tr>\n",
       "      <th>(유)동하석유 힐탑셀프주유소</th>\n",
       "      <td>1</td>\n",
       "    </tr>\n",
       "    <tr>\n",
       "      <th>(주)MS주유소</th>\n",
       "      <td>1</td>\n",
       "    </tr>\n",
       "    <tr>\n",
       "      <th>(주)가재울뉴타운주유소</th>\n",
       "      <td>1</td>\n",
       "    </tr>\n",
       "    <tr>\n",
       "      <th>(주)강서오일</th>\n",
       "      <td>1</td>\n",
       "    </tr>\n",
       "    <tr>\n",
       "      <th>...</th>\n",
       "      <td>...</td>\n",
       "    </tr>\n",
       "    <tr>\n",
       "      <th>홍능주유소</th>\n",
       "      <td>1</td>\n",
       "    </tr>\n",
       "    <tr>\n",
       "      <th>화곡역주유소</th>\n",
       "      <td>1</td>\n",
       "    </tr>\n",
       "    <tr>\n",
       "      <th>화곡현대주유소</th>\n",
       "      <td>1</td>\n",
       "    </tr>\n",
       "    <tr>\n",
       "      <th>화랑대주유소</th>\n",
       "      <td>1</td>\n",
       "    </tr>\n",
       "    <tr>\n",
       "      <th>화성주유소</th>\n",
       "      <td>1</td>\n",
       "    </tr>\n",
       "  </tbody>\n",
       "</table>\n",
       "<p>497 rows × 1 columns</p>\n",
       "</div>"
      ],
      "text/plain": [
       "                    휘발유_num\n",
       "상호                         \n",
       " 현대오일뱅크㈜직영 구로셀프주유소        1\n",
       "(유)동하석유 힐탑셀프주유소           1\n",
       "(주)MS주유소                  1\n",
       "(주)가재울뉴타운주유소              1\n",
       "(주)강서오일                   1\n",
       "...                     ...\n",
       "홍능주유소                     1\n",
       "화곡역주유소                    1\n",
       "화곡현대주유소                   1\n",
       "화랑대주유소                    1\n",
       "화성주유소                     1\n",
       "\n",
       "[497 rows x 1 columns]"
      ]
     },
     "execution_count": 145,
     "metadata": {},
     "output_type": "execute_result"
    }
   ],
   "source": [
    "df_straw.pivot_table(index = ['상호'], values = ['휘발유_num'], aggfunc = 'count')\n",
    "#지역별 특정 주유소 데이터이므로 합쳐도 중복은 없는 것으로 보임"
   ]
  },
  {
   "cell_type": "code",
   "execution_count": 144,
   "metadata": {},
   "outputs": [
    {
     "data": {
      "text/html": [
       "<div>\n",
       "<style scoped>\n",
       "    .dataframe tbody tr th:only-of-type {\n",
       "        vertical-align: middle;\n",
       "    }\n",
       "\n",
       "    .dataframe tbody tr th {\n",
       "        vertical-align: top;\n",
       "    }\n",
       "\n",
       "    .dataframe thead th {\n",
       "        text-align: right;\n",
       "    }\n",
       "</style>\n",
       "<table border=\"1\" class=\"dataframe\">\n",
       "  <thead>\n",
       "    <tr style=\"text-align: right;\">\n",
       "      <th></th>\n",
       "      <th>휘발유_num</th>\n",
       "    </tr>\n",
       "    <tr>\n",
       "      <th>상표</th>\n",
       "      <th></th>\n",
       "    </tr>\n",
       "  </thead>\n",
       "  <tbody>\n",
       "    <tr>\n",
       "      <th>GS칼텍스</th>\n",
       "      <td>135</td>\n",
       "    </tr>\n",
       "    <tr>\n",
       "      <th>S-OIL</th>\n",
       "      <td>77</td>\n",
       "    </tr>\n",
       "    <tr>\n",
       "      <th>SK에너지</th>\n",
       "      <td>141</td>\n",
       "    </tr>\n",
       "    <tr>\n",
       "      <th>알뜰(ex)</th>\n",
       "      <td>1</td>\n",
       "    </tr>\n",
       "    <tr>\n",
       "      <th>알뜰주유소</th>\n",
       "      <td>11</td>\n",
       "    </tr>\n",
       "    <tr>\n",
       "      <th>자가상표</th>\n",
       "      <td>2</td>\n",
       "    </tr>\n",
       "    <tr>\n",
       "      <th>현대오일뱅크</th>\n",
       "      <td>126</td>\n",
       "    </tr>\n",
       "  </tbody>\n",
       "</table>\n",
       "</div>"
      ],
      "text/plain": [
       "        휘발유_num\n",
       "상표             \n",
       "GS칼텍스       135\n",
       "S-OIL        77\n",
       "SK에너지       141\n",
       "알뜰(ex)        1\n",
       "알뜰주유소        11\n",
       "자가상표          2\n",
       "현대오일뱅크      126"
      ]
     },
     "execution_count": 144,
     "metadata": {},
     "output_type": "execute_result"
    }
   ],
   "source": [
    "df_straw_gasoline_count = df_straw.pivot_table(index = ['상표'], values = ['휘발유_num'], aggfunc = 'count')\n",
    "df_straw_gasoline_count\n",
    "#상표별 주유소 수"
   ]
  },
  {
   "cell_type": "code",
   "execution_count": 146,
   "metadata": {},
   "outputs": [
    {
     "data": {
      "text/html": [
       "<div>\n",
       "<style scoped>\n",
       "    .dataframe tbody tr th:only-of-type {\n",
       "        vertical-align: middle;\n",
       "    }\n",
       "\n",
       "    .dataframe tbody tr th {\n",
       "        vertical-align: top;\n",
       "    }\n",
       "\n",
       "    .dataframe thead th {\n",
       "        text-align: right;\n",
       "    }\n",
       "</style>\n",
       "<table border=\"1\" class=\"dataframe\">\n",
       "  <thead>\n",
       "    <tr style=\"text-align: right;\">\n",
       "      <th></th>\n",
       "      <th>휘발유_num</th>\n",
       "    </tr>\n",
       "    <tr>\n",
       "      <th>상표</th>\n",
       "      <th></th>\n",
       "    </tr>\n",
       "  </thead>\n",
       "  <tbody>\n",
       "    <tr>\n",
       "      <th>GS칼텍스</th>\n",
       "      <td>197678.0</td>\n",
       "    </tr>\n",
       "    <tr>\n",
       "      <th>S-OIL</th>\n",
       "      <td>109526.0</td>\n",
       "    </tr>\n",
       "    <tr>\n",
       "      <th>SK에너지</th>\n",
       "      <td>210550.0</td>\n",
       "    </tr>\n",
       "    <tr>\n",
       "      <th>알뜰(ex)</th>\n",
       "      <td>1309.0</td>\n",
       "    </tr>\n",
       "    <tr>\n",
       "      <th>알뜰주유소</th>\n",
       "      <td>14943.0</td>\n",
       "    </tr>\n",
       "    <tr>\n",
       "      <th>자가상표</th>\n",
       "      <td>2796.0</td>\n",
       "    </tr>\n",
       "    <tr>\n",
       "      <th>현대오일뱅크</th>\n",
       "      <td>180051.0</td>\n",
       "    </tr>\n",
       "  </tbody>\n",
       "</table>\n",
       "</div>"
      ],
      "text/plain": [
       "         휘발유_num\n",
       "상표              \n",
       "GS칼텍스   197678.0\n",
       "S-OIL   109526.0\n",
       "SK에너지   210550.0\n",
       "알뜰(ex)    1309.0\n",
       "알뜰주유소    14943.0\n",
       "자가상표      2796.0\n",
       "현대오일뱅크  180051.0"
      ]
     },
     "execution_count": 146,
     "metadata": {},
     "output_type": "execute_result"
    }
   ],
   "source": [
    "df_straw_gasoline_sum = df_straw.pivot_table(index = ['상표'], values = ['휘발유_num'], aggfunc = 'sum')\n",
    "df_straw_gasoline_sum\n",
    "#상표별 휘발유 값 합계"
   ]
  },
  {
   "cell_type": "code",
   "execution_count": 147,
   "metadata": {},
   "outputs": [
    {
     "data": {
      "text/html": [
       "<div>\n",
       "<style scoped>\n",
       "    .dataframe tbody tr th:only-of-type {\n",
       "        vertical-align: middle;\n",
       "    }\n",
       "\n",
       "    .dataframe tbody tr th {\n",
       "        vertical-align: top;\n",
       "    }\n",
       "\n",
       "    .dataframe thead th {\n",
       "        text-align: right;\n",
       "    }\n",
       "</style>\n",
       "<table border=\"1\" class=\"dataframe\">\n",
       "  <thead>\n",
       "    <tr style=\"text-align: right;\">\n",
       "      <th></th>\n",
       "      <th>휘발유_num</th>\n",
       "    </tr>\n",
       "    <tr>\n",
       "      <th>상표</th>\n",
       "      <th></th>\n",
       "    </tr>\n",
       "  </thead>\n",
       "  <tbody>\n",
       "    <tr>\n",
       "      <th>GS칼텍스</th>\n",
       "      <td>1464.281481</td>\n",
       "    </tr>\n",
       "    <tr>\n",
       "      <th>S-OIL</th>\n",
       "      <td>1422.415584</td>\n",
       "    </tr>\n",
       "    <tr>\n",
       "      <th>SK에너지</th>\n",
       "      <td>1493.262411</td>\n",
       "    </tr>\n",
       "    <tr>\n",
       "      <th>알뜰(ex)</th>\n",
       "      <td>1309.000000</td>\n",
       "    </tr>\n",
       "    <tr>\n",
       "      <th>알뜰주유소</th>\n",
       "      <td>1358.454545</td>\n",
       "    </tr>\n",
       "    <tr>\n",
       "      <th>자가상표</th>\n",
       "      <td>1398.000000</td>\n",
       "    </tr>\n",
       "    <tr>\n",
       "      <th>현대오일뱅크</th>\n",
       "      <td>1428.976190</td>\n",
       "    </tr>\n",
       "  </tbody>\n",
       "</table>\n",
       "</div>"
      ],
      "text/plain": [
       "            휘발유_num\n",
       "상표                 \n",
       "GS칼텍스   1464.281481\n",
       "S-OIL   1422.415584\n",
       "SK에너지   1493.262411\n",
       "알뜰(ex)  1309.000000\n",
       "알뜰주유소   1358.454545\n",
       "자가상표    1398.000000\n",
       "현대오일뱅크  1428.976190"
      ]
     },
     "execution_count": 147,
     "metadata": {},
     "output_type": "execute_result"
    }
   ],
   "source": [
    "df_straw_gasoline_mean = df_straw_gasoline_sum / df_straw_gasoline_count\n",
    "df_straw_gasoline_mean\n",
    "#상표별 평균 휘발유 가격"
   ]
  },
  {
   "cell_type": "code",
   "execution_count": null,
   "metadata": {},
   "outputs": [],
   "source": [
    "#알뜰 주유소의 값이 젤 싼 걸로 보아 셀프 주유소인지가 값에 영향 끼칠 듯?\n"
   ]
  }
 ],
 "metadata": {
  "kernelspec": {
   "display_name": "Python 3",
   "language": "python",
   "name": "python3"
  },
  "language_info": {
   "codemirror_mode": {
    "name": "ipython",
    "version": 3
   },
   "file_extension": ".py",
   "mimetype": "text/x-python",
   "name": "python",
   "nbconvert_exporter": "python",
   "pygments_lexer": "ipython3",
   "version": "3.7.6"
  }
 },
 "nbformat": 4,
 "nbformat_minor": 4
}
