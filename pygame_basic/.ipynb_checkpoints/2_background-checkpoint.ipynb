{
 "cells": [
  {
   "cell_type": "code",
   "execution_count": 2,
   "metadata": {},
   "outputs": [],
   "source": [
    "import pygame\n",
    "\n",
    "pygame.init() #pygame은 초기화 필요\n",
    "\n",
    "#화면 크기 설정\n",
    "screen_width = 480\n",
    "screen_height = 640\n",
    "screen = pygame.display.set_mode((screen_width, screen_height))\n",
    "\n",
    "#화면 타이틀\n",
    "pygame.display.set_caption('Nado Game')\n",
    "\n",
    "#배경 이미지 불러오기\n",
    "background = pygame.image.load('C:\\\\users\\\\Yubin\\\\mypy\\\\pygame_basic\\\\background.png')\n",
    "\n",
    "#이벤트 루프\n",
    "running = True\n",
    "while running: #게임 진행 동안\n",
    "    for event in pygame.event.get(): #어떤 이벤트가 발생?\n",
    "        if event.type == pygame.QUIT: #게임 창을 닫으면 running 에 False를 줌\n",
    "            running = False\n",
    "    \n",
    "    screen.fill((0,0,255)) #rgb 값으로 배경 채우기\n",
    "    #screen.blit(background, (0,0)) #배경 그리기\n",
    "    pygame.display.update() #게임화면 다시 그리기!\n",
    "\n",
    "pygame.quit()"
   ]
  }
 ],
 "metadata": {
  "kernelspec": {
   "display_name": "Python 3",
   "language": "python",
   "name": "python3"
  },
  "language_info": {
   "codemirror_mode": {
    "name": "ipython",
    "version": 3
   },
   "file_extension": ".py",
   "mimetype": "text/x-python",
   "name": "python",
   "nbconvert_exporter": "python",
   "pygments_lexer": "ipython3",
   "version": "3.7.6"
  }
 },
 "nbformat": 4,
 "nbformat_minor": 4
}
