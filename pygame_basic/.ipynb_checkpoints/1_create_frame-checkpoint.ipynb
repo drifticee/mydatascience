{
 "cells": [
  {
   "cell_type": "code",
   "execution_count": 2,
   "metadata": {},
   "outputs": [
    {
     "name": "stdout",
     "output_type": "stream",
     "text": [
      "pygame 1.9.6\n",
      "Hello from the pygame community. https://www.pygame.org/contribute.html\n"
     ]
    }
   ],
   "source": [
    "import pygame"
   ]
  },
  {
   "cell_type": "code",
   "execution_count": 3,
   "metadata": {},
   "outputs": [
    {
     "data": {
      "text/plain": [
       "(6, 0)"
      ]
     },
     "execution_count": 3,
     "metadata": {},
     "output_type": "execute_result"
    }
   ],
   "source": [
    "pygame.init() #pygame은 초기화 필요"
   ]
  },
  {
   "cell_type": "code",
   "execution_count": 6,
   "metadata": {},
   "outputs": [],
   "source": [
    "#화면 크기 설정\n",
    "screen_width = 480\n",
    "screen_height = 640\n",
    "screen = pygame.display.set_mode((screen_width, screen_height))\n",
    "\n",
    "#화면 타이틀\n",
    "pygame.display.set_caption('Nado Game')\n",
    "\n",
    "#이벤트 루프\n",
    "running = True\n",
    "while running: #게임 진행 동안\n",
    "    for event in pygame.event.get(): #어떤 이벤트가 발생?\n",
    "        if event.type == pygame.QUIT: #게임 창을 닫으면 running 에 False를 줌\n",
    "            running = False\n",
    "pygame.quit()"
   ]
  }
 ],
 "metadata": {
  "kernelspec": {
   "display_name": "Python 3",
   "language": "python",
   "name": "python3"
  },
  "language_info": {
   "codemirror_mode": {
    "name": "ipython",
    "version": 3
   },
   "file_extension": ".py",
   "mimetype": "text/x-python",
   "name": "python",
   "nbconvert_exporter": "python",
   "pygments_lexer": "ipython3",
   "version": "3.7.6"
  }
 },
 "nbformat": 4,
 "nbformat_minor": 4
}
