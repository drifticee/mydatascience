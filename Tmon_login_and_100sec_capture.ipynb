{
 "cells": [
  {
   "cell_type": "code",
   "execution_count": 6,
   "metadata": {},
   "outputs": [],
   "source": [
    "from selenium import webdriver\n",
    "from selenium.webdriver.common.keys import Keys\n",
    "import time"
   ]
  },
  {
   "cell_type": "code",
   "execution_count": 7,
   "metadata": {},
   "outputs": [],
   "source": [
    "browser = webdriver.Firefox()\n",
    "browser.get('https://login.tmon.co.kr/user/loginform?return_url=')\n",
    "browser.implicitly_wait(10)"
   ]
  },
  {
   "cell_type": "code",
   "execution_count": 8,
   "metadata": {},
   "outputs": [],
   "source": [
    "myid = 'enter id here'\n",
    "mypw = 'enter pw here'\n",
    "\n",
    "elem_login = browser.find_element_by_id('userid')\n",
    "elem_login.clear()\n",
    "elem_login.send_keys(myid)\n",
    "elem_login = browser.find_element_by_id('pwd')\n",
    "elem_login.clear()\n",
    "elem_login.send_keys(mypw)\n",
    "elem_login.send_keys(Keys.RETURN)"
   ]
  },
  {
   "cell_type": "code",
   "execution_count": 9,
   "metadata": {},
   "outputs": [],
   "source": [
    "Xpath = '/html/body/div[2]/div/button'\n",
    "browser.find_element_by_xpath(Xpath).click()"
   ]
  },
  {
   "cell_type": "code",
   "execution_count": 10,
   "metadata": {},
   "outputs": [],
   "source": [
    "Xpath = '''/html/body/div[3]/header/div/nav/div/ul/li[6]/a'''\n",
    "browser.find_element_by_xpath(Xpath).click()"
   ]
  },
  {
   "cell_type": "code",
   "execution_count": 12,
   "metadata": {},
   "outputs": [],
   "source": [
    "count = 1\n",
    "while(count < 10):\n",
    "    browser.get_screenshot_as_file('C:\\\\Users\\\\Yubin\\\\mypy\\\\images\\\\tmon_capture\\\\capture{0:02d}.png'.format(count))\n",
    "    count += 1\n",
    "    time.sleep(5)\n",
    "    browser.refresh()\n",
    "browser.quit()"
   ]
  },
  {
   "cell_type": "code",
   "execution_count": null,
   "metadata": {},
   "outputs": [],
   "source": []
  }
 ],
 "metadata": {
  "kernelspec": {
   "display_name": "Python 3",
   "language": "python",
   "name": "python3"
  },
  "language_info": {
   "codemirror_mode": {
    "name": "ipython",
    "version": 3
   },
   "file_extension": ".py",
   "mimetype": "text/x-python",
   "name": "python",
   "nbconvert_exporter": "python",
   "pygments_lexer": "ipython3",
   "version": "3.7.6"
  }
 },
 "nbformat": 4,
 "nbformat_minor": 4
}
