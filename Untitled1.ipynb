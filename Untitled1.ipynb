{
 "cells": [
  {
   "cell_type": "code",
   "execution_count": 13,
   "metadata": {},
   "outputs": [
    {
     "data": {
      "text/html": [
       "<div>\n",
       "<style scoped>\n",
       "    .dataframe tbody tr th:only-of-type {\n",
       "        vertical-align: middle;\n",
       "    }\n",
       "\n",
       "    .dataframe tbody tr th {\n",
       "        vertical-align: top;\n",
       "    }\n",
       "\n",
       "    .dataframe thead th {\n",
       "        text-align: right;\n",
       "    }\n",
       "</style>\n",
       "<table border=\"1\" class=\"dataframe\">\n",
       "  <thead>\n",
       "    <tr style=\"text-align: right;\">\n",
       "      <th></th>\n",
       "      <th>id</th>\n",
       "      <th>digit</th>\n",
       "      <th>letter</th>\n",
       "      <th>0</th>\n",
       "      <th>1</th>\n",
       "      <th>2</th>\n",
       "      <th>3</th>\n",
       "      <th>4</th>\n",
       "      <th>5</th>\n",
       "      <th>6</th>\n",
       "      <th>...</th>\n",
       "      <th>774</th>\n",
       "      <th>775</th>\n",
       "      <th>776</th>\n",
       "      <th>777</th>\n",
       "      <th>778</th>\n",
       "      <th>779</th>\n",
       "      <th>780</th>\n",
       "      <th>781</th>\n",
       "      <th>782</th>\n",
       "      <th>783</th>\n",
       "    </tr>\n",
       "  </thead>\n",
       "  <tbody>\n",
       "    <tr>\n",
       "      <th>0</th>\n",
       "      <td>1</td>\n",
       "      <td>5</td>\n",
       "      <td>L</td>\n",
       "      <td>1</td>\n",
       "      <td>1</td>\n",
       "      <td>1</td>\n",
       "      <td>4</td>\n",
       "      <td>3</td>\n",
       "      <td>0</td>\n",
       "      <td>0</td>\n",
       "      <td>...</td>\n",
       "      <td>2</td>\n",
       "      <td>1</td>\n",
       "      <td>0</td>\n",
       "      <td>1</td>\n",
       "      <td>2</td>\n",
       "      <td>4</td>\n",
       "      <td>4</td>\n",
       "      <td>4</td>\n",
       "      <td>3</td>\n",
       "      <td>4</td>\n",
       "    </tr>\n",
       "    <tr>\n",
       "      <th>1</th>\n",
       "      <td>2</td>\n",
       "      <td>0</td>\n",
       "      <td>B</td>\n",
       "      <td>0</td>\n",
       "      <td>4</td>\n",
       "      <td>0</td>\n",
       "      <td>0</td>\n",
       "      <td>4</td>\n",
       "      <td>1</td>\n",
       "      <td>1</td>\n",
       "      <td>...</td>\n",
       "      <td>0</td>\n",
       "      <td>3</td>\n",
       "      <td>0</td>\n",
       "      <td>1</td>\n",
       "      <td>4</td>\n",
       "      <td>1</td>\n",
       "      <td>4</td>\n",
       "      <td>2</td>\n",
       "      <td>1</td>\n",
       "      <td>2</td>\n",
       "    </tr>\n",
       "    <tr>\n",
       "      <th>2</th>\n",
       "      <td>3</td>\n",
       "      <td>4</td>\n",
       "      <td>L</td>\n",
       "      <td>1</td>\n",
       "      <td>1</td>\n",
       "      <td>2</td>\n",
       "      <td>2</td>\n",
       "      <td>1</td>\n",
       "      <td>1</td>\n",
       "      <td>1</td>\n",
       "      <td>...</td>\n",
       "      <td>3</td>\n",
       "      <td>3</td>\n",
       "      <td>3</td>\n",
       "      <td>0</td>\n",
       "      <td>2</td>\n",
       "      <td>0</td>\n",
       "      <td>3</td>\n",
       "      <td>0</td>\n",
       "      <td>2</td>\n",
       "      <td>2</td>\n",
       "    </tr>\n",
       "    <tr>\n",
       "      <th>3</th>\n",
       "      <td>4</td>\n",
       "      <td>9</td>\n",
       "      <td>D</td>\n",
       "      <td>1</td>\n",
       "      <td>2</td>\n",
       "      <td>0</td>\n",
       "      <td>2</td>\n",
       "      <td>0</td>\n",
       "      <td>4</td>\n",
       "      <td>0</td>\n",
       "      <td>...</td>\n",
       "      <td>3</td>\n",
       "      <td>3</td>\n",
       "      <td>2</td>\n",
       "      <td>0</td>\n",
       "      <td>1</td>\n",
       "      <td>4</td>\n",
       "      <td>0</td>\n",
       "      <td>0</td>\n",
       "      <td>1</td>\n",
       "      <td>1</td>\n",
       "    </tr>\n",
       "    <tr>\n",
       "      <th>4</th>\n",
       "      <td>5</td>\n",
       "      <td>6</td>\n",
       "      <td>A</td>\n",
       "      <td>3</td>\n",
       "      <td>0</td>\n",
       "      <td>2</td>\n",
       "      <td>4</td>\n",
       "      <td>0</td>\n",
       "      <td>3</td>\n",
       "      <td>0</td>\n",
       "      <td>...</td>\n",
       "      <td>4</td>\n",
       "      <td>4</td>\n",
       "      <td>3</td>\n",
       "      <td>2</td>\n",
       "      <td>1</td>\n",
       "      <td>3</td>\n",
       "      <td>4</td>\n",
       "      <td>3</td>\n",
       "      <td>1</td>\n",
       "      <td>2</td>\n",
       "    </tr>\n",
       "    <tr>\n",
       "      <th>...</th>\n",
       "      <td>...</td>\n",
       "      <td>...</td>\n",
       "      <td>...</td>\n",
       "      <td>...</td>\n",
       "      <td>...</td>\n",
       "      <td>...</td>\n",
       "      <td>...</td>\n",
       "      <td>...</td>\n",
       "      <td>...</td>\n",
       "      <td>...</td>\n",
       "      <td>...</td>\n",
       "      <td>...</td>\n",
       "      <td>...</td>\n",
       "      <td>...</td>\n",
       "      <td>...</td>\n",
       "      <td>...</td>\n",
       "      <td>...</td>\n",
       "      <td>...</td>\n",
       "      <td>...</td>\n",
       "      <td>...</td>\n",
       "      <td>...</td>\n",
       "    </tr>\n",
       "    <tr>\n",
       "      <th>2043</th>\n",
       "      <td>2044</td>\n",
       "      <td>6</td>\n",
       "      <td>V</td>\n",
       "      <td>2</td>\n",
       "      <td>4</td>\n",
       "      <td>3</td>\n",
       "      <td>4</td>\n",
       "      <td>2</td>\n",
       "      <td>4</td>\n",
       "      <td>4</td>\n",
       "      <td>...</td>\n",
       "      <td>0</td>\n",
       "      <td>2</td>\n",
       "      <td>2</td>\n",
       "      <td>0</td>\n",
       "      <td>0</td>\n",
       "      <td>1</td>\n",
       "      <td>3</td>\n",
       "      <td>1</td>\n",
       "      <td>4</td>\n",
       "      <td>0</td>\n",
       "    </tr>\n",
       "    <tr>\n",
       "      <th>2044</th>\n",
       "      <td>2045</td>\n",
       "      <td>1</td>\n",
       "      <td>L</td>\n",
       "      <td>3</td>\n",
       "      <td>2</td>\n",
       "      <td>2</td>\n",
       "      <td>1</td>\n",
       "      <td>1</td>\n",
       "      <td>4</td>\n",
       "      <td>0</td>\n",
       "      <td>...</td>\n",
       "      <td>2</td>\n",
       "      <td>3</td>\n",
       "      <td>4</td>\n",
       "      <td>2</td>\n",
       "      <td>1</td>\n",
       "      <td>2</td>\n",
       "      <td>3</td>\n",
       "      <td>4</td>\n",
       "      <td>1</td>\n",
       "      <td>1</td>\n",
       "    </tr>\n",
       "    <tr>\n",
       "      <th>2045</th>\n",
       "      <td>2046</td>\n",
       "      <td>9</td>\n",
       "      <td>A</td>\n",
       "      <td>4</td>\n",
       "      <td>0</td>\n",
       "      <td>4</td>\n",
       "      <td>0</td>\n",
       "      <td>2</td>\n",
       "      <td>4</td>\n",
       "      <td>4</td>\n",
       "      <td>...</td>\n",
       "      <td>2</td>\n",
       "      <td>3</td>\n",
       "      <td>1</td>\n",
       "      <td>1</td>\n",
       "      <td>3</td>\n",
       "      <td>4</td>\n",
       "      <td>2</td>\n",
       "      <td>2</td>\n",
       "      <td>0</td>\n",
       "      <td>0</td>\n",
       "    </tr>\n",
       "    <tr>\n",
       "      <th>2046</th>\n",
       "      <td>2047</td>\n",
       "      <td>0</td>\n",
       "      <td>Z</td>\n",
       "      <td>2</td>\n",
       "      <td>3</td>\n",
       "      <td>3</td>\n",
       "      <td>0</td>\n",
       "      <td>3</td>\n",
       "      <td>0</td>\n",
       "      <td>4</td>\n",
       "      <td>...</td>\n",
       "      <td>2</td>\n",
       "      <td>3</td>\n",
       "      <td>1</td>\n",
       "      <td>1</td>\n",
       "      <td>0</td>\n",
       "      <td>4</td>\n",
       "      <td>1</td>\n",
       "      <td>4</td>\n",
       "      <td>3</td>\n",
       "      <td>1</td>\n",
       "    </tr>\n",
       "    <tr>\n",
       "      <th>2047</th>\n",
       "      <td>2048</td>\n",
       "      <td>5</td>\n",
       "      <td>Z</td>\n",
       "      <td>4</td>\n",
       "      <td>2</td>\n",
       "      <td>2</td>\n",
       "      <td>1</td>\n",
       "      <td>3</td>\n",
       "      <td>0</td>\n",
       "      <td>0</td>\n",
       "      <td>...</td>\n",
       "      <td>4</td>\n",
       "      <td>2</td>\n",
       "      <td>4</td>\n",
       "      <td>0</td>\n",
       "      <td>4</td>\n",
       "      <td>3</td>\n",
       "      <td>2</td>\n",
       "      <td>4</td>\n",
       "      <td>3</td>\n",
       "      <td>4</td>\n",
       "    </tr>\n",
       "  </tbody>\n",
       "</table>\n",
       "<p>2048 rows × 787 columns</p>\n",
       "</div>"
      ],
      "text/plain": [
       "        id  digit letter  0  1  2  3  4  5  6  ...  774  775  776  777  778  \\\n",
       "0        1      5      L  1  1  1  4  3  0  0  ...    2    1    0    1    2   \n",
       "1        2      0      B  0  4  0  0  4  1  1  ...    0    3    0    1    4   \n",
       "2        3      4      L  1  1  2  2  1  1  1  ...    3    3    3    0    2   \n",
       "3        4      9      D  1  2  0  2  0  4  0  ...    3    3    2    0    1   \n",
       "4        5      6      A  3  0  2  4  0  3  0  ...    4    4    3    2    1   \n",
       "...    ...    ...    ... .. .. .. .. .. .. ..  ...  ...  ...  ...  ...  ...   \n",
       "2043  2044      6      V  2  4  3  4  2  4  4  ...    0    2    2    0    0   \n",
       "2044  2045      1      L  3  2  2  1  1  4  0  ...    2    3    4    2    1   \n",
       "2045  2046      9      A  4  0  4  0  2  4  4  ...    2    3    1    1    3   \n",
       "2046  2047      0      Z  2  3  3  0  3  0  4  ...    2    3    1    1    0   \n",
       "2047  2048      5      Z  4  2  2  1  3  0  0  ...    4    2    4    0    4   \n",
       "\n",
       "      779  780  781  782  783  \n",
       "0       4    4    4    3    4  \n",
       "1       1    4    2    1    2  \n",
       "2       0    3    0    2    2  \n",
       "3       4    0    0    1    1  \n",
       "4       3    4    3    1    2  \n",
       "...   ...  ...  ...  ...  ...  \n",
       "2043    1    3    1    4    0  \n",
       "2044    2    3    4    1    1  \n",
       "2045    4    2    2    0    0  \n",
       "2046    4    1    4    3    1  \n",
       "2047    3    2    4    3    4  \n",
       "\n",
       "[2048 rows x 787 columns]"
      ]
     },
     "execution_count": 13,
     "metadata": {},
     "output_type": "execute_result"
    }
   ],
   "source": [
    "import cv2\n",
    "import numpy as np\n",
    "import pandas as pd\n",
    "import matplotlib.pyplot as plt\n",
    "import matplotlib as mpl\n",
    "%matplotlib inline\n",
    "\n",
    "train = pd.read_csv('data\\\\cvision\\\\train.csv')\n",
    "test = pd.read_csv('data\\\\cvision\\\\test.csv')\n",
    "train"
   ]
  },
  {
   "cell_type": "code",
   "execution_count": 14,
   "metadata": {},
   "outputs": [],
   "source": [
    "X = train.drop(['id','digit','letter'], axis=1).values\n",
    "X = X.reshape(-1, 28, 28, 1)\n",
    "X = X/255\n",
    "\n",
    "y = train['digit']\n",
    "from tensorflow.keras.utils import to_categorical\n",
    "y = to_categorical(y)"
   ]
  },
  {
   "cell_type": "code",
   "execution_count": 15,
   "metadata": {},
   "outputs": [],
   "source": [
    "from sklearn.model_selection import train_test_split\n",
    "\n",
    "train_X, valid_X, train_y, valid_y = train_test_split(X, y, test_size=0.2, random_state=0)"
   ]
  },
  {
   "cell_type": "code",
   "execution_count": 4,
   "metadata": {
    "scrolled": true
   },
   "outputs": [
    {
     "data": {
      "image/png": "[encoded data removed]",
      "text/plain": [
       "<Figure size 504x504 with 2 Axes>"
      ]
     },
     "metadata": {
      "needs_background": "light"
     },
     "output_type": "display_data"
    },
    {
     "data": {
      "image/png": "[encoded data removed]",
      "text/plain": [
       "<Figure size 504x504 with 2 Axes>"
      ]
     },
     "metadata": {
      "needs_background": "light"
     },
     "output_type": "display_data"
    },
    {
     "data": {
      "image/png": "[encoded data removed]",
      "text/plain": [
       "<Figure size 504x504 with 2 Axes>"
      ]
     },
     "metadata": {
      "needs_background": "light"
     },
     "output_type": "display_data"
    },
    {
     "data": {
      "image/png": "[encoded data removed]",
      "text/plain": [
       "<Figure size 504x504 with 2 Axes>"
      ]
     },
     "metadata": {
      "needs_background": "light"
     },
     "output_type": "display_data"
    },
    {
     "data": {
      "image/png": "[encoded data removed]",
      "text/plain": [
       "<Figure size 504x504 with 2 Axes>"
      ]
     },
     "metadata": {
      "needs_background": "light"
     },
     "output_type": "display_data"
    },
    {
     "data": {
      "image/png": "[encoded data removed]",
      "text/plain": [
       "<Figure size 504x504 with 2 Axes>"
      ]
     },
     "metadata": {
      "needs_background": "light"
     },
     "output_type": "display_data"
    },
    {
     "data": {
      "image/png": "[encoded data removed]",
      "text/plain": [
       "<Figure size 504x504 with 2 Axes>"
      ]
     },
     "metadata": {
      "needs_background": "light"
     },
     "output_type": "display_data"
    },
    {
     "data": {
      "image/png": "[encoded data removed]",
      "text/plain": [
       "<Figure size 504x504 with 2 Axes>"
      ]
     },
     "metadata": {
      "needs_background": "light"
     },
     "output_type": "display_data"
    },
    {
     "data": {
      "image/png": "[encoded data removed]",
      "text/plain": [
       "<Figure size 504x504 with 2 Axes>"
      ]
     },
     "metadata": {
      "needs_background": "light"
     },
     "output_type": "display_data"
    },
    {
     "data": {
      "image/png": "[encoded data removed]",
      "text/plain": [
       "<Figure size 504x504 with 2 Axes>"
      ]
     },
     "metadata": {
      "needs_background": "light"
     },
     "output_type": "display_data"
    }
   ],
   "source": [
    "data = np.where(train_X >= 150/255, train_X, 0)\n",
    "\n",
    "for i in range(10):\n",
    "    plt.figure(figsize=(7,7))\n",
    "    \n",
    "    plt.subplot(1,2,1)\n",
    "    plt.imshow(train_X[i].reshape(28,28))\n",
    "    plt.axis('off')\n",
    "    \n",
    "    plt.subplot(1,2,2)\n",
    "    plt.imshow(data[i,:,:,0], cmap='gray')\n",
    "    plt.axis('off')\n",
    "    plt.title('number ' + str())"
   ]
  },
  {
   "cell_type": "code",
   "execution_count": 5,
   "metadata": {},
   "outputs": [],
   "source": [
    "train_X_n = np.where(train_X >= 150/255, train_X, 0)"
   ]
  },
  {
   "cell_type": "code",
   "execution_count": 6,
   "metadata": {},
   "outputs": [
    {
     "data": {
      "text/plain": [
       "<matplotlib.image.AxesImage at 0x28dbfdeff48>"
      ]
     },
     "execution_count": 6,
     "metadata": {},
     "output_type": "execute_result"
    },
    {
     "data": {
      "image/png": "[encoded data removed]",
      "text/plain": [
       "<Figure size 432x288 with 1 Axes>"
      ]
     },
     "metadata": {
      "needs_background": "light"
     },
     "output_type": "display_data"
    }
   ],
   "source": [
    "from scipy.signal import correlate2d\n",
    "\n",
    "kernel = np.array(\n",
    "[\n",
    "    [0, -100, 0],\n",
    "    [0, 255, 0],\n",
    "    [0,-100,0]\n",
    "])\n",
    "plt.imshow(correlate2d(train_X[0].reshape(28,28), kernel, mode='same'))"
   ]
  },
  {
   "cell_type": "code",
   "execution_count": 16,
   "metadata": {},
   "outputs": [
    {
     "data": {
      "text/plain": [
       "['/job:localhost/replica:0/task:0/device:GPU:0']"
      ]
     },
     "execution_count": 16,
     "metadata": {},
     "output_type": "execute_result"
    }
   ],
   "source": [
    "import tensorflow as tf\n",
    "from tensorflow.keras.models import Sequential, Model\n",
    "\n",
    "from tensorflow.keras.layers import (\n",
    "    Conv2D, BatchNormalization, Dropout, MaxPool2D,\n",
    "    Flatten, Dense, Input, Concatenate, LeakyReLU, Add\n",
    ")\n",
    "\n",
    "#Keras가 GPU를 사용하는지 확인\n",
    "from keras import backend as K\n",
    "K.tensorflow_backend._get_available_gpus()"
   ]
  },
  {
   "cell_type": "code",
   "execution_count": 17,
   "metadata": {},
   "outputs": [],
   "source": [
    "#데이터 증강\n",
    "from tensorflow.keras.preprocessing.image import ImageDataGenerator\n",
    "\n",
    "datagen = ImageDataGenerator(rotation_range=10, #10도 돌림\n",
    "                            zoom_range=0.10, #10퍼센트 확대(crop?)\n",
    "                            width_shift_range=0.1,\n",
    "                            height_shift_range=0.1)"
   ]
  },
  {
   "cell_type": "code",
   "execution_count": 31,
   "metadata": {},
   "outputs": [],
   "source": [
    "model = Sequential()\n",
    "model.add(Conv2D(32,kernel_size=3, activation='relu', input_shape = train_X.shape[1:]))\n",
    "model.add(Conv2D(32,kernel_size=3, activation='relu'))\n",
    "model.add(Conv2D(32,kernel_size=5, strides=2, padding='same', activation='relu'))\n",
    "model.add(Dropout(0.4))\n",
    "\n",
    "model.add(Conv2D(64,kernel_size=3, activation='relu'))\n",
    "model.add(Conv2D(64,kernel_size=3, activation='relu'))\n",
    "model.add(Conv2D(64,kernel_size=5, strides=2, padding='same', activation='relu'))\n",
    "model.add(Dropout(0.4))\n",
    "\n",
    "model.add(Conv2D(128,kernel_size=4, activation='relu'))\n",
    "model.add(Flatten())\n",
    "model.add(Dropout(0.4))\n",
    "model.add(Dense(10, activation='softmax'))\n",
    "\n",
    "model.compile(optimizer='adam', loss='categorical_crossentropy', metrics=['accuracy'])"
   ]
  },
  {
   "cell_type": "code",
   "execution_count": 27,
   "metadata": {
    "scrolled": true
   },
   "outputs": [
    {
     "name": "stdout",
     "output_type": "stream",
     "text": [
      "Model: \"sequential_5\"\n",
      "_________________________________________________________________\n",
      "Layer (type)                 Output Shape              Param #   \n",
      "=================================================================\n",
      "conv2d_35 (Conv2D)           (None, 26, 26, 32)        320       \n",
      "_________________________________________________________________\n",
      "conv2d_36 (Conv2D)           (None, 24, 24, 32)        9248      \n",
      "_________________________________________________________________\n",
      "conv2d_37 (Conv2D)           (None, 12, 12, 32)        25632     \n",
      "_________________________________________________________________\n",
      "dropout_12 (Dropout)         (None, 12, 12, 32)        0         \n",
      "_________________________________________________________________\n",
      "conv2d_38 (Conv2D)           (None, 10, 10, 64)        18496     \n",
      "_________________________________________________________________\n",
      "conv2d_39 (Conv2D)           (None, 8, 8, 64)          36928     \n",
      "_________________________________________________________________\n",
      "conv2d_40 (Conv2D)           (None, 4, 4, 64)          102464    \n",
      "_________________________________________________________________\n",
      "dropout_13 (Dropout)         (None, 4, 4, 64)          0         \n",
      "_________________________________________________________________\n",
      "conv2d_41 (Conv2D)           (None, 1, 1, 128)         131200    \n",
      "_________________________________________________________________\n",
      "flatten_2 (Flatten)          (None, 128)               0         \n",
      "_________________________________________________________________\n",
      "dropout_14 (Dropout)         (None, 128)               0         \n",
      "_________________________________________________________________\n",
      "dense_2 (Dense)              (None, 10)                1290      \n",
      "=================================================================\n",
      "Total params: 325,578\n",
      "Trainable params: 325,578\n",
      "Non-trainable params: 0\n",
      "_________________________________________________________________\n"
     ]
    }
   ],
   "source": [
    "model.summary()"
   ]
  },
  {
   "cell_type": "code",
   "execution_count": 28,
   "metadata": {},
   "outputs": [],
   "source": [
    "#각 epoch마다 learning rate 낮춰줌\n",
    "from tensorflow.keras.callbacks import LearningRateScheduler\n",
    "annealer = LearningRateScheduler(lambda x: 1e-3 * 0.95 ** x)"
   ]
  },
  {
   "cell_type": "code",
   "execution_count": 32,
   "metadata": {
    "scrolled": false
   },
   "outputs": [
    {
     "name": "stdout",
     "output_type": "stream",
     "text": [
      "Epoch 1/50\n",
      "51/51 [==============================] - 5s 99ms/step - loss: 2.3037 - acc: 0.1077 - val_loss: 2.2984 - val_acc: 0.1122\n",
      "Epoch 2/50\n",
      "51/51 [==============================] - 4s 71ms/step - loss: 2.2936 - acc: 0.1152 - val_loss: 2.2576 - val_acc: 0.1488\n",
      "Epoch 3/50\n",
      "51/51 [==============================] - 4s 71ms/step - loss: 2.2060 - acc: 0.1837 - val_loss: 2.1232 - val_acc: 0.3171\n",
      "Epoch 4/50\n",
      "51/51 [==============================] - 4s 71ms/step - loss: 2.0755 - acc: 0.2559 - val_loss: 1.8482 - val_acc: 0.3366\n",
      "Epoch 5/50\n",
      "51/51 [==============================] - 4s 73ms/step - loss: 1.9790 - acc: 0.3032 - val_loss: 1.6973 - val_acc: 0.4098\n",
      "Epoch 6/50\n",
      "51/51 [==============================] - 4s 75ms/step - loss: 1.8946 - acc: 0.3375 - val_loss: 1.6228 - val_acc: 0.4829\n",
      "Epoch 7/50\n",
      "51/51 [==============================] - 4s 74ms/step - loss: 1.8030 - acc: 0.3755 - val_loss: 1.5589 - val_acc: 0.4415\n",
      "Epoch 8/50\n",
      "51/51 [==============================] - 4s 72ms/step - loss: 1.7221 - acc: 0.4122 - val_loss: 1.4367 - val_acc: 0.5415\n",
      "Epoch 9/50\n",
      "51/51 [==============================] - 4s 72ms/step - loss: 1.6659 - acc: 0.4172 - val_loss: 1.3079 - val_acc: 0.5390\n",
      "Epoch 10/50\n",
      "51/51 [==============================] - 4s 71ms/step - loss: 1.5746 - acc: 0.4514 - val_loss: 1.2822 - val_acc: 0.5707\n",
      "Epoch 11/50\n",
      "51/51 [==============================] - 4s 71ms/step - loss: 1.5940 - acc: 0.4489 - val_loss: 1.3238 - val_acc: 0.5512\n",
      "Epoch 12/50\n",
      "51/51 [==============================] - 4s 72ms/step - loss: 1.4372 - acc: 0.5049 - val_loss: 1.3430 - val_acc: 0.5488\n",
      "Epoch 13/50\n",
      "51/51 [==============================] - 4s 70ms/step - loss: 1.4009 - acc: 0.5253 - val_loss: 1.2053 - val_acc: 0.6000\n",
      "Epoch 14/50\n",
      "51/51 [==============================] - 4s 76ms/step - loss: 1.3759 - acc: 0.5392 - val_loss: 1.1673 - val_acc: 0.6366\n",
      "Epoch 15/50\n",
      "51/51 [==============================] - 4s 71ms/step - loss: 1.3190 - acc: 0.5436 - val_loss: 1.0922 - val_acc: 0.6317\n",
      "Epoch 16/50\n",
      "51/51 [==============================] - 4s 71ms/step - loss: 1.2926 - acc: 0.5496 - val_loss: 1.0921 - val_acc: 0.6244\n",
      "Epoch 17/50\n",
      "51/51 [==============================] - 4s 70ms/step - loss: 1.2314 - acc: 0.5665 - val_loss: 1.1472 - val_acc: 0.6220\n",
      "Epoch 18/50\n",
      "51/51 [==============================] - 4s 71ms/step - loss: 1.2114 - acc: 0.5872 - val_loss: 1.1650 - val_acc: 0.6000\n",
      "Epoch 19/50\n",
      "51/51 [==============================] - 4s 71ms/step - loss: 1.1816 - acc: 0.5841 - val_loss: 1.1377 - val_acc: 0.6220\n",
      "Epoch 20/50\n",
      "51/51 [==============================] - 4s 71ms/step - loss: 1.1169 - acc: 0.6214 - val_loss: 1.0359 - val_acc: 0.6488\n",
      "Epoch 21/50\n",
      "51/51 [==============================] - 4s 74ms/step - loss: 1.1296 - acc: 0.6115 - val_loss: 1.0162 - val_acc: 0.6463\n",
      "Epoch 22/50\n",
      "51/51 [==============================] - 4s 77ms/step - loss: 1.0844 - acc: 0.6213 - val_loss: 0.9296 - val_acc: 0.6829\n",
      "Epoch 23/50\n",
      "51/51 [==============================] - 4s 72ms/step - loss: 1.1384 - acc: 0.6196 - val_loss: 0.9663 - val_acc: 0.6659\n",
      "Epoch 24/50\n",
      "51/51 [==============================] - 4s 72ms/step - loss: 1.0866 - acc: 0.6283 - val_loss: 0.8149 - val_acc: 0.7415\n",
      "Epoch 25/50\n",
      "51/51 [==============================] - 4s 74ms/step - loss: 1.0562 - acc: 0.6434 - val_loss: 0.8802 - val_acc: 0.7000\n",
      "Epoch 26/50\n",
      "51/51 [==============================] - 4s 72ms/step - loss: 1.0220 - acc: 0.6613 - val_loss: 0.9558 - val_acc: 0.6902\n",
      "Epoch 27/50\n",
      "51/51 [==============================] - 4s 74ms/step - loss: 0.9772 - acc: 0.6712 - val_loss: 0.9117 - val_acc: 0.7000\n",
      "Epoch 28/50\n",
      "51/51 [==============================] - 4s 72ms/step - loss: 0.9969 - acc: 0.6494 - val_loss: 0.8379 - val_acc: 0.7244\n",
      "Epoch 29/50\n",
      "51/51 [==============================] - 4s 73ms/step - loss: 1.0141 - acc: 0.6463 - val_loss: 0.8388 - val_acc: 0.7293\n",
      "Epoch 30/50\n",
      "51/51 [==============================] - 4s 72ms/step - loss: 1.0166 - acc: 0.6639 - val_loss: 0.9650 - val_acc: 0.6756\n",
      "Epoch 31/50\n",
      "51/51 [==============================] - 4s 72ms/step - loss: 0.9525 - acc: 0.6850 - val_loss: 0.8351 - val_acc: 0.7268\n",
      "Epoch 32/50\n",
      "51/51 [==============================] - 4s 73ms/step - loss: 0.9691 - acc: 0.6806 - val_loss: 0.8385 - val_acc: 0.7341\n",
      "Epoch 33/50\n",
      "51/51 [==============================] - 4s 72ms/step - loss: 0.9348 - acc: 0.6867 - val_loss: 0.7850 - val_acc: 0.7390\n",
      "Epoch 34/50\n",
      "51/51 [==============================] - 4s 73ms/step - loss: 0.9156 - acc: 0.6900 - val_loss: 0.8266 - val_acc: 0.7293\n",
      "Epoch 35/50\n",
      "51/51 [==============================] - 4s 73ms/step - loss: 0.9161 - acc: 0.6849 - val_loss: 0.7772 - val_acc: 0.7293\n",
      "Epoch 36/50\n",
      "51/51 [==============================] - 4s 73ms/step - loss: 0.9220 - acc: 0.6924 - val_loss: 0.9637 - val_acc: 0.6951\n",
      "Epoch 37/50\n",
      "51/51 [==============================] - 4s 71ms/step - loss: 0.9037 - acc: 0.6893 - val_loss: 0.7385 - val_acc: 0.7561\n",
      "Epoch 38/50\n",
      "51/51 [==============================] - 4s 74ms/step - loss: 0.9101 - acc: 0.6829 - val_loss: 0.8818 - val_acc: 0.7122\n",
      "Epoch 39/50\n",
      "51/51 [==============================] - 4s 72ms/step - loss: 0.9247 - acc: 0.6875 - val_loss: 0.9261 - val_acc: 0.6976\n",
      "Epoch 40/50\n",
      "51/51 [==============================] - 4s 73ms/step - loss: 0.8977 - acc: 0.6993 - val_loss: 0.8079 - val_acc: 0.7220\n",
      "Epoch 41/50\n",
      "51/51 [==============================] - 4s 72ms/step - loss: 0.9014 - acc: 0.6949 - val_loss: 0.7939 - val_acc: 0.7317\n",
      "Epoch 42/50\n",
      "51/51 [==============================] - 4s 76ms/step - loss: 0.8492 - acc: 0.6999 - val_loss: 0.7983 - val_acc: 0.7366\n",
      "Epoch 43/50\n",
      "51/51 [==============================] - 4s 77ms/step - loss: 0.8420 - acc: 0.7179 - val_loss: 0.8603 - val_acc: 0.7171\n",
      "Epoch 44/50\n",
      "51/51 [==============================] - 4s 72ms/step - loss: 0.8883 - acc: 0.7200 - val_loss: 0.8106 - val_acc: 0.7366\n",
      "Epoch 45/50\n",
      "51/51 [==============================] - 4s 73ms/step - loss: 0.8379 - acc: 0.7061 - val_loss: 0.7660 - val_acc: 0.7341\n",
      "Epoch 46/50\n",
      "51/51 [==============================] - 4s 73ms/step - loss: 0.8403 - acc: 0.7223 - val_loss: 0.7624 - val_acc: 0.7439\n",
      "Epoch 47/50\n",
      "51/51 [==============================] - 4s 73ms/step - loss: 0.8601 - acc: 0.7086 - val_loss: 0.8661 - val_acc: 0.7049\n",
      "Epoch 48/50\n",
      "51/51 [==============================] - 4s 74ms/step - loss: 0.8399 - acc: 0.7142 - val_loss: 0.7798 - val_acc: 0.7195\n",
      "Epoch 49/50\n",
      "51/51 [==============================] - 4s 73ms/step - loss: 0.8508 - acc: 0.7057 - val_loss: 0.8579 - val_acc: 0.7122\n",
      "Epoch 50/50\n",
      "51/51 [==============================] - 4s 76ms/step - loss: 0.8542 - acc: 0.7077 - val_loss: 0.8675 - val_acc: 0.7122\n",
      "CNN: Epochs=50, Train accuracy=0.72229, Validation accuracy=0.75610\n"
     ]
    }
   ],
   "source": [
    "epochs = 50\n",
    "\n",
    "history = model.fit_generator(\n",
    "    datagen.flow(train_X, train_y, batch_size=32),\n",
    "    epochs = epochs,\n",
    "    steps_per_epoch=train_X.shape[0]//32,\n",
    "    validation_data=(valid_X,valid_y),\n",
    "    callbacks=[annealer],\n",
    "    verbose=1\n",
    ")\n",
    "\n",
    "print(\n",
    "    f\"CNN: Epochs={epochs:d}, \" +\n",
    "    f\"Train accuracy={max(history.history['acc']):.5f}, \" +\n",
    "    f\"Validation accuracy={max(history.history['val_acc']):.5f}\"\n",
    ")"
   ]
  },
  {
   "cell_type": "code",
   "execution_count": null,
   "metadata": {},
   "outputs": [],
   "source": [
    "'''\n",
    "#Parameter 및 모델 구조 저장\n",
    "model.save_weights(f'params.h5')\n",
    "\n",
    "model_json = model.to_json()\n",
    "with open(f'model.json', 'w') as json_file:\n",
    "    json_file.write(model_json)\n",
    "'''"
   ]
  },
  {
   "cell_type": "code",
   "execution_count": 22,
   "metadata": {},
   "outputs": [
    {
     "ename": "NameError",
     "evalue": "name 'results' is not defined",
     "output_type": "error",
     "traceback": [
      "\u001b[1;31m---------------------------------------------------------------------------\u001b[0m",
      "\u001b[1;31mNameError\u001b[0m                                 Traceback (most recent call last)",
      "\u001b[1;32m<ipython-input-22-c615881f8352>\u001b[0m in \u001b[0;36m<module>\u001b[1;34m\u001b[0m\n\u001b[0;32m      7\u001b[0m \u001b[1;33m\u001b[0m\u001b[0m\n\u001b[0;32m      8\u001b[0m \u001b[1;31m#submission 파일 생성\u001b[0m\u001b[1;33m\u001b[0m\u001b[1;33m\u001b[0m\u001b[1;33m\u001b[0m\u001b[0m\n\u001b[1;32m----> 9\u001b[1;33m \u001b[0msubmission\u001b[0m\u001b[1;33m.\u001b[0m\u001b[0mdigit\u001b[0m \u001b[1;33m=\u001b[0m \u001b[0mresults\u001b[0m\u001b[1;33m\u001b[0m\u001b[1;33m\u001b[0m\u001b[0m\n\u001b[0m\u001b[0;32m     10\u001b[0m \u001b[0msubmission\u001b[0m\u001b[1;33m.\u001b[0m\u001b[0mto_csv\u001b[0m\u001b[1;33m(\u001b[0m\u001b[1;34m'my_subm_1.csv'\u001b[0m\u001b[1;33m,\u001b[0m \u001b[0mindex\u001b[0m\u001b[1;33m=\u001b[0m\u001b[1;32mFalse\u001b[0m\u001b[1;33m)\u001b[0m\u001b[1;33m\u001b[0m\u001b[1;33m\u001b[0m\u001b[0m\n",
      "\u001b[1;31mNameError\u001b[0m: name 'results' is not defined"
     ]
    }
   ],
   "source": [
    "#예측 진행\n",
    "test_X = test.drop(['id', 'letter'], axis=1).values\n",
    "test_X = test_X.reshape(-1, 28, 28, 1)\n",
    "test_X = test_X/255\n",
    "\n",
    "res = model.predict(test_X)\n",
    "\n",
    "#submission 파일 생성\n",
    "submission.digit = res\n",
    "submission.to_csv('my_subm_1.csv', index=False)"
   ]
  },
  {
   "cell_type": "code",
   "execution_count": 30,
   "metadata": {},
   "outputs": [
    {
     "name": "stdout",
     "output_type": "stream",
     "text": [
      "410/410 - 0s - loss: 0.7453 - acc: 0.7634\n",
      "테스트 손실함수: 0.7453037785320747 \n",
      "테스트 정확도: 0.7634146\n"
     ]
    }
   ],
   "source": [
    "test_loss, test_acc = model.evaluate(valid_X, valid_y, verbose=2)\n",
    "print('테스트 손실함수:', test_loss, '\\n테스트 정확도:', test_acc)"
   ]
  },
  {
   "cell_type": "code",
   "execution_count": null,
   "metadata": {},
   "outputs": [],
   "source": [
    "'''def create_cnn_model(train_x):\n",
    "    inputs = tf.keras.layers.Input(train_x.shape[1:])\n",
    "    \n",
    "    bn = tf.keras.layers.BatchNormalization()(inputs)\n",
    "    conv = tf.keras.layers.Conv2D(128, kernel_size=5, strides=1, padding='same', activation='relu')(bn)\n",
    "    bn = tf.keras.layers.BatchNormalization()(conv)\n",
    "    conv = tf.keras.layers.Conv2D(128, kernel_size=2, strides=1, padding='same', activation='relu')(bn)\n",
    "    pool = tf.keras.layers.MaxPooling2D((2,2))(conv)\n",
    "    \n",
    "    bn = tf.keras.layers.BatchNormalization()(pool)\n",
    "    conv = tf.keras.layers.Conv2D(256, kernel_size=2, strides=1, padding='same', activation='relu')(bn)\n",
    "    bn = tf.keras.layers.BatchNormalization()(conv)\n",
    "    conv = tf.keras.layers.Conv2D(256, kernel_size=2, strides=1, padding='same', activation='relu')(bn)\n",
    "    pool = tf.keras.layers.MaxPooling2D((2,2))(conv)\n",
    "    \n",
    "    flatten = tf.keras.layers.Flatten()(pool)\n",
    "    \n",
    "    bn = tf.keras.layers.BatchNormalization()(flatten)\n",
    "    dense = tf.keras.layers.Dense(1000, activation='relu')(bn)\n",
    "\n",
    "    bn = tf.keras.layers.BatchNormalization()(dense)\n",
    "    outputs = tf.keras.layers.Dense(10, activation='softmax')(bn)\n",
    "\n",
    "    model = tf.keras.models.Model(inputs=inputs, outputs=outputs)\n",
    "\n",
    "    return model'''"
   ]
  },
  {
   "cell_type": "code",
   "execution_count": null,
   "metadata": {
    "scrolled": true
   },
   "outputs": [],
   "source": [
    "model = create_cnn_model(train_X)\n",
    "model.compile(loss='categorical_crossentropy', optimizer='adam', metrics=['accuracy'])\n",
    "model.fit(train_X, train_y, epochs=20)"
   ]
  },
  {
   "cell_type": "code",
   "execution_count": null,
   "metadata": {},
   "outputs": [],
   "source": [
    "test_loss, test_acc = model.evaluate(valid_X, valid_y, verbose=2)\n",
    "print('테스트 손실함수:', test_loss, '\\n테스트 정확도:', test_acc)"
   ]
  },
  {
   "cell_type": "markdown",
   "metadata": {},
   "source": [
    "https://excelsior-cjh.tistory.com/152"
   ]
  },
  {
   "cell_type": "code",
   "execution_count": null,
   "metadata": {
    "scrolled": true
   },
   "outputs": [],
   "source": [
    "import numpy as np\n",
    "import pandas as pd\n",
    "from matplotlib import pyplot as plt\n",
    "from keras.preprocessing.image import ImageDataGenerator, array_to_img, img_to_array, load_img\n",
    "import cv2\n",
    "\n",
    "np.random.seed(0)\n",
    "\n",
    "train = pd.read_csv('./data/cvision/train.csv')\n",
    "train_x = train.iloc[:,3:].values.reshape(-1,28,28)\n",
    "data = train_x[0]\n",
    "data.shape"
   ]
  },
  {
   "cell_type": "code",
   "execution_count": null,
   "metadata": {},
   "outputs": [],
   "source": [
    "#상하좌우 이동\n",
    "samples = np.expand_dims(data, 0)\n",
    "\n",
    "#Generator 생성\n",
    "#range를 설정해 얼마나 움직일지 정해줌\n",
    "gen = ImageDataGenerator(width_shift_range=[-10,10])\n",
    "\n",
    "#figure 생성\n",
    "fig = plt.figure(figsize=(28,28))\n",
    "\n",
    "#it\n",
    "it = gen.flow(samples, batch_size=1)\n",
    "\n",
    "#9개 이미지 생성\n",
    "for i in range(9):\n",
    "    plt.subplot(3,3,i+1)\n",
    "    \n",
    "    batch = it.next()\n",
    "    img = batch[0].astype('uint8')\n",
    "    \n",
    "    #plot raw pixel data\n",
    "    plt.imshow(img)\n",
    "    \n",
    "#show the figure\n",
    "plt.title('moving')\n",
    "plt.show()"
   ]
  },
  {
   "cell_type": "code",
   "execution_count": null,
   "metadata": {},
   "outputs": [],
   "source": []
  }
 ],
 "metadata": {
  "kernelspec": {
   "display_name": "Python 3",
   "language": "python",
   "name": "python3"
  },
  "language_info": {
   "codemirror_mode": {
    "name": "ipython",
    "version": 3
   },
   "file_extension": ".py",
   "mimetype": "text/x-python",
   "name": "python",
   "nbconvert_exporter": "python",
   "pygments_lexer": "ipython3",
   "version": "3.7.7"
  }
 },
 "nbformat": 4,
 "nbformat_minor": 4
}
