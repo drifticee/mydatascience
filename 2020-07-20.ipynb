{
 "cells": [
  {
   "cell_type": "code",
   "execution_count": null,
   "metadata": {},
   "outputs": [],
   "source": [
    "\"\"\"\n",
    "class, instance\n",
    "\n",
    "상속의 3대 조건 -\n",
    "encapsulate 캡슐화\n",
    "inheritance 상속은 방향성 존재 (is a 관계)\n",
    "class_function에 상위 class를 인자로 넘겨줘\n",
    "클래스 전체에 함수 적용 가능\n",
    "\n",
    "polymophysm 다형성:\n",
    "ex) 도형 클래스의 삼각형, 사각형 등에 rotate 함수를 썼을 때\n",
    "명령은 같지만 행동, 결과는 다름\n",
    "\n",
    "init 생성자\n",
    "del 소멸자\n",
    "\n",
    "\"\"\""
   ]
  },
  {
   "cell_type": "code",
   "execution_count": 20,
   "metadata": {},
   "outputs": [],
   "source": [
    "class Car():\n",
    "    inst_count = 0;\n",
    "    \n",
    "    def __init__(self, size, color):\n",
    "        self.size = size\n",
    "        self.color = color\n",
    "        Car.inst_count += 1\n",
    "        \n",
    "        print (\"자동차 객체의 수 Car.count = {}\".format(Car.inst_count))\n",
    "        \n",
    "    def move(self, speed):\n",
    "        self.speed = speed\n",
    "        print(\"자동차 ({} & {})가 \".format(self.size, self.count), end = \"\")\n",
    "        print(\"시속 {}킬로미터로 전진\".format(self.speed))\n",
    "        \n",
    "    def auto_cruise(self):\n",
    "        print(\"자율 주행 모드\")\n",
    "        self.move(self.speed)\n",
    "        \n",
    "    def __del__(self):\n",
    "        Car.inst_count -= 1"
   ]
  },
  {
   "cell_type": "code",
   "execution_count": 21,
   "metadata": {},
   "outputs": [
    {
     "name": "stdout",
     "output_type": "stream",
     "text": [
      "자동차 객체의 수 Car.count = 1\n",
      "자동차 객체의 수 Car.count = 2\n"
     ]
    }
   ],
   "source": [
    "car1 = Car(\"small\", \"red\")\n",
    "car2 = Car(\"big\", \"green\")"
   ]
  },
  {
   "cell_type": "code",
   "execution_count": 11,
   "metadata": {},
   "outputs": [],
   "source": [
    "class Car2():\n",
    "    count = 0;\n",
    "    \n",
    "    def __init__(self, size, num):\n",
    "        self.size = size\n",
    "        self.count = num\n",
    "        Car2.count += 1\n",
    "        \n",
    "        print (\"자동차 객체의 수 Car2.count = {}\".format(Car2.count))\n",
    "        print (\"인스턴스 변수 초기화 self.count = {}.\".format(self.count))\n",
    "        \n",
    "    def move(self, speed):\n",
    "        self.speed = speed\n",
    "        print(\"자동차 ({} & {})가 \".format(self.size, self.count), end = \"\")\n",
    "        print(\"시속 {}킬로미터로 전진\".format(self.speed))\n",
    "        \n",
    "    def auto_cruise(self):\n",
    "        print(\"자율 주행 모드\")\n",
    "        self.move(self.speed)\n",
    "        \n",
    "    def __del__(self):\n",
    "        Car2.count -= 1"
   ]
  },
  {
   "cell_type": "code",
   "execution_count": 12,
   "metadata": {},
   "outputs": [
    {
     "name": "stdout",
     "output_type": "stream",
     "text": [
      "자동차 객체의 수 Car2.count = 1\n",
      "인스턴스 변수 초기화 self.count = 20.\n",
      "자동차 객체의 수 Car2.count = 2\n",
      "인스턴스 변수 초기화 self.count = 30.\n"
     ]
    }
   ],
   "source": [
    "carcar1 = Car2(\"big\", 20)\n",
    "carcar2 = Car2(\"small\", 30)"
   ]
  },
  {
   "cell_type": "code",
   "execution_count": 13,
   "metadata": {},
   "outputs": [
    {
     "name": "stdout",
     "output_type": "stream",
     "text": [
      "자동차 (big & 20)가 시속 60킬로미터로 전진\n"
     ]
    }
   ],
   "source": [
    "carcar1.move(60)"
   ]
  },
  {
   "cell_type": "code",
   "execution_count": 15,
   "metadata": {},
   "outputs": [
    {
     "name": "stdout",
     "output_type": "stream",
     "text": [
      "자동차 (big & 20)가 시속 60킬로미터로 전진\n"
     ]
    }
   ],
   "source": [
    "carcar1.auto_cruise()"
   ]
  },
  {
   "cell_type": "code",
   "execution_count": 159,
   "metadata": {},
   "outputs": [],
   "source": [
    "class Car3():\n",
    "    inst_count = 0;\n",
    "    \n",
    "    def __init__(self, size, color):\n",
    "        self.size = size\n",
    "        self.color = color\n",
    "        Car3.inst_count += 1\n",
    "        \n",
    "        print (\"자동차 객체의 수 Car.count = {}\".format(Car3.inst_count))\n",
    "        \n",
    "    def move(self, speed):\n",
    "        self.speed = speed\n",
    "        print(\"자동차 ({} & {})가 \".format(self.size, self.count), end = \"\")\n",
    "        print(\"시속 {}킬로미터로 전진\".format(self.speed))\n",
    "        \n",
    "    def auto_cruise(self):\n",
    "        print(\"자율 주행 모드\")\n",
    "        self.move(self.speed)\n",
    "        \n",
    "    def __del__(self):\n",
    "        Car3.inst_count -= 1\n",
    "        print (\"Car destroyed.\")\n",
    "        \n",
    "    # @staticmethod라고 앞에 데코레이터 붙여줌\n",
    "    # 매개변수에 self 없음\n",
    "    # @classmethod의 경우 self 대신 cls 들어감\n",
    "    # classmethod는 cls 인자를 활용하여 현재 클래스의 속성 가져옴\n",
    "    # staticmethod는 부모 클래스의 클래스 속성 값 가져옴\n",
    "    @staticmethod\n",
    "    def check_type(model_code):\n",
    "        if(model_code >= 20):\n",
    "            print(\"이 차는 전기차입니다.\")\n",
    "        elif(10 <= model_code < 20):\n",
    "            print(\"이 차는 가솔린차입니다.\")\n",
    "        else:\n",
    "            print(\"이 차는 디젤차입니다.\")\n",
    "    \n",
    "    @classmethod\n",
    "    def count_instance(cls):\n",
    "        print(\"자동차 객체의 개수: {}\".format(cls.inst_count))"
   ]
  },
  {
   "cell_type": "code",
   "execution_count": 160,
   "metadata": {},
   "outputs": [
    {
     "name": "stdout",
     "output_type": "stream",
     "text": [
      "자동차 객체의 개수: 0\n",
      "자동차 객체의 수 Car.count = 1\n",
      "자동차 객체의 개수: 1\n",
      "자동차 객체의 수 Car.count = 2\n",
      "자동차 객체의 개수: 2\n"
     ]
    }
   ],
   "source": [
    "Car3.count_instance()\n",
    "\n",
    "car1 = Car3(\"small\", \"red\")\n",
    "Car3.count_instance()\n",
    "\n",
    "car2 = Car3(\"big\", \"green\")\n",
    "Car3.count_instance()"
   ]
  },
  {
   "cell_type": "code",
   "execution_count": 110,
   "metadata": {},
   "outputs": [
    {
     "name": "stdout",
     "output_type": "stream",
     "text": [
      "이 차는 전기차입니다.\n"
     ]
    }
   ],
   "source": [
    "Car3.check_type(25)"
   ]
  },
  {
   "cell_type": "code",
   "execution_count": 158,
   "metadata": {},
   "outputs": [
    {
     "name": "stdout",
     "output_type": "stream",
     "text": [
      "Car destroyed.\n",
      "Car destroyed.\n"
     ]
    }
   ],
   "source": [
    "del car1\n",
    "del car2\n",
    "del Car3"
   ]
  },
  {
   "cell_type": "code",
   "execution_count": 184,
   "metadata": {},
   "outputs": [],
   "source": [
    "robot_name = 'R1'\n",
    "robot_pos = 0\n",
    "\n",
    "def robot_move():\n",
    "    global robot_pos\n",
    "    robot_pos += 1\n",
    "    print(\"{} position: {}\".format(robot_name, robot_pos))"
   ]
  },
  {
   "cell_type": "code",
   "execution_count": 185,
   "metadata": {},
   "outputs": [
    {
     "name": "stdout",
     "output_type": "stream",
     "text": [
      "R1 position: 1\n"
     ]
    }
   ],
   "source": [
    "robot_move()"
   ]
  },
  {
   "cell_type": "code",
   "execution_count": 188,
   "metadata": {},
   "outputs": [],
   "source": [
    "class Bicycle():\n",
    "    def __init__(self, wheel_size, color):\n",
    "        self.wheel_size = wheel_size\n",
    "        self.color = color\n",
    "        \n",
    "    def move(self, speed):\n",
    "        print(\"자전거: 시속 {}킬로미터로 전진\".format(speed))\n",
    "    \n",
    "    def turn(self, direction):\n",
    "        print(\"자전거: {} 회전\".format(direction))\n",
    "        \n",
    "    def stop(self):\n",
    "        print(\"자전거 ({}, {}): 정지\".format(self.wheel_size, self.color))\n",
    "        \n",
    "class FoldingBicycle(Bicycle):\n",
    "    def __init__(self, wheel_size, color, state):\n",
    "        Bicycle.__init__(self, wheel_size, color)\n",
    "        #super().__init__(self, wheel_size, color)\n",
    "        #super()\n",
    "        #도 사용 가능\n",
    "        self.state = state\n",
    "        \n",
    "    def fold(self):\n",
    "        self.state = \"folding\"\n",
    "        print(\"자전거: 접기, state = {}\".format(self.state))\n",
    "    \n",
    "    def unfold(self):\n",
    "        self.state = \"unfolding\"\n",
    "        print(\"자전거: 펴기, state = {}\".format(self.state))"
   ]
  },
  {
   "cell_type": "code",
   "execution_count": 189,
   "metadata": {},
   "outputs": [
    {
     "name": "stdout",
     "output_type": "stream",
     "text": [
      "자전거: 시속 20킬로미터로 전진\n",
      "자전거: 접기, state = folding\n",
      "자전거: 펴기, state = unfolding\n"
     ]
    }
   ],
   "source": [
    "folding_bicycle = FoldingBicycle(27, \"white\", \"unfolding\")\n",
    "\n",
    "folding_bicycle.move(20)\n",
    "folding_bicycle.fold()\n",
    "folding_bicycle.unfold()\n"
   ]
  },
  {
   "cell_type": "code",
   "execution_count": 192,
   "metadata": {},
   "outputs": [
    {
     "data": {
      "text/plain": [
       "'http://test.com:8080'"
      ]
     },
     "execution_count": 192,
     "metadata": {},
     "output_type": "execute_result"
    }
   ],
   "source": [
    "#인수 기본값 전달\n",
    "\n",
    "#키워드를 인수로 전달\n",
    "def connectURI(server, port):\n",
    "    str = \"http://\" + server + \":\" + port\n",
    "    \n",
    "    return str\n",
    "\n",
    "connectURI(\"test.com\", \"8080\")"
   ]
  },
  {
   "cell_type": "code",
   "execution_count": 196,
   "metadata": {},
   "outputs": [
    {
     "name": "stdout",
     "output_type": "stream",
     "text": [
      "apple is red\n"
     ]
    }
   ],
   "source": [
    "dic = {\"item\":\"apple\", \"color\":\"red\"}\n",
    "print(\"{0[item]} is {0[color]}\".format(dic))"
   ]
  },
  {
   "cell_type": "code",
   "execution_count": 197,
   "metadata": {},
   "outputs": [
    {
     "name": "stdout",
     "output_type": "stream",
     "text": [
      "apple is red\n"
     ]
    }
   ],
   "source": [
    "print(\"{item} is {color}\".format(**dic))"
   ]
  },
  {
   "cell_type": "code",
   "execution_count": 198,
   "metadata": {},
   "outputs": [
    {
     "name": "stdout",
     "output_type": "stream",
     "text": [
      "apple is red\n",
      "'apple' is 'red'\n",
      "'apple' is 'red'\n"
     ]
    }
   ],
   "source": [
    "print(\"{item!s} is {color!s}\".format(**dic))\n",
    "print(\"{item!r} is {color!r}\".format(**dic))\n",
    "print(\"{item!a} is {color!a}\".format(**dic))\n",
    "\n",
    "#!s, !r, !a 는 각각 str(), repr(), ascii()\n",
    "#!s은 사용자가 보기 편하게 출력하는 거라면\n",
    "#!r은 원래 그대로 출력 / 시스템이 해당 객체를 인식하는 공식적인 문자열 그대로 출력\n"
   ]
  },
  {
   "cell_type": "code",
   "execution_count": 205,
   "metadata": {},
   "outputs": [
    {
     "name": "stdout",
     "output_type": "stream",
     "text": [
      "[5, 4, 3, 2, 1]\n",
      "5\n",
      "0.15\n"
     ]
    }
   ],
   "source": [
    "numbers = [5,4,3,2,1]\n",
    "\n",
    "print(\"{numbers}\".format(**vars()))\n",
    "print(\"{numbers[0]}\".format(**vars()))\n",
    "\n",
    "class foo:\n",
    "    var = 0.15\n",
    "    \n",
    "f = foo()\n",
    "print(\"{f.var}\".format(**vars()))"
   ]
  },
  {
   "cell_type": "code",
   "execution_count": 211,
   "metadata": {},
   "outputs": [
    {
     "name": "stdout",
     "output_type": "stream",
     "text": [
      "BEGIN TRANSACTION;\n",
      "CREATE TABLE PhoneBook(Name text, PhoneNum text);\n",
      "INSERT INTO \"PhoneBook\" VALUES('Debora','011-1342-5321');\n",
      "INSERT INTO \"PhoneBook\" VALUES('Tony','011-536-1235');\n",
      "INSERT INTO \"PhoneBook\" VALUES('DPR','012-157-1365');\n",
      "COMMIT;\n"
     ]
    }
   ],
   "source": [
    "#데이타베이스 덤프 만들기 / database, dump\n",
    "#메모리에 데이터 저장\n",
    "import sqlite3\n",
    "\n",
    "con = sqlite3.connect(\":memory:\")\n",
    "cur = con.cursor()\n",
    "#cursor를 가져옴\n",
    "\n",
    "cur.execute(\"CREATE TABLE PhoneBook(Name text, PhoneNum text);\")\n",
    "cur.execute(\"INSERT INTO PhoneBook Values('Debora', '011-1342-5321');\")\n",
    "\n",
    "list = (('Tony', '011-536-1235'), ('DPR', '012-157-1365'))\n",
    "\n",
    "cur.executemany(\"INSERT INTO PhoneBook Values(?, ?);\", list)\n",
    "\n",
    "for l in con.iterdump():\n",
    "    print(l)\n",
    "    \n",
    "with open(\"dump.sql\", \"w\") as f:\n",
    "    for l in con.iterdump():\n",
    "        f.write('{0}\\n'.format(l))"
   ]
  },
  {
   "cell_type": "code",
   "execution_count": 234,
   "metadata": {},
   "outputs": [
    {
     "name": "stdout",
     "output_type": "stream",
     "text": [
      "Item: 10\n",
      "Item: 25\n",
      "Item: 30\n"
     ]
    }
   ],
   "source": [
    "L = [10, 25, 30]\n",
    "IterL = filter(None, L)\n",
    "for i in IterL:\n",
    "    print(\"Item: {}\".format(i))"
   ]
  },
  {
   "cell_type": "code",
   "execution_count": 251,
   "metadata": {},
   "outputs": [
    {
     "ename": "TypeError",
     "evalue": "'tuple' object is not callable",
     "output_type": "error",
     "traceback": [
      "\u001b[1;31m---------------------------------------------------------------------------\u001b[0m",
      "\u001b[1;31mTypeError\u001b[0m                                 Traceback (most recent call last)",
      "\u001b[1;32m<ipython-input-251-c88c9e6cc217>\u001b[0m in \u001b[0;36m<module>\u001b[1;34m\u001b[0m\n\u001b[0;32m      5\u001b[0m     \u001b[1;32mreturn\u001b[0m \u001b[0mi\u001b[0m\u001b[1;33m>\u001b[0m\u001b[1;36m20\u001b[0m\u001b[1;33m\u001b[0m\u001b[1;33m\u001b[0m\u001b[0m\n\u001b[0;32m      6\u001b[0m \u001b[1;33m\u001b[0m\u001b[0m\n\u001b[1;32m----> 7\u001b[1;33m \u001b[0mprint\u001b[0m\u001b[1;33m(\u001b[0m\u001b[0mlist\u001b[0m\u001b[1;33m(\u001b[0m\u001b[0mfilter\u001b[0m\u001b[1;33m(\u001b[0m\u001b[0mGetBiggerThan20\u001b[0m\u001b[1;33m,\u001b[0m \u001b[0mL\u001b[0m\u001b[1;33m)\u001b[0m\u001b[1;33m)\u001b[0m\u001b[1;33m)\u001b[0m\u001b[1;33m\u001b[0m\u001b[1;33m\u001b[0m\u001b[0m\n\u001b[0m\u001b[0;32m      8\u001b[0m \u001b[1;33m\u001b[0m\u001b[0m\n\u001b[0;32m      9\u001b[0m \u001b[0ma\u001b[0m \u001b[1;33m=\u001b[0m \u001b[0mfilter\u001b[0m\u001b[1;33m(\u001b[0m\u001b[0mGetBiggerThan20\u001b[0m\u001b[1;33m,\u001b[0m \u001b[0mL\u001b[0m\u001b[1;33m)\u001b[0m\u001b[1;33m\u001b[0m\u001b[1;33m\u001b[0m\u001b[0m\n",
      "\u001b[1;31mTypeError\u001b[0m: 'tuple' object is not callable"
     ]
    }
   ],
   "source": [
    "#map: 함수 적용\n",
    "#filter: 적용한 함수의 bool 값에 따라 값을 거름\n",
    "\n",
    "def GetBiggerThan20(i):\n",
    "    return i>20\n",
    "\n",
    "#print(list(filter(GetBiggerThan20, L)))\n",
    "#검색해보니 되는 구문인데 에러가 난다\n",
    "\n",
    "a = filter(GetBiggerThan20, L)\n",
    "b = filter(lambda i: i>20, L)\n",
    "\n",
    "for (x, y) in zip(a,b):\n",
    "    print(x, y)"
   ]
  },
  {
   "cell_type": "code",
   "execution_count": 270,
   "metadata": {},
   "outputs": [
    {
     "name": "stdout",
     "output_type": "stream",
     "text": [
      "모든 인수는 숫자여야 합니다. e에 에러 메시지 담음  unsupported operand type(s) for /: 'int' and 'str'\n",
      "finally는 항상 실행되는 구문\n"
     ]
    }
   ],
   "source": [
    "#예외 처리 / exception\n",
    "#예외 처리를 할 때는 자식 단계부터 예외 잡기\n",
    "#개발 과정의 rule을 위반하는 경우에도 사용 가능\n",
    "\n",
    "def divide(a, b):\n",
    "    return a/b\n",
    "\n",
    "try:\n",
    "    c = divide(5, 'string')\n",
    "except ZeroDivisionError:\n",
    "    print('두번째 인자가 0')\n",
    "except TypeError as e:\n",
    "    print('모든 인수는 숫자여야 합니다. e에 에러 메시지 담음 ', e.args[0])\n",
    "except:\n",
    "    print(\"ZeroDivisionError, TypeError를 제외한 Error 발생\")\n",
    "else:\n",
    "    print(\"오류가 없으면 else 구문 실행\")\n",
    "finally:\n",
    "    print(\"finally는 항상 실행되는 구문\")"
   ]
  },
  {
   "cell_type": "code",
   "execution_count": 272,
   "metadata": {},
   "outputs": [
    {
     "name": "stdout",
     "output_type": "stream",
     "text": [
      "hehe\n"
     ]
    }
   ],
   "source": [
    "#Finally를 생략할 수 없는 구조\n",
    "#어찌 됐든 마지막에 파일을 닫긴 해야함\n",
    "\n",
    "FilePath = './test.txt'\n",
    "\n",
    "try:\n",
    "    f = open(FilePath, 'r')\n",
    "    try:\n",
    "        data = f.read(128)\n",
    "        print(data)\n",
    "    finally:\n",
    "        f.close()\n",
    "        \n",
    "except IOError:\n",
    "    print('Fail to open {0} file'.format(FilePath))"
   ]
  },
  {
   "cell_type": "code",
   "execution_count": 275,
   "metadata": {},
   "outputs": [
    {
     "name": "stdout",
     "output_type": "stream",
     "text": [
      "NameError is Catched.\n"
     ]
    }
   ],
   "source": [
    "#raise 예외를 일부러 발생시킴\n",
    "\n",
    "def RaiseErrorFunc():\n",
    "    raise NameError #내장 예외인 NameError를 발생시킨다는 뜻\n",
    "    \n",
    "try:\n",
    "    RaiseErrorFunc()\n",
    "except:\n",
    "    print(\"NameError is Catched.\")"
   ]
  },
  {
   "cell_type": "code",
   "execution_count": 292,
   "metadata": {},
   "outputs": [],
   "source": [
    "class NegativeDivisionError(Exception):\n",
    "    def __init__(self, n):\n",
    "        self.value = n\n",
    "        if n < 0:\n",
    "            super().__init__('Second argument should be larger than 0')"
   ]
  },
  {
   "cell_type": "code",
   "execution_count": 293,
   "metadata": {},
   "outputs": [
    {
     "name": "stdout",
     "output_type": "stream",
     "text": [
      "Error - Second argument of PositiveDivide is  -3\n"
     ]
    }
   ],
   "source": [
    "def PositiveDivide(a, b):\n",
    "    if (b < 0):\n",
    "        raise NegativeDivisionError(b)\n",
    "    return a / b\n",
    "\n",
    "try:\n",
    "    ret = PositiveDivide(10, -3)\n",
    "    print('10 / 3 = {0}'.format(ret))\n",
    "except NegativeDivisionError as e:\n",
    "    print('Error - Second argument of PositiveDivide is ', e.value)\n",
    "except ZeroDivisionError as e:\n",
    "    print('Error - ', e.args[0])\n",
    "except:\n",
    "    print(e.args)"
   ]
  },
  {
   "cell_type": "code",
   "execution_count": 296,
   "metadata": {},
   "outputs": [
    {
     "ename": "AssertionError",
     "evalue": "Input value must be integer",
     "output_type": "error",
     "traceback": [
      "\u001b[1;31m---------------------------------------------------------------------------\u001b[0m",
      "\u001b[1;31mAssertionError\u001b[0m                            Traceback (most recent call last)",
      "\u001b[1;32m<ipython-input-296-ef7c8f1925fe>\u001b[0m in \u001b[0;36m<module>\u001b[1;34m\u001b[0m\n\u001b[0;32m      5\u001b[0m     \u001b[1;32mreturn\u001b[0m \u001b[0mx\u001b[0m \u001b[1;33m*\u001b[0m \u001b[1;36m10\u001b[0m\u001b[1;33m\u001b[0m\u001b[1;33m\u001b[0m\u001b[0m\n\u001b[0;32m      6\u001b[0m \u001b[1;33m\u001b[0m\u001b[0m\n\u001b[1;32m----> 7\u001b[1;33m \u001b[0mret\u001b[0m \u001b[1;33m=\u001b[0m \u001b[0mfoo\u001b[0m\u001b[1;33m(\u001b[0m\u001b[1;34m\"a\"\u001b[0m\u001b[1;33m)\u001b[0m \u001b[1;31m#Assertion Error 발생\u001b[0m\u001b[1;33m\u001b[0m\u001b[1;33m\u001b[0m\u001b[0m\n\u001b[0m\u001b[0;32m      8\u001b[0m \u001b[0mprint\u001b[0m\u001b[1;33m(\u001b[0m\u001b[0mret\u001b[0m\u001b[1;33m)\u001b[0m\u001b[1;33m\u001b[0m\u001b[1;33m\u001b[0m\u001b[0m\n",
      "\u001b[1;32m<ipython-input-296-ef7c8f1925fe>\u001b[0m in \u001b[0;36mfoo\u001b[1;34m(x)\u001b[0m\n\u001b[0;32m      2\u001b[0m \u001b[1;33m\u001b[0m\u001b[0m\n\u001b[0;32m      3\u001b[0m \u001b[1;32mdef\u001b[0m \u001b[0mfoo\u001b[0m\u001b[1;33m(\u001b[0m\u001b[0mx\u001b[0m\u001b[1;33m)\u001b[0m\u001b[1;33m:\u001b[0m\u001b[1;33m\u001b[0m\u001b[1;33m\u001b[0m\u001b[0m\n\u001b[1;32m----> 4\u001b[1;33m     \u001b[1;32massert\u001b[0m \u001b[0mtype\u001b[0m\u001b[1;33m(\u001b[0m\u001b[0mx\u001b[0m\u001b[1;33m)\u001b[0m \u001b[1;33m==\u001b[0m \u001b[0mint\u001b[0m\u001b[1;33m,\u001b[0m \u001b[1;34m\"Input value must be integer\"\u001b[0m\u001b[1;33m\u001b[0m\u001b[1;33m\u001b[0m\u001b[0m\n\u001b[0m\u001b[0;32m      5\u001b[0m     \u001b[1;32mreturn\u001b[0m \u001b[0mx\u001b[0m \u001b[1;33m*\u001b[0m \u001b[1;36m10\u001b[0m\u001b[1;33m\u001b[0m\u001b[1;33m\u001b[0m\u001b[0m\n\u001b[0;32m      6\u001b[0m \u001b[1;33m\u001b[0m\u001b[0m\n",
      "\u001b[1;31mAssertionError\u001b[0m: Input value must be integer"
     ]
    }
   ],
   "source": [
    "#assert\n",
    "\n",
    "def foo(x):\n",
    "    assert type(x) == int, \"Input value must be integer\"\n",
    "    return x * 10\n",
    "\n",
    "ret = foo(\"a\") #Assertion Error 발생\n",
    "print(ret)"
   ]
  },
  {
   "cell_type": "code",
   "execution_count": 298,
   "metadata": {},
   "outputs": [
    {
     "name": "stdout",
     "output_type": "stream",
     "text": [
      "['+82', '01-2345-6789']\n",
      "국내전화번호: 01-2345-6789\n"
     ]
    }
   ],
   "source": [
    "# split()\n",
    "\n",
    "phone_num = \"+82-01-2345-6789\"\n",
    "split_num = phone_num.split(\"-\", 1) #처음 1개만 분리 = 국가 번호만 분리하기\n",
    "print(split_num)\n",
    "print(\"국내전화번호: {0}\".format(split_num[1]))"
   ]
  },
  {
   "cell_type": "code",
   "execution_count": 320,
   "metadata": {},
   "outputs": [
    {
     "name": "stdout",
     "output_type": "stream",
     "text": [
      "Python\n",
      "abaabbPythona\n",
      "Python\n",
      "P #$&(y>>?@#t\\ ||@#  $^%h:  \"\\/o ++= =n\n",
      "Python\n"
     ]
    }
   ],
   "source": [
    "#strip(string)\n",
    "#앞 뒤의 string 제거\n",
    "#방향 지정하려면 rstrip, lstrip 이용\n",
    "\n",
    "str1 = \"abaabbPythonabbbbbbbbbbbb\"\n",
    "print(str1.strip(\"ab\"))\n",
    "print(str1.strip(\"b\"))\n",
    "print(str1.strip(\"b\"+\"a\"))\n",
    "\n",
    "import string\n",
    "str2 = \"@%P #$&(y>>?@#t\\\\ ||@#  $^%h:  \\\"\\/o ++= =n!\"\n",
    "print(str2.strip(string.punctuation + \" \"))\n",
    "#지울 문자열 아니면 거기서 끝, 만나기 전에는 있는 대로 다 지움\n",
    "str3 = \"@% #$&(>>?@#\\\\ ||@Python#  $^%:  \\\"\\/ ++= =!\"\n",
    "print(str3.strip(string.punctuation + \" \"))"
   ]
  },
  {
   "cell_type": "code",
   "execution_count": 322,
   "metadata": {},
   "outputs": [
    {
     "name": "stdout",
     "output_type": "stream",
     "text": [
      "철수님, 주소와 전화 번호를 입력해 주세요.\n",
      "영미님, 주소와 전화 번호를 입력해 주세요.\n"
     ]
    }
   ],
   "source": [
    "name1 = '철수'\n",
    "name2 = '영미'\n",
    "hello = '님, 주소와 전화 번호를 입력해 주세요.'\n",
    "print(name1 + hello)\n",
    "print(name2 + hello)\n"
   ]
  },
  {
   "cell_type": "code",
   "execution_count": 331,
   "metadata": {},
   "outputs": [
    {
     "data": {
      "text/plain": [
       "'+82::01::2345::6789'"
      ]
     },
     "execution_count": 331,
     "metadata": {},
     "output_type": "execute_result"
    }
   ],
   "source": [
    "split_num[0] + \"::\" + \"::\".join(split_num[1].split(\"-\"))"
   ]
  }
 ],
 "metadata": {
  "kernelspec": {
   "display_name": "Python 3",
   "language": "python",
   "name": "python3"
  },
  "language_info": {
   "codemirror_mode": {
    "name": "ipython",
    "version": 3
   },
   "file_extension": ".py",
   "mimetype": "text/x-python",
   "name": "python",
   "nbconvert_exporter": "python",
   "pygments_lexer": "ipython3",
   "version": "3.7.6"
  }
 },
 "nbformat": 4,
 "nbformat_minor": 4
}
