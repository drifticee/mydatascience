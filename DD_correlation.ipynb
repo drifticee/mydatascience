{
 "cells": [
  {
   "cell_type": "code",
   "execution_count": 1,
   "metadata": {},
   "outputs": [
    {
     "data": {
      "text/html": [
       "<div>\n",
       "<style scoped>\n",
       "    .dataframe tbody tr th:only-of-type {\n",
       "        vertical-align: middle;\n",
       "    }\n",
       "\n",
       "    .dataframe tbody tr th {\n",
       "        vertical-align: top;\n",
       "    }\n",
       "\n",
       "    .dataframe thead th {\n",
       "        text-align: right;\n",
       "    }\n",
       "</style>\n",
       "<table border=\"1\" class=\"dataframe\">\n",
       "  <thead>\n",
       "    <tr style=\"text-align: right;\">\n",
       "      <th></th>\n",
       "      <th>연번</th>\n",
       "      <th>성별</th>\n",
       "      <th>적발횟수</th>\n",
       "      <th>나이</th>\n",
       "      <th>알콜농도</th>\n",
       "      <th>측정일시</th>\n",
       "      <th>관할경찰서</th>\n",
       "    </tr>\n",
       "  </thead>\n",
       "  <tbody>\n",
       "    <tr>\n",
       "      <th>0</th>\n",
       "      <td>1</td>\n",
       "      <td>남자</td>\n",
       "      <td>1</td>\n",
       "      <td>30</td>\n",
       "      <td>0.105</td>\n",
       "      <td>2020-01-01 0:03</td>\n",
       "      <td>일산동부경찰서</td>\n",
       "    </tr>\n",
       "    <tr>\n",
       "      <th>1</th>\n",
       "      <td>2</td>\n",
       "      <td>남자</td>\n",
       "      <td>1</td>\n",
       "      <td>57</td>\n",
       "      <td>0.077</td>\n",
       "      <td>2020-01-01 0:13</td>\n",
       "      <td>부산연제경찰서</td>\n",
       "    </tr>\n",
       "    <tr>\n",
       "      <th>2</th>\n",
       "      <td>3</td>\n",
       "      <td>남자</td>\n",
       "      <td>1</td>\n",
       "      <td>68</td>\n",
       "      <td>0.089</td>\n",
       "      <td>2020-01-01 0:17</td>\n",
       "      <td>부천소사경찰서</td>\n",
       "    </tr>\n",
       "    <tr>\n",
       "      <th>3</th>\n",
       "      <td>4</td>\n",
       "      <td>남자</td>\n",
       "      <td>1</td>\n",
       "      <td>39</td>\n",
       "      <td>0.133</td>\n",
       "      <td>2020-01-01 0:17</td>\n",
       "      <td>마산중부경찰서</td>\n",
       "    </tr>\n",
       "    <tr>\n",
       "      <th>4</th>\n",
       "      <td>5</td>\n",
       "      <td>남자</td>\n",
       "      <td>1</td>\n",
       "      <td>37</td>\n",
       "      <td>측정거부</td>\n",
       "      <td>2020-01-01 0:19</td>\n",
       "      <td>수원서부경찰서</td>\n",
       "    </tr>\n",
       "  </tbody>\n",
       "</table>\n",
       "</div>"
      ],
      "text/plain": [
       "   연번  성별  적발횟수  나이   알콜농도             측정일시    관할경찰서\n",
       "0   1  남자     1  30  0.105  2020-01-01 0:03  일산동부경찰서\n",
       "1   2  남자     1  57  0.077  2020-01-01 0:13  부산연제경찰서\n",
       "2   3  남자     1  68  0.089  2020-01-01 0:17  부천소사경찰서\n",
       "3   4  남자     1  39  0.133  2020-01-01 0:17  마산중부경찰서\n",
       "4   5  남자     1  37   측정거부  2020-01-01 0:19  수원서부경찰서"
      ]
     },
     "execution_count": 1,
     "metadata": {},
     "output_type": "execute_result"
    }
   ],
   "source": [
    "import pandas as pd\n",
    "import numpy as np\n",
    "import requests\n",
    "from wordcloud import WordCloud\n",
    "import matplotlib as mpl\n",
    "import matplotlib.pyplot as plt\n",
    "import glob\n",
    "import xmltodict\n",
    "import pprint\n",
    "import geocoder\n",
    "import folium\n",
    "import seaborn as sns\n",
    "\n",
    "DD_file = 'C:\\\\users\\\\student\\\\mypy\\\\data\\\\DD\\\\Drunk_Driving_2020.csv'\n",
    "f = pd.read_csv(DD_file, encoding='euc-kr')\n",
    "f.head()"
   ]
  },
  {
   "cell_type": "code",
   "execution_count": 2,
   "metadata": {},
   "outputs": [],
   "source": [
    "df = pd.DataFrame(f)\n",
    "df = df.set_index('연번')"
   ]
  },
  {
   "cell_type": "code",
   "execution_count": 3,
   "metadata": {},
   "outputs": [
    {
     "data": {
      "text/html": [
       "<div>\n",
       "<style scoped>\n",
       "    .dataframe tbody tr th:only-of-type {\n",
       "        vertical-align: middle;\n",
       "    }\n",
       "\n",
       "    .dataframe tbody tr th {\n",
       "        vertical-align: top;\n",
       "    }\n",
       "\n",
       "    .dataframe thead th {\n",
       "        text-align: right;\n",
       "    }\n",
       "</style>\n",
       "<table border=\"1\" class=\"dataframe\">\n",
       "  <thead>\n",
       "    <tr style=\"text-align: right;\">\n",
       "      <th></th>\n",
       "      <th>성별</th>\n",
       "      <th>적발횟수</th>\n",
       "      <th>나이</th>\n",
       "      <th>알콜농도</th>\n",
       "      <th>측정일시</th>\n",
       "      <th>관할경찰서</th>\n",
       "    </tr>\n",
       "    <tr>\n",
       "      <th>연번</th>\n",
       "      <th></th>\n",
       "      <th></th>\n",
       "      <th></th>\n",
       "      <th></th>\n",
       "      <th></th>\n",
       "      <th></th>\n",
       "    </tr>\n",
       "  </thead>\n",
       "  <tbody>\n",
       "    <tr>\n",
       "      <th>1</th>\n",
       "      <td>남자</td>\n",
       "      <td>1</td>\n",
       "      <td>30</td>\n",
       "      <td>0.105</td>\n",
       "      <td>2020-01-01 0:03</td>\n",
       "      <td>일산동부경찰서</td>\n",
       "    </tr>\n",
       "    <tr>\n",
       "      <th>2</th>\n",
       "      <td>남자</td>\n",
       "      <td>1</td>\n",
       "      <td>57</td>\n",
       "      <td>0.077</td>\n",
       "      <td>2020-01-01 0:13</td>\n",
       "      <td>부산연제경찰서</td>\n",
       "    </tr>\n",
       "    <tr>\n",
       "      <th>3</th>\n",
       "      <td>남자</td>\n",
       "      <td>1</td>\n",
       "      <td>68</td>\n",
       "      <td>0.089</td>\n",
       "      <td>2020-01-01 0:17</td>\n",
       "      <td>부천소사경찰서</td>\n",
       "    </tr>\n",
       "    <tr>\n",
       "      <th>4</th>\n",
       "      <td>남자</td>\n",
       "      <td>1</td>\n",
       "      <td>39</td>\n",
       "      <td>0.133</td>\n",
       "      <td>2020-01-01 0:17</td>\n",
       "      <td>마산중부경찰서</td>\n",
       "    </tr>\n",
       "    <tr>\n",
       "      <th>5</th>\n",
       "      <td>남자</td>\n",
       "      <td>1</td>\n",
       "      <td>37</td>\n",
       "      <td>측정거부</td>\n",
       "      <td>2020-01-01 0:19</td>\n",
       "      <td>수원서부경찰서</td>\n",
       "    </tr>\n",
       "  </tbody>\n",
       "</table>\n",
       "</div>"
      ],
      "text/plain": [
       "    성별  적발횟수  나이   알콜농도             측정일시    관할경찰서\n",
       "연번                                               \n",
       "1   남자     1  30  0.105  2020-01-01 0:03  일산동부경찰서\n",
       "2   남자     1  57  0.077  2020-01-01 0:13  부산연제경찰서\n",
       "3   남자     1  68  0.089  2020-01-01 0:17  부천소사경찰서\n",
       "4   남자     1  39  0.133  2020-01-01 0:17  마산중부경찰서\n",
       "5   남자     1  37   측정거부  2020-01-01 0:19  수원서부경찰서"
      ]
     },
     "execution_count": 3,
     "metadata": {},
     "output_type": "execute_result"
    }
   ],
   "source": [
    "df.head()"
   ]
  },
  {
   "cell_type": "code",
   "execution_count": 4,
   "metadata": {},
   "outputs": [
    {
     "data": {
      "text/html": [
       "<div>\n",
       "<style scoped>\n",
       "    .dataframe tbody tr th:only-of-type {\n",
       "        vertical-align: middle;\n",
       "    }\n",
       "\n",
       "    .dataframe tbody tr th {\n",
       "        vertical-align: top;\n",
       "    }\n",
       "\n",
       "    .dataframe thead th {\n",
       "        text-align: right;\n",
       "    }\n",
       "</style>\n",
       "<table border=\"1\" class=\"dataframe\">\n",
       "  <thead>\n",
       "    <tr style=\"text-align: right;\">\n",
       "      <th></th>\n",
       "      <th>나이</th>\n",
       "      <th>알콜농도</th>\n",
       "    </tr>\n",
       "    <tr>\n",
       "      <th>연번</th>\n",
       "      <th></th>\n",
       "      <th></th>\n",
       "    </tr>\n",
       "  </thead>\n",
       "  <tbody>\n",
       "    <tr>\n",
       "      <th>1</th>\n",
       "      <td>30</td>\n",
       "      <td>0.105</td>\n",
       "    </tr>\n",
       "    <tr>\n",
       "      <th>2</th>\n",
       "      <td>57</td>\n",
       "      <td>0.077</td>\n",
       "    </tr>\n",
       "    <tr>\n",
       "      <th>3</th>\n",
       "      <td>68</td>\n",
       "      <td>0.089</td>\n",
       "    </tr>\n",
       "    <tr>\n",
       "      <th>4</th>\n",
       "      <td>39</td>\n",
       "      <td>0.133</td>\n",
       "    </tr>\n",
       "    <tr>\n",
       "      <th>5</th>\n",
       "      <td>37</td>\n",
       "      <td>측정거부</td>\n",
       "    </tr>\n",
       "    <tr>\n",
       "      <th>...</th>\n",
       "      <td>...</td>\n",
       "      <td>...</td>\n",
       "    </tr>\n",
       "    <tr>\n",
       "      <th>24798</th>\n",
       "      <td>25</td>\n",
       "      <td>0.097</td>\n",
       "    </tr>\n",
       "    <tr>\n",
       "      <th>24799</th>\n",
       "      <td>47</td>\n",
       "      <td>0.175</td>\n",
       "    </tr>\n",
       "    <tr>\n",
       "      <th>24800</th>\n",
       "      <td>48</td>\n",
       "      <td>0.122</td>\n",
       "    </tr>\n",
       "    <tr>\n",
       "      <th>24801</th>\n",
       "      <td>42</td>\n",
       "      <td>측정거부</td>\n",
       "    </tr>\n",
       "    <tr>\n",
       "      <th>24802</th>\n",
       "      <td>45</td>\n",
       "      <td>0.124</td>\n",
       "    </tr>\n",
       "  </tbody>\n",
       "</table>\n",
       "<p>24802 rows × 2 columns</p>\n",
       "</div>"
      ],
      "text/plain": [
       "       나이   알콜농도\n",
       "연번              \n",
       "1      30  0.105\n",
       "2      57  0.077\n",
       "3      68  0.089\n",
       "4      39  0.133\n",
       "5      37   측정거부\n",
       "...    ..    ...\n",
       "24798  25  0.097\n",
       "24799  47  0.175\n",
       "24800  48  0.122\n",
       "24801  42   측정거부\n",
       "24802  45  0.124\n",
       "\n",
       "[24802 rows x 2 columns]"
      ]
     },
     "execution_count": 4,
     "metadata": {},
     "output_type": "execute_result"
    }
   ],
   "source": [
    "df_age_den = df[['나이','알콜농도']]\n",
    "df_age_den"
   ]
  },
  {
   "cell_type": "code",
   "execution_count": 5,
   "metadata": {
    "scrolled": true
   },
   "outputs": [
    {
     "name": "stdout",
     "output_type": "stream",
     "text": [
      "나이 불명 비율: 0.000524151278122732 \n",
      " 알콜농도 측정거부 비율: 0.04044028707362309\n"
     ]
    }
   ],
   "source": [
    "age_count = sum(df_age_den['나이'] == '불명')\n",
    "den_count = sum(df_age_den['알콜농도'] == '측정거부')\n",
    "age_sum = len(df_age_den['나이'])\n",
    "den_sum = len(df_age_den['알콜농도'])\n",
    "\n",
    "print('나이 불명 비율:', age_count/age_sum, '\\n', '알콜농도 측정거부 비율:',\n",
    "      den_count/den_sum)"
   ]
  },
  {
   "cell_type": "code",
   "execution_count": 6,
   "metadata": {},
   "outputs": [],
   "source": [
    "#매우 낮은 비율이므로 해당 행 제거\n",
    "df_age_den = df_age_den.drop(df_age_den[df_age_den['알콜농도'] == '측정거부'].index)\n",
    "df_age_den = df_age_den.drop(df_age_den[df_age_den['나이'] == '불명'].index)"
   ]
  },
  {
   "cell_type": "code",
   "execution_count": 7,
   "metadata": {},
   "outputs": [],
   "source": [
    "#object dtype을 int와 float으로 수정\n",
    "df_age_den['나이'] = df_age_den['나이'].astype('int64')\n",
    "df_age_den['알콜농도'] = df_age_den['알콜농도'].astype('float')"
   ]
  },
  {
   "cell_type": "code",
   "execution_count": 8,
   "metadata": {},
   "outputs": [
    {
     "data": {
      "text/html": [
       "<div>\n",
       "<style scoped>\n",
       "    .dataframe tbody tr th:only-of-type {\n",
       "        vertical-align: middle;\n",
       "    }\n",
       "\n",
       "    .dataframe tbody tr th {\n",
       "        vertical-align: top;\n",
       "    }\n",
       "\n",
       "    .dataframe thead th {\n",
       "        text-align: right;\n",
       "    }\n",
       "</style>\n",
       "<table border=\"1\" class=\"dataframe\">\n",
       "  <thead>\n",
       "    <tr style=\"text-align: right;\">\n",
       "      <th></th>\n",
       "      <th>나이</th>\n",
       "      <th>알콜농도</th>\n",
       "    </tr>\n",
       "  </thead>\n",
       "  <tbody>\n",
       "    <tr>\n",
       "      <th>count</th>\n",
       "      <td>23790.000000</td>\n",
       "      <td>23790.000000</td>\n",
       "    </tr>\n",
       "    <tr>\n",
       "      <th>mean</th>\n",
       "      <td>41.502648</td>\n",
       "      <td>0.111889</td>\n",
       "    </tr>\n",
       "    <tr>\n",
       "      <th>std</th>\n",
       "      <td>12.573084</td>\n",
       "      <td>0.050534</td>\n",
       "    </tr>\n",
       "    <tr>\n",
       "      <th>min</th>\n",
       "      <td>-67.000000</td>\n",
       "      <td>0.030000</td>\n",
       "    </tr>\n",
       "    <tr>\n",
       "      <th>25%</th>\n",
       "      <td>31.000000</td>\n",
       "      <td>0.075000</td>\n",
       "    </tr>\n",
       "    <tr>\n",
       "      <th>50%</th>\n",
       "      <td>41.000000</td>\n",
       "      <td>0.107000</td>\n",
       "    </tr>\n",
       "    <tr>\n",
       "      <th>75%</th>\n",
       "      <td>51.000000</td>\n",
       "      <td>0.142000</td>\n",
       "    </tr>\n",
       "    <tr>\n",
       "      <th>max</th>\n",
       "      <td>92.000000</td>\n",
       "      <td>0.980000</td>\n",
       "    </tr>\n",
       "  </tbody>\n",
       "</table>\n",
       "</div>"
      ],
      "text/plain": [
       "                 나이          알콜농도\n",
       "count  23790.000000  23790.000000\n",
       "mean      41.502648      0.111889\n",
       "std       12.573084      0.050534\n",
       "min      -67.000000      0.030000\n",
       "25%       31.000000      0.075000\n",
       "50%       41.000000      0.107000\n",
       "75%       51.000000      0.142000\n",
       "max       92.000000      0.980000"
      ]
     },
     "execution_count": 8,
     "metadata": {},
     "output_type": "execute_result"
    }
   ],
   "source": [
    "df_age_den.describe()\n",
    "\n",
    "#이상치 중 -60 넘는 값이 보임"
   ]
  },
  {
   "cell_type": "code",
   "execution_count": 9,
   "metadata": {},
   "outputs": [],
   "source": [
    "#오타로 추정 마이너스 제거해줌\n",
    "\n",
    "df_age_den['나이'] = df_age_den['나이'].apply(lambda x: -x if x < 0 else x)"
   ]
  },
  {
   "cell_type": "code",
   "execution_count": 10,
   "metadata": {},
   "outputs": [
    {
     "data": {
      "text/html": [
       "<div>\n",
       "<style scoped>\n",
       "    .dataframe tbody tr th:only-of-type {\n",
       "        vertical-align: middle;\n",
       "    }\n",
       "\n",
       "    .dataframe tbody tr th {\n",
       "        vertical-align: top;\n",
       "    }\n",
       "\n",
       "    .dataframe thead th {\n",
       "        text-align: right;\n",
       "    }\n",
       "</style>\n",
       "<table border=\"1\" class=\"dataframe\">\n",
       "  <thead>\n",
       "    <tr style=\"text-align: right;\">\n",
       "      <th></th>\n",
       "      <th>나이</th>\n",
       "      <th>알콜농도</th>\n",
       "    </tr>\n",
       "  </thead>\n",
       "  <tbody>\n",
       "    <tr>\n",
       "      <th>count</th>\n",
       "      <td>23790.000000</td>\n",
       "      <td>23790.000000</td>\n",
       "    </tr>\n",
       "    <tr>\n",
       "      <th>mean</th>\n",
       "      <td>41.508281</td>\n",
       "      <td>0.111889</td>\n",
       "    </tr>\n",
       "    <tr>\n",
       "      <th>std</th>\n",
       "      <td>12.554476</td>\n",
       "      <td>0.050534</td>\n",
       "    </tr>\n",
       "    <tr>\n",
       "      <th>min</th>\n",
       "      <td>14.000000</td>\n",
       "      <td>0.030000</td>\n",
       "    </tr>\n",
       "    <tr>\n",
       "      <th>25%</th>\n",
       "      <td>31.000000</td>\n",
       "      <td>0.075000</td>\n",
       "    </tr>\n",
       "    <tr>\n",
       "      <th>50%</th>\n",
       "      <td>41.000000</td>\n",
       "      <td>0.107000</td>\n",
       "    </tr>\n",
       "    <tr>\n",
       "      <th>75%</th>\n",
       "      <td>51.000000</td>\n",
       "      <td>0.142000</td>\n",
       "    </tr>\n",
       "    <tr>\n",
       "      <th>max</th>\n",
       "      <td>92.000000</td>\n",
       "      <td>0.980000</td>\n",
       "    </tr>\n",
       "  </tbody>\n",
       "</table>\n",
       "</div>"
      ],
      "text/plain": [
       "                 나이          알콜농도\n",
       "count  23790.000000  23790.000000\n",
       "mean      41.508281      0.111889\n",
       "std       12.554476      0.050534\n",
       "min       14.000000      0.030000\n",
       "25%       31.000000      0.075000\n",
       "50%       41.000000      0.107000\n",
       "75%       51.000000      0.142000\n",
       "max       92.000000      0.980000"
      ]
     },
     "execution_count": 10,
     "metadata": {},
     "output_type": "execute_result"
    }
   ],
   "source": [
    "df_age_den.describe()"
   ]
  },
  {
   "cell_type": "code",
   "execution_count": 11,
   "metadata": {},
   "outputs": [
    {
     "data": {
      "image/png": "[encoded data removed]",
      "text/plain": [
       "<Figure size 1440x720 with 1 Axes>"
      ]
     },
     "metadata": {
      "needs_background": "light"
     },
     "output_type": "display_data"
    }
   ],
   "source": [
    "#각각을 boxplot 그려보기\n",
    "%matplotlib inline\n",
    "mpl.rcParams['font.family'] = 'Malgun Gothic'\n",
    "mpl.rcParams['axes.unicode_minus'] = False\n",
    "#font 설정\n",
    "plt.figure(figsize=(20,10))\n",
    "#크기 설정\n",
    "\n",
    "sns.boxplot(data = df_age_den)\n",
    "plt.show()\n",
    "\n",
    "#그리고 나이와 알콜농도 스케일이 달라 찌그러져 보임"
   ]
  },
  {
   "cell_type": "code",
   "execution_count": 12,
   "metadata": {},
   "outputs": [
    {
     "name": "stdout",
     "output_type": "stream",
     "text": [
      "나이 최소: 14 최대: 92\n",
      "농도 최소: 0.03 최대: 0.98\n"
     ]
    }
   ],
   "source": [
    "print('나이 최소:',min(df_age_den['나이']),'최대:',max(df_age_den['나이']))\n",
    "print('농도 최소:',min(df_age_den['알콜농도']),'최대:',max(df_age_den['알콜농도']))\n",
    "\n",
    "#scale 차이가 남"
   ]
  },
  {
   "cell_type": "code",
   "execution_count": 13,
   "metadata": {},
   "outputs": [],
   "source": [
    "df_scaled = pd.DataFrame()\n",
    "df_scaled['나이'] = ((df_age_den['나이']) - min(df_age_den['나이']))/(max(df_age_den['나이']) - min(df_age_den['나이']))\n",
    "df_scaled['알콜농도'] = ((df_age_den['알콜농도']) - min(df_age_den['알콜농도']))/(max(df_age_den['알콜농도']) - min(df_age_den['알콜농도']))\n",
    "# 나이 - 최소 나이 = 나이 값이 0부터 존재하도록 함, 값의 범위는 0 ~ 최대 나이 - 최소 나이\n",
    "# 이를 최대 나이 - 최소 나이 해주면 0 ~ 1 사이 값이 됨\n",
    "# 알콜농도도 마찬가지"
   ]
  },
  {
   "cell_type": "code",
   "execution_count": 14,
   "metadata": {},
   "outputs": [
    {
     "name": "stdout",
     "output_type": "stream",
     "text": [
      "나이 최소: 0.0 최대: 1.0\n",
      "농도 최소: 0.0 최대: 1.0\n"
     ]
    }
   ],
   "source": [
    "print('나이 최소:',min(df_scaled['나이']),'최대:',max(df_scaled['나이']))\n",
    "print('농도 최소:',min(df_scaled['알콜농도']),'최대:',max(df_scaled['알콜농도']))"
   ]
  },
  {
   "cell_type": "code",
   "execution_count": 15,
   "metadata": {},
   "outputs": [
    {
     "data": {
      "image/png": "[encoded data removed]",
      "text/plain": [
       "<Figure size 1080x1080 with 1 Axes>"
      ]
     },
     "metadata": {
      "needs_background": "light"
     },
     "output_type": "display_data"
    }
   ],
   "source": [
    "plt.figure(figsize=(15,15))\n",
    "sns.boxplot(data = df_scaled)\n",
    "plt.show()\n",
    "\n",
    "# 혈중 알콜 농도 참고 자료: https://www.donga.com/news/Society/article/all/20170809/85750027/2"
   ]
  },
  {
   "cell_type": "code",
   "execution_count": 16,
   "metadata": {},
   "outputs": [
    {
     "data": {
      "image/png": "[encoded data removed]",
      "text/plain": [
       "<Figure size 1440x720 with 1 Axes>"
      ]
     },
     "metadata": {
      "needs_background": "light"
     },
     "output_type": "display_data"
    }
   ],
   "source": [
    "plt.figure(figsize=(20,10))\n",
    "x = df_scaled['나이']\n",
    "y = df_scaled['알콜농도']\n",
    "\n",
    "plt.xlabel('나이')\n",
    "plt.ylabel('알콜농도')\n",
    "\n",
    "plt.scatter(x,y)\n",
    "plt.show()"
   ]
  },
  {
   "cell_type": "code",
   "execution_count": 17,
   "metadata": {},
   "outputs": [
    {
     "data": {
      "text/plain": [
       "-0.013466233833952264"
      ]
     },
     "execution_count": 17,
     "metadata": {},
     "output_type": "execute_result"
    }
   ],
   "source": [
    "df_scaled['나이'].corr(df_scaled['알콜농도'])\n",
    "#0에 아주 가까움: 두 데이터는 독립이라는 의미"
   ]
  },
  {
   "cell_type": "code",
   "execution_count": null,
   "metadata": {},
   "outputs": [],
   "source": []
  }
 ],
 "metadata": {
  "kernelspec": {
   "display_name": "Python 3",
   "language": "python",
   "name": "python3"
  },
  "language_info": {
   "codemirror_mode": {
    "name": "ipython",
    "version": 3
   },
   "file_extension": ".py",
   "mimetype": "text/x-python",
   "name": "python",
   "nbconvert_exporter": "python",
   "pygments_lexer": "ipython3",
   "version": "3.7.6"
  }
 },
 "nbformat": 4,
 "nbformat_minor": 4
}
