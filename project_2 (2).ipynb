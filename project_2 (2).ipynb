{
 "cells": [
  {
   "cell_type": "code",
   "execution_count": 1,
   "metadata": {},
   "outputs": [
    {
     "name": "stdout",
     "output_type": "stream",
     "text": [
      "1 Physical GPUs, 1 Logical GPUs\n"
     ]
    }
   ],
   "source": [
    "import tensorflow as tf\n",
    "\n",
    "gpus = tf.config.experimental.list_physical_devices('GPU')\n",
    "if gpus:\n",
    "  try:\n",
    "    # Currently, memory growth needs to be the same across GPUs\n",
    "    for gpu in gpus:\n",
    "      tf.config.experimental.set_memory_growth(gpu, True)\n",
    "    logical_gpus = tf.config.experimental.list_logical_devices('GPU')\n",
    "    print(len(gpus), \"Physical GPUs,\", len(logical_gpus), \"Logical GPUs\")\n",
    "  except RuntimeError as e:\n",
    "    # Memory growth must be set before GPUs have been initialized\n",
    "    print(e)"
   ]
  },
  {
   "cell_type": "code",
   "execution_count": 2,
   "metadata": {},
   "outputs": [],
   "source": [
    "import warnings\n",
    "warnings.filterwarnings('ignore')\n",
    "import pandas as pd\n",
    "import numpy as np\n",
    "import matplotlib.pyplot as plt\n",
    "import tensorflow as tf\n",
    "from keras import layers\n",
    "from keras import models\n",
    "from keras.utils.np_utils import to_categorical\n",
    "from tensorflow.keras.preprocessing.image import ImageDataGenerator\n",
    "from tensorflow.keras.callbacks import LearningRateScheduler\n",
    "from sklearn.model_selection import train_test_split\n",
    "from tensorflow import keras\n",
    "import os\n",
    "from scipy import ndimage"
   ]
  },
  {
   "cell_type": "markdown",
   "metadata": {},
   "source": [
    "#### Data Augumentation"
   ]
  },
  {
   "cell_type": "code",
   "execution_count": 3,
   "metadata": {},
   "outputs": [],
   "source": [
    "def data_augmentation(images, labels):\n",
    "    aug_images = []\n",
    "    aug_labels = []    \n",
    "    \n",
    "    for x, y in zip(images, labels):        \n",
    "        aug_images.append(x)\n",
    "        aug_labels.append(y)\n",
    "        \n",
    "        bg_value = np.median(x)\n",
    "        \n",
    "        for _ in range(6):\n",
    "            angle = np.random.randint(-15, 15, 1)            \n",
    "            rot_img = ndimage.rotate(x, angle[0], reshape=False, cval=bg_value)\n",
    "            \n",
    "            shift = np.random.randint(-2, 2, 2)\n",
    "            shift_img = ndimage.shift(rot_img, shift, cval=bg_value)            \n",
    "            \n",
    "            aug_images.append(shift_img)\n",
    "            aug_labels.append(y)\n",
    "            \n",
    "    aug_images = np.array(aug_images)\n",
    "    aug_labels = np.array(aug_labels)\n",
    "    \n",
    "    return aug_images, aug_labels"
   ]
  },
  {
   "cell_type": "code",
   "execution_count": 4,
   "metadata": {},
   "outputs": [],
   "source": [
    "cur_dir = os.getcwd()\n",
    "ckpt_dir_name = 'checkpoints'\n",
    "model_dir_name = 'minst_cnn_best'\n",
    "\n",
    "checkpoint_dir = os.path.join(cur_dir, ckpt_dir_name, model_dir_name)\n",
    "os.makedirs(checkpoint_dir, exist_ok=True)\n",
    "\n",
    "checkpoint_prefix = os.path.join(checkpoint_dir, model_dir_name)"
   ]
  },
  {
   "cell_type": "markdown",
   "metadata": {},
   "source": [
    "#### Data PipeLine -- 1"
   ]
  },
  {
   "cell_type": "code",
   "execution_count": 5,
   "metadata": {},
   "outputs": [],
   "source": [
    "# TRAIN\n",
    "train = pd.read_csv('./data/train.csv')\n",
    "train_digit = train['digit'].values\n",
    "train_letter = train['letter'].values\n",
    "train_img = train.iloc[:,3:].values.reshape(-1,28,28)\n",
    "\n",
    "\n",
    "\n",
    "# TEST\n",
    "test = pd.read_csv('./data/test.csv')\n",
    "test_img = test.iloc[:,2:].values.reshape(-1, 28, 28, 1).astype(np.int)\n",
    "X_test_letter = test['letter'].values\n",
    "\n",
    "answer = pd.read_csv('./data/team_answer.csv')\n",
    "\n",
    "y = train['digit']\n",
    "\n",
    "\n",
    "test_img = test.drop(['id', 'letter'], axis=1).values\n",
    "test_img = test_img.reshape(-1, 28, 28, 1)\n",
    "test_img = test_img/255\n",
    "\n",
    "output = pd.read_csv('./data/submission.csv')"
   ]
  },
  {
   "cell_type": "markdown",
   "metadata": {},
   "source": [
    "#### 파라미터"
   ]
  },
  {
   "cell_type": "code",
   "execution_count": 13,
   "metadata": {},
   "outputs": [],
   "source": [
    "learning_rate = 0.001\n",
    "training_epochs = 6\n",
    "batch_size = 100"
   ]
  },
  {
   "cell_type": "code",
   "execution_count": 7,
   "metadata": {},
   "outputs": [],
   "source": [
    "X_train, X_test, Y_train, Y_test = train_test_split(train_img, y, test_size = 0.2)\n",
    "X_train, Y_train = data_augmentation(X_train, Y_train)\n",
    "\n",
    "X_train = X_train.astype(np.float32) / 255.\n",
    "X_test = X_test.astype(np.float32) / 255.\n",
    "X_train = np.expand_dims(X_train, axis=-1)\n",
    "X_test = np.expand_dims(X_test, axis=-1)\n",
    "\n",
    "\n",
    "Y_train = to_categorical(Y_train, 10)\n",
    "Y_test = to_categorical(Y_test, 10) \n",
    "\n",
    "train_data = tf.data.Dataset.from_tensor_slices((X_train, Y_train)).shuffle(\n",
    "                buffer_size = 10000).batch(batch_size)\n",
    "test_data = tf.data.Dataset.from_tensor_slices((X_test, Y_test)).batch(batch_size)"
   ]
  },
  {
   "cell_type": "code",
   "execution_count": 8,
   "metadata": {},
   "outputs": [],
   "source": [
    "class ConvBNRelu(tf.keras.Model):\n",
    "    def __init__(self, filters, kernel_size=3, strides=1, padding='SAME'):\n",
    "        super(ConvBNRelu, self).__init__()\n",
    "        self.conv = keras.layers.Conv2D(filters=filters, kernel_size=kernel_size, strides=strides, \n",
    "                                        padding=padding, kernel_initializer='he_normal')\n",
    "        self.batchnorm = tf.keras.layers.BatchNormalization()\n",
    "    def call(self, inputs, training=False):\n",
    "        layer = self.conv(inputs)\n",
    "        layer = self.batchnorm(layer)\n",
    "        layer = tf.nn.relu(layer)\n",
    "        return layer"
   ]
  },
  {
   "cell_type": "code",
   "execution_count": 9,
   "metadata": {},
   "outputs": [],
   "source": [
    "class DenseBNRelu(tf.keras.Model):\n",
    "    def __init__(self, units):\n",
    "        super(DenseBNRelu, self).__init__()\n",
    "        self.dense = keras.layers.Dense(units=units, kernel_initializer='he_normal')\n",
    "        self.batchnorm = tf.keras.layers.BatchNormalization()\n",
    "    def call(self, inputs, training=False):\n",
    "        layer = self.dense(inputs)\n",
    "        layer = self.batchnorm(layer)\n",
    "        layer = tf.nn.relu(layer)\n",
    "        return layer"
   ]
  },
  {
   "cell_type": "code",
   "execution_count": 14,
   "metadata": {},
   "outputs": [],
   "source": [
    "class Create_Model(tf.keras.Model):\n",
    "    def __init__(self):\n",
    "        super(Create_Model, self).__init__()\n",
    "        self.conv1 = ConvBNRelu(filters=32, kernel_size=[3, 3], padding='SAME')        \n",
    "        self.pool1 = keras.layers.MaxPool2D(padding='SAME')\n",
    "        self.conv2 = ConvBNRelu(filters=64, kernel_size=[3, 3], padding='SAME')\n",
    "        self.pool2 = keras.layers.MaxPool2D(padding='SAME')\n",
    "        self.conv3 = ConvBNRelu(filters=128, kernel_size=[3, 3], padding='SAME')\n",
    "        self.pool3 = keras.layers.MaxPool2D(padding='SAME')\n",
    "        self.pool3_flat = keras.layers.Flatten()\n",
    "        self.dense4 = DenseBNRelu(units=256)\n",
    "        self.drop4 = keras.layers.Dropout(rate=0.4)\n",
    "        self.dense5 = keras.layers.Dense(units=10, kernel_initializer='glorot_normal')\n",
    "    def call(self, inputs, training=False):\n",
    "        net = self.conv1(inputs)        \n",
    "        net = self.pool1(net)\n",
    "        net = self.conv2(net)\n",
    "        net = self.pool2(net)\n",
    "        net = self.conv3(net)\n",
    "        net = self.pool3(net)\n",
    "        net = self.pool3_flat(net)\n",
    "        net = self.dense4(net)\n",
    "        net = self.drop4(net)\n",
    "        net = self.dense5(net)\n",
    "        return net"
   ]
  },
  {
   "cell_type": "code",
   "execution_count": 15,
   "metadata": {},
   "outputs": [],
   "source": [
    "models = []\n",
    "num_models = 5\n",
    "for m in range(num_models):\n",
    "    models.append(Create_Model())"
   ]
  },
  {
   "cell_type": "code",
   "execution_count": 16,
   "metadata": {},
   "outputs": [],
   "source": [
    "def loss_fn(model, images, labels):\n",
    "    logits = model(images, training=True)\n",
    "    loss = tf.reduce_mean(tf.keras.losses.categorical_crossentropy(\n",
    "        y_pred=logits, y_true=labels, from_logits=True))    \n",
    "    return loss"
   ]
  },
  {
   "cell_type": "code",
   "execution_count": 17,
   "metadata": {},
   "outputs": [],
   "source": [
    "def grad(model, images, labels):\n",
    "    with tf.GradientTape() as tape:\n",
    "        loss = loss_fn(model, images, labels)\n",
    "    return tape.gradient(loss, model.trainable_variables)"
   ]
  },
  {
   "cell_type": "code",
   "execution_count": 18,
   "metadata": {},
   "outputs": [],
   "source": [
    "def evaluate(models, images, labels):\n",
    "    predictions = np.zeros_like(labels)\n",
    "    for model in models:\n",
    "        logits = model(images, training=False)\n",
    "        predictions += logits\n",
    "    correct_prediction = tf.equal(tf.argmax(predictions, 1), tf.argmax(labels, 1))\n",
    "    accuracy = tf.reduce_mean(tf.cast(correct_prediction, tf.float32))\n",
    "    return accuracy"
   ]
  },
  {
   "cell_type": "markdown",
   "metadata": {},
   "source": [
    "#### LearningRate Decay"
   ]
  },
  {
   "cell_type": "code",
   "execution_count": 24,
   "metadata": {},
   "outputs": [],
   "source": [
    "lr_decay = tf.keras.optimizers.schedules.ExponentialDecay(learning_rate,\n",
    "                                                          X_train.shape[0]/batch_size*num_models*5,\n",
    "                                                          0.5, staircase=True)\n",
    "optimizer = tf.keras.optimizers.Adam(learning_rate=lr_decay)"
   ]
  },
  {
   "cell_type": "code",
   "execution_count": 25,
   "metadata": {},
   "outputs": [],
   "source": [
    "checkpoints = []\n",
    "for m in range(num_models):\n",
    "    checkpoints.append(tf.train.Checkpoint(cnn=models[m]))"
   ]
  },
  {
   "cell_type": "code",
   "execution_count": 26,
   "metadata": {},
   "outputs": [],
   "source": [
    "class Create_Model2(tf.keras.Model):\n",
    "    def __init__(self):\n",
    "        super(Create_Model2, self).__init__()\n",
    "        self.conv0 = ConvBNRelu(filters=32, kernel_size=[3, 3], padding='SAME')        \n",
    "        self.conv1 = ConvBNRelu(filters=32, kernel_size=[3, 3], padding='SAME')        \n",
    "        self.pool1 = keras.layers.MaxPool2D(padding='SAME')\n",
    "        \n",
    "        self.drop1 = keras.layers.Dropout(rate=0.3)\n",
    "        \n",
    "        self.conv2 = ConvBNRelu(filters=64, kernel_size=[3, 3], padding='SAME')        \n",
    "        self.conv3 = ConvBNRelu(filters=64, kernel_size=[3, 3], padding='SAME')        \n",
    "        self.conv4 = ConvBNRelu(filters=64, kernel_size=[3, 3], padding='SAME')\n",
    "        self.pool4 = keras.layers.MaxPool2D(padding='SAME')\n",
    "        \n",
    "        self.drop4 = keras.layers.Dropout(rate=0.3)\n",
    "        \n",
    "        self.conv5 = ConvBNRelu(filters=128, kernel_size=[3, 3], padding='SAME')\n",
    "        self.conv6 = ConvBNRelu(filters=128, kernel_size=[3, 3], padding='SAME')\n",
    "        self.conv7 = ConvBNRelu(filters=128, kernel_size=[3, 3], padding='SAME')\n",
    "        self.pool7 = keras.layers.MaxPool2D(padding='SAME')\n",
    "        \n",
    "        self.drop7 = keras.layers.Dropout(rate=0.3)\n",
    "        \n",
    "        self.conv8 = ConvBNRelu(filters=256, kernel_size=[3, 3], padding='SAME')\n",
    "        self.conv9 = ConvBNRelu(filters=256, kernel_size=[3, 3], padding='SAME')\n",
    "        self.conv10 = ConvBNRelu(filters=256, kernel_size=[3, 3], padding='SAME')\n",
    "        self.pool10 = keras.layers.MaxPool2D(padding='SAME')   \n",
    "        \n",
    "        self.pool10_flat = keras.layers.Flatten()\n",
    "        self.dense11 = DenseBNRelu(units=256)\n",
    "        \n",
    "        self.drop12 = keras.layers.Dropout(rate=0.5)\n",
    "        \n",
    "        self.dense13 = keras.layers.Dense(units=10, kernel_initializer='glorot_normal')\n",
    "    def call(self, inputs, training=False):\n",
    "        net = self.conv0(inputs)\n",
    "        net = self.conv1(net)\n",
    "        net = self.pool1(net)\n",
    "        net = self.drop1(net)\n",
    "                         \n",
    "        net = self.conv2(net)\n",
    "        net = self.conv3(net)\n",
    "        net = self.conv4(net)\n",
    "        net = self.pool4(net)\n",
    "        net = self.drop4(net)\n",
    "                         \n",
    "        net = self.conv5(net)\n",
    "        net = self.conv6(net)\n",
    "        net = self.conv7(net)\n",
    "        net = self.pool7(net)\n",
    "        net = self.drop7(net)\n",
    "                         \n",
    "        net = self.conv8(net)\n",
    "        net = self.conv9(net)\n",
    "        net = self.conv10(net)\n",
    "        net = self.pool10(net)\n",
    "\n",
    "        net = self.pool10_flat(net)\n",
    "        net = self.dense11(net)\n",
    "        net = self.drop12(net)\n",
    "        net = self.dense13(net)\n",
    "        return net"
   ]
  },
  {
   "cell_type": "code",
   "execution_count": 27,
   "metadata": {},
   "outputs": [],
   "source": [
    "models = []\n",
    "num_models = 5\n",
    "for m in range(num_models):\n",
    "    models.append(Create_Model2())"
   ]
  },
  {
   "cell_type": "code",
   "execution_count": 28,
   "metadata": {},
   "outputs": [
    {
     "name": "stdout",
     "output_type": "stream",
     "text": [
      "Learning started. It takes sometime.\n",
      "Epoch: 1 loss = 1.96192145 train accuracy =  0.1300 test accuracy =  0.1020\n",
      "Epoch: 2 loss = 0.99880451 train accuracy =  0.3064 test accuracy =  0.5980\n",
      "Epoch: 3 loss = 0.63695079 train accuracy =  0.7735 test accuracy =  0.8880\n",
      "Epoch: 4 loss = 0.46527433 train accuracy =  0.8828 test accuracy =  0.8880\n",
      "Epoch: 5 loss = 0.36735347 train accuracy =  0.9288 test accuracy =  0.9020\n",
      "Epoch: 6 loss = 0.26305613 train accuracy =  0.9621 test accuracy =  0.9140\n",
      "Learning Finished!\n"
     ]
    }
   ],
   "source": [
    "print('Learning started. It takes sometime.')\n",
    "for epoch in range(training_epochs):\n",
    "    avg_loss = 0.\n",
    "    avg_train_acc = 0.\n",
    "    avg_test_acc = 0.\n",
    "    train_step = 0\n",
    "    test_step = 0        \n",
    "    for images, labels in train_data:\n",
    "        for model in models:\n",
    "            grads = grad(model, images, labels)                \n",
    "            optimizer.apply_gradients(zip(grads, model.trainable_variables))            \n",
    "            loss = loss_fn(model, images, labels)\n",
    "            avg_loss += loss / num_models\n",
    "        acc = evaluate(models, images, labels)\n",
    "        avg_train_acc += acc\n",
    "        train_step += 1\n",
    "    avg_loss = avg_loss / train_step\n",
    "    avg_train_acc = avg_train_acc / train_step\n",
    "    \n",
    "    for images, labels in test_data:        \n",
    "        acc = evaluate(models, images, labels)        \n",
    "        avg_test_acc += acc\n",
    "        test_step += 1    \n",
    "    avg_test_acc = avg_test_acc / test_step    \n",
    "\n",
    "    print('Epoch:', '{}'.format(epoch + 1), 'loss =', '{:.8f}'.format(avg_loss), \n",
    "          'train accuracy = ', '{:.4f}'.format(avg_train_acc), \n",
    "          'test accuracy = ', '{:.4f}'.format(avg_test_acc))\n",
    "    \n",
    "    \n",
    "    for idx, checkpoint in enumerate(checkpoints):\n",
    "        checkpoint.save(file_prefix=checkpoint_prefix+'-{}'.format(idx))\n",
    "\n",
    "print('Learning Finished!')"
   ]
  },
  {
   "cell_type": "markdown",
   "metadata": {},
   "source": [
    "### Prediction"
   ]
  },
  {
   "cell_type": "code",
   "execution_count": 190,
   "metadata": {},
   "outputs": [],
   "source": [
    "test_size = len(test_img)\n",
    "predictions = np.zeros(test_size * 10).reshape(test_size,10)\n",
    "\n",
    "for m_idx, m in enumerate(models):\n",
    "    p = m.predict(test_img)\n",
    "    predictions += p\n",
    "    \n",
    "pred = np.zeros(10)\n",
    "\n",
    "pred = np.argmax(predictions, axis = 1)\n",
    "\n",
    "output['digit'] = pred\n",
    "\n",
    "output.to_csv('Output.csv', index = False)"
   ]
  },
  {
   "cell_type": "code",
   "execution_count": null,
   "metadata": {},
   "outputs": [],
   "source": []
  }
 ],
 "metadata": {
  "kernelspec": {
   "display_name": "Python 3",
   "language": "python",
   "name": "python3"
  },
  "language_info": {
   "codemirror_mode": {
    "name": "ipython",
    "version": 3
   },
   "file_extension": ".py",
   "mimetype": "text/x-python",
   "name": "python",
   "nbconvert_exporter": "python",
   "pygments_lexer": "ipython3",
   "version": "3.7.7"
  }
 },
 "nbformat": 4,
 "nbformat_minor": 4
}
