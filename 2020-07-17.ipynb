{
 "cells": [
  {
   "cell_type": "code",
   "execution_count": 9,
   "metadata": {
    "scrolled": false
   },
   "outputs": [
    {
     "name": "stdout",
     "output_type": "stream",
     "text": [
      "   Apple  Banana  Orange\n",
      "0      5       8       9\n",
      "1      7       6       2\n"
     ]
    }
   ],
   "source": [
    "import pandas as pd\n",
    "list1 = pd.DataFrame({'Apple':[5,7], 'Banana':[8,6], 'Orange': [9,2]})\n",
    "print (list1)"
   ]
  },
  {
   "cell_type": "code",
   "execution_count": 26,
   "metadata": {},
   "outputs": [
    {
     "name": "stdout",
     "output_type": "stream",
     "text": [
      "5 8 9 \n",
      "7 6 2 \n"
     ]
    }
   ],
   "source": [
    "M = [[5,8,9],[7,6,2]]\n",
    "\n",
    "for i in range(len(M)):\n",
    "    for j in range(len(M[i])):\n",
    "        print(M[i][j], end = ' ')\n",
    "    print(\"\")"
   ]
  },
  {
   "cell_type": "code",
   "execution_count": 45,
   "metadata": {},
   "outputs": [
    {
     "name": "stdout",
     "output_type": "stream",
     "text": [
      "Name:     John   Age:   35   Dept:       Sales\n",
      "-----------------------------------------------\n",
      "Name:    James   Age:   27   Dept:          HR\n",
      "-----------------------------------------------\n",
      "Name:    Harry   Age:   30   Dept:   Marketing\n",
      "-----------------------------------------------\n"
     ]
    }
   ],
   "source": [
    "emp = [['John', 35, 'Sales'], ['James', 27, 'HR'], ['Harry', 30, 'Marketing']]\n",
    "for i in emp:\n",
    "    print (\"%6s\" % \"Name: \", \"%7s\" % i[0], \"%7s\" % \"Age: \", \"%3s\" % i[1], \"%8s\" % \"Dept: \", \"%10s\" % i[2])\n",
    "    print (\"-\"*47)"
   ]
  },
  {
   "cell_type": "code",
   "execution_count": 63,
   "metadata": {},
   "outputs": [
    {
     "name": "stdout",
     "output_type": "stream",
     "text": [
      "[11, 14, 17, 20]\n",
      "[29, 38, 47, 56]\n",
      "[33, 42, 51, 60]\n"
     ]
    }
   ],
   "source": [
    "X = [[1,2],[4,5],[3,6]]\n",
    "Y = [[1,2,3,4],[5,6,7,8]]\n",
    "\n",
    "result = [[0,0,0,0], [0,0,0,0], [0,0,0,0]]\n",
    "\n",
    "for i in range(len(X)):\n",
    "    for j in range(len(Y[0])):\n",
    "        for k in range(len(Y)):\n",
    "            result[i][j] += X[i][k] * Y[k][j]\n",
    "\n",
    "for r in result:\n",
    "    print(r)"
   ]
  },
  {
   "cell_type": "code",
   "execution_count": 65,
   "metadata": {},
   "outputs": [
    {
     "name": "stdout",
     "output_type": "stream",
     "text": [
      "[11, 14, 17, 20]\n",
      "[29, 38, 47, 56]\n",
      "[33, 42, 51, 60]\n"
     ]
    }
   ],
   "source": [
    "#same above\n",
    "\n",
    "X = [[1,2],[4,5],[3,6]]\n",
    "Y = [[1,2,3,4],[5,6,7,8]]\n",
    "\n",
    "res = [[0,0,0,0], [0,0,0,0], [0,0,0,0]]\n",
    "\n",
    "3\n",
    "4\n",
    "2\n",
    "\n",
    "for row in range(len(X)):\n",
    "    for col in range(len(Y[0])):\n",
    "        for x in range(len(X[0])):\n",
    "            res[row][col] += X[row][x] * Y[x][col]\n",
    "\n",
    "for r in res:\n",
    "    print(r)"
   ]
  },
  {
   "cell_type": "code",
   "execution_count": 67,
   "metadata": {},
   "outputs": [
    {
     "name": "stdout",
     "output_type": "stream",
     "text": [
      "7\n"
     ]
    }
   ],
   "source": [
    "#function, global\n",
    "\n",
    "gl = 3\n",
    "\n",
    "def a():\n",
    "    global gl\n",
    "    gl = 7\n",
    "\n",
    "a()\n",
    "print(gl)"
   ]
  },
  {
   "cell_type": "code",
   "execution_count": 88,
   "metadata": {},
   "outputs": [
    {
     "name": "stdout",
     "output_type": "stream",
     "text": [
      "8\n",
      "13\n"
     ]
    }
   ],
   "source": [
    "#lambda: 함수를 한 줄로\n",
    "\n",
    "lam_func = lambda x, y: x + y\n",
    "print(lam_func(3,5))\n",
    "\n",
    "from functools import reduce\n",
    "reduce(lambda x, y: x + y, [0,1,2,3,4])\n",
    "reduce(lambda x, y: y + x, 'abcde')\n",
    "# lambda 뒤의 매개변수는 list, 'abcde' 는 문자열이자 list\n",
    "# reduce는 처음부터 마지막까지 연속으로 실행하는 함수인 듯\n",
    "\n",
    "fib1 = lambda n: 1 if n <= 2 else fib(n-1) + fib(n-2)\n",
    "print(fib1(7))"
   ]
  },
  {
   "cell_type": "code",
   "execution_count": 76,
   "metadata": {},
   "outputs": [
    {
     "name": "stdout",
     "output_type": "stream",
     "text": [
      "[0, 1, 4, 9, 16]\n"
     ]
    }
   ],
   "source": [
    "lam_list1 = list(map(lambda x: x**2, range(5)))\n",
    "print (lam_list1)"
   ]
  },
  {
   "cell_type": "code",
   "execution_count": 77,
   "metadata": {},
   "outputs": [
    {
     "name": "stdout",
     "output_type": "stream",
     "text": [
      "[1, 2, 5]\n"
     ]
    }
   ],
   "source": [
    "#int, str, float\n",
    "#list, tuple, set\n",
    "\n",
    "test_list1 = [1,2,3,4,5]\n",
    "test_list2 = [3,4,7,8,9]\n",
    "\n",
    "print(list(set(test_list1)-set(test_list2)))"
   ]
  },
  {
   "cell_type": "code",
   "execution_count": 79,
   "metadata": {},
   "outputs": [
    {
     "name": "stdout",
     "output_type": "stream",
     "text": [
      "min: 80, max: 95 \n"
     ]
    }
   ],
   "source": [
    "#formatting\n",
    "scores1 = [90,80,95,85]\n",
    "\n",
    "print(\"min: {0}, max: {1} \".format(min(scores1), max(scores1)))"
   ]
  },
  {
   "cell_type": "code",
   "execution_count": 480,
   "metadata": {},
   "outputs": [],
   "source": [
    "#class 클래스\n",
    "import random\n",
    "\n",
    "class Car:\n",
    "    def __init__(self, brand, fuel_eff, fuel = 0):\n",
    "        self.__brand = brand\n",
    "        self.__fuel = fuel\n",
    "        self.__fuel_eff = fuel_eff\n",
    "        self.__km = randint(0,200000)\n",
    "        self.__breakdown = (random.random()) / 10\n",
    "        self.__state = 0\n",
    "        print(\"I bought a new {}!\".format(self.__brand))\n",
    "    def Car_start(self):\n",
    "        if self.__fuel <= 0:\n",
    "            self.__state = 0\n",
    "            print(\"Start failed!, out of fuel\")\n",
    "        elif self.__state == 1:\n",
    "            print(\"already running!\")\n",
    "        elif random.random() < self.__breakdown:\n",
    "            print(\"Start failed.\")\n",
    "            print(\"phew...\")\n",
    "        else:\n",
    "            self.__state = 1\n",
    "            print(\"br- br-\")\n",
    "    def drive(self, fuel_used = 0):\n",
    "        if self.__state == 0:\n",
    "            print(\"Start the car first!\")\n",
    "        elif fuel_used > self.__fuel:\n",
    "            print(\"{} km moved.\".format(self.__fuel*self.__fuel_eff))\n",
    "            print(\"Not enough fuel, Car stopped!\")\n",
    "            print(\"{} left to destination.\".format((fuel_used-self.__fuel)*self.__fuel_eff))\n",
    "            self.__fuel = 0\n",
    "        else:\n",
    "            self.__fuel -= fuel_used\n",
    "            self.__km += fuel_used*self.__fuel_eff\n",
    "            print(\"{} km moved.\".format(fuel_used*self.__fuel_eff))\n",
    "            print(\"Arrived!\")\n",
    "            print(\"{}L of fuel left.\".format(self.__fuel))\n",
    "    def turn_off(self):\n",
    "        self.__state = 0\n",
    "        print(\"brrr...\")\n",
    "    def fuel_ins(self, fuel_input):\n",
    "        self.__fuel += fuel_input\n",
    "        print(\"Current fuel: {}\".format(self.__fuel))\n",
    "    def Car_check(self):\n",
    "        print(\"Breakdown percentage: {}%\".format(self.__breakdown*100))\n",
    "    def __del__(self):\n",
    "        print(\"Bye {}...\".format(self.__brand))"
   ]
  },
  {
   "cell_type": "code",
   "execution_count": 474,
   "metadata": {},
   "outputs": [
    {
     "name": "stdout",
     "output_type": "stream",
     "text": [
      "I bought a new Audi!\n",
      "Car destroyed.\n"
     ]
    }
   ],
   "source": [
    "mynewcar = Car(\"Audi\", fuel_eff = 15, fuel = 500)\n",
    "\n",
    "# If you create an instance with a same instance name\n",
    "# which is not destructed yet, new insatance is created\n",
    "# after destructing prior one.\n",
    "# (which means calling a destructor for a new instance.)"
   ]
  },
  {
   "cell_type": "code",
   "execution_count": 471,
   "metadata": {},
   "outputs": [
    {
     "ename": "AttributeError",
     "evalue": "'Car' object has no attribute '__breakdown'",
     "output_type": "error",
     "traceback": [
      "\u001b[1;31m---------------------------------------------------------------------------\u001b[0m",
      "\u001b[1;31mAttributeError\u001b[0m                            Traceback (most recent call last)",
      "\u001b[1;32m<ipython-input-471-de6fba9cbf92>\u001b[0m in \u001b[0;36m<module>\u001b[1;34m\u001b[0m\n\u001b[1;32m----> 1\u001b[1;33m \u001b[0mmynewcar\u001b[0m\u001b[1;33m.\u001b[0m\u001b[0m__breakdown\u001b[0m\u001b[1;33m\u001b[0m\u001b[1;33m\u001b[0m\u001b[0m\n\u001b[0m",
      "\u001b[1;31mAttributeError\u001b[0m: 'Car' object has no attribute '__breakdown'"
     ]
    }
   ],
   "source": [
    "mynewcar.__breakdown"
   ]
  },
  {
   "cell_type": "code",
   "execution_count": 440,
   "metadata": {},
   "outputs": [
    {
     "name": "stdout",
     "output_type": "stream",
     "text": [
      "Breakdown percentage: 0.8229727570416867%\n"
     ]
    }
   ],
   "source": [
    "mynewcar.Car_check()"
   ]
  },
  {
   "cell_type": "code",
   "execution_count": 441,
   "metadata": {},
   "outputs": [
    {
     "name": "stdout",
     "output_type": "stream",
     "text": [
      "Start the car first!\n"
     ]
    }
   ],
   "source": [
    "mynewcar.drive(30)"
   ]
  },
  {
   "cell_type": "code",
   "execution_count": 442,
   "metadata": {},
   "outputs": [
    {
     "name": "stdout",
     "output_type": "stream",
     "text": [
      "br- br-\n"
     ]
    }
   ],
   "source": [
    "mynewcar.Car_start()"
   ]
  },
  {
   "cell_type": "code",
   "execution_count": 443,
   "metadata": {},
   "outputs": [
    {
     "name": "stdout",
     "output_type": "stream",
     "text": [
      "3975 km moved.\n",
      "Arrived!\n",
      "235L of fuel left.\n"
     ]
    }
   ],
   "source": [
    "mynewcar.drive(265)"
   ]
  },
  {
   "cell_type": "code",
   "execution_count": 444,
   "metadata": {},
   "outputs": [
    {
     "name": "stdout",
     "output_type": "stream",
     "text": [
      "Current fuel: 335\n"
     ]
    }
   ],
   "source": [
    "mynewcar.fuel_ins(100)"
   ]
  },
  {
   "cell_type": "code",
   "execution_count": 445,
   "metadata": {},
   "outputs": [
    {
     "name": "stdout",
     "output_type": "stream",
     "text": [
      "0 km moved.\n",
      "Arrived!\n",
      "335L of fuel left.\n"
     ]
    }
   ],
   "source": [
    "mynewcar.drive()"
   ]
  },
  {
   "cell_type": "code",
   "execution_count": 446,
   "metadata": {},
   "outputs": [
    {
     "name": "stdout",
     "output_type": "stream",
     "text": [
      "1500 km moved.\n",
      "Arrived!\n",
      "235L of fuel left.\n"
     ]
    }
   ],
   "source": [
    "mynewcar.drive(fuel_used = 100)"
   ]
  },
  {
   "cell_type": "code",
   "execution_count": 447,
   "metadata": {},
   "outputs": [
    {
     "name": "stdout",
     "output_type": "stream",
     "text": [
      "3525 km moved.\n",
      "Not enough fuel, Car stopped!\n",
      "3975 left to destination.\n"
     ]
    }
   ],
   "source": [
    "mynewcar.drive(fuel_used = 500)"
   ]
  },
  {
   "cell_type": "code",
   "execution_count": 448,
   "metadata": {},
   "outputs": [
    {
     "name": "stdout",
     "output_type": "stream",
     "text": [
      "Current fuel: 500\n"
     ]
    }
   ],
   "source": [
    "mynewcar.fuel_ins(500)"
   ]
  },
  {
   "cell_type": "code",
   "execution_count": 449,
   "metadata": {},
   "outputs": [
    {
     "name": "stdout",
     "output_type": "stream",
     "text": [
      "6000 km moved.\n",
      "Arrived!\n",
      "100L of fuel left.\n"
     ]
    }
   ],
   "source": [
    "mynewcar.drive(fuel_used = 400)"
   ]
  },
  {
   "cell_type": "code",
   "execution_count": 450,
   "metadata": {},
   "outputs": [
    {
     "name": "stdout",
     "output_type": "stream",
     "text": [
      "brrr...\n"
     ]
    }
   ],
   "source": [
    "mynewcar.turn_off()"
   ]
  },
  {
   "cell_type": "code",
   "execution_count": 451,
   "metadata": {},
   "outputs": [
    {
     "name": "stdout",
     "output_type": "stream",
     "text": [
      "Car destroyed.\n"
     ]
    }
   ],
   "source": [
    "del mynewcar"
   ]
  },
  {
   "cell_type": "code",
   "execution_count": 481,
   "metadata": {
    "scrolled": true
   },
   "outputs": [
    {
     "name": "stdout",
     "output_type": "stream",
     "text": [
      "I bought a new Hyundai!\n"
     ]
    }
   ],
   "source": [
    "mynewnewcar = Car(\"Hyundai\", 20)"
   ]
  },
  {
   "cell_type": "code",
   "execution_count": 482,
   "metadata": {},
   "outputs": [
    {
     "name": "stdout",
     "output_type": "stream",
     "text": [
      "Bye Hyundai...\n"
     ]
    }
   ],
   "source": [
    "del mynewnewcar"
   ]
  },
  {
   "cell_type": "code",
   "execution_count": 658,
   "metadata": {},
   "outputs": [],
   "source": [
    "#클래스 변수: self로 부르는 instance 변수(각 instance별로 다른 변수)가 아닌\n",
    "# 각 클래스마다 갖는 변수. self가 아닌 클래스 이름으로 호출\n",
    "\n",
    "class people():\n",
    "    __num_of_p = 0\n",
    "    \n",
    "    def __init__(self, name):\n",
    "        self.__name = name\n",
    "        people.__num_of_p += 1\n",
    "        print(\"Hi! {}.\".format(self.__name))\n",
    "    def nop_check(self):\n",
    "        print(\"{} people here\".format(people.__num_of_p))\n",
    "    def __del__(self):\n",
    "        people.__num_of_p -= 1\n",
    "        print(\"{} has gone... {} people left.\".format(self.__name, people.__num_of_p))"
   ]
  },
  {
   "cell_type": "code",
   "execution_count": null,
   "metadata": {},
   "outputs": [],
   "source": [
    "import sys\n",
    "sys.getrefcount(people)"
   ]
  },
  {
   "cell_type": "code",
   "execution_count": 668,
   "metadata": {},
   "outputs": [
    {
     "name": "stdout",
     "output_type": "stream",
     "text": [
      "Hi! John.\n",
      "John has gone... 4 people left.\n",
      "Hi! James.\n",
      "James has gone... 4 people left.\n",
      "Hi! Julia.\n",
      "Julia has gone... 4 people left.\n",
      "Hi! Jenny.\n",
      "Jenny has gone... 4 people left.\n"
     ]
    }
   ],
   "source": [
    "man1 = people(\"John\")\n",
    "man2 = people(\"James\")\n",
    "wmn1 = people(\"Julia\")\n",
    "wmn2 = people(\"Jenny\")"
   ]
  },
  {
   "cell_type": "code",
   "execution_count": 664,
   "metadata": {},
   "outputs": [
    {
     "data": {
      "text/plain": [
       "9"
      ]
     },
     "execution_count": 664,
     "metadata": {},
     "output_type": "execute_result"
    }
   ],
   "source": [
    "import sys\n",
    "sys.getrefcount(people)\n",
    "#reference count는 객체가 참조될 때마다 1씩 증가\n",
    "#변수에 객체 할당, list에 추가, class instance에서 속성으로 추가하는 등의 data structure에 객체 추가\n",
    "#객체를 함수의 인수로 전달\n",
    "\n",
    "#또한 sys.getrefcount() 함수에 전달하면서도 참조 횟수가 증가\n",
    "\n",
    "#순환 참조: 객체가 자기 자신을 가리키는 것\n",
    "#서로 가리키는 경우: \n",
    "#a = func_pr() 0x01\n",
    "#b = func_pr() 0x02\n",
    "#a.x = b, b.x=a\n",
    "#0x01 과 0x02의 refcount는 각각 2\n",
    "# del a, del b 를 하면 각각 1이 되지만 서로를 참조하고 있기에 0이 될 수는 없는 쓰레기(garbage)가 된다\n",
    "\n",
    "#https://medium.com/dmsfordsm/garbage-collection-in-python-777916fd3189"
   ]
  },
  {
   "cell_type": "code",
   "execution_count": 665,
   "metadata": {},
   "outputs": [
    {
     "data": {
      "text/plain": [
       "(700, 10, 10)"
      ]
     },
     "execution_count": 665,
     "metadata": {},
     "output_type": "execute_result"
    }
   ],
   "source": [
    "import gc\n",
    "gc.get_threshold()"
   ]
  },
  {
   "cell_type": "code",
   "execution_count": 671,
   "metadata": {},
   "outputs": [
    {
     "data": {
      "text/plain": [
       "(214, 0, 0)"
      ]
     },
     "execution_count": 671,
     "metadata": {},
     "output_type": "execute_result"
    }
   ],
   "source": [
    "gc.get_count()"
   ]
  },
  {
   "cell_type": "code",
   "execution_count": 667,
   "metadata": {},
   "outputs": [
    {
     "data": {
      "text/plain": [
       "120"
      ]
     },
     "execution_count": 667,
     "metadata": {},
     "output_type": "execute_result"
    }
   ],
   "source": [
    "gc.collect()"
   ]
  },
  {
   "cell_type": "code",
   "execution_count": 670,
   "metadata": {},
   "outputs": [
    {
     "name": "stdout",
     "output_type": "stream",
     "text": [
      "John has gone... 3 people left.\n",
      "James has gone... 2 people left.\n",
      "Julia has gone... 1 people left.\n",
      "Jenny has gone... 0 people left.\n"
     ]
    }
   ],
   "source": [
    "del man1\n",
    "del man2\n",
    "del wmn1\n",
    "del wmn2"
   ]
  },
  {
   "cell_type": "code",
   "execution_count": 570,
   "metadata": {},
   "outputs": [],
   "source": [
    "del people"
   ]
  },
  {
   "cell_type": "code",
   "execution_count": null,
   "metadata": {},
   "outputs": [],
   "source": []
  }
 ],
 "metadata": {
  "kernelspec": {
   "display_name": "Python 3",
   "language": "python",
   "name": "python3"
  },
  "language_info": {
   "codemirror_mode": {
    "name": "ipython",
    "version": 3
   },
   "file_extension": ".py",
   "mimetype": "text/x-python",
   "name": "python",
   "nbconvert_exporter": "python",
   "pygments_lexer": "ipython3",
   "version": "3.7.6"
  }
 },
 "nbformat": 4,
 "nbformat_minor": 4
}
