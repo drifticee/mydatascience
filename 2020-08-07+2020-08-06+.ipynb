{
 "cells": [
  {
   "cell_type": "code",
   "execution_count": 6,
   "metadata": {},
   "outputs": [
    {
     "data": {
      "text/plain": [
       "-0.001119359203955339"
      ]
     },
     "execution_count": 6,
     "metadata": {},
     "output_type": "execute_result"
    }
   ],
   "source": [
    "#모델 평가 - 기본 회귀 모델\n",
    "#사이킷런의 DummyRegressor\n",
    "from sklearn import datasets\n",
    "from sklearn.dummy import DummyRegressor\n",
    "#실제 모델과 비교하기 위해 사용할 수 있는 매우 간단한 모델을 만듦\n",
    "from sklearn.model_selection import train_test_split\n",
    "\n",
    "data = datasets.load_boston()\n",
    "#data = datasets.load_iris()\n",
    "\n",
    "features, target = data.data, data.target\n",
    "\n",
    "features_train, features_test, target_train, target_test = train_test_split(features, target, random_state=0)\n",
    "\n",
    "dummy = DummyRegressor(strategy = 'mean')\n",
    "\n",
    "dummy.fit(features_train, target_train)\n",
    "\n",
    "dummy.score(features_test, target_test)\n",
    "#score가 음수?"
   ]
  },
  {
   "cell_type": "code",
   "execution_count": 16,
   "metadata": {},
   "outputs": [
    {
     "data": {
      "text/plain": [
       "-0.06510502029325727"
      ]
     },
     "execution_count": 16,
     "metadata": {},
     "output_type": "execute_result"
    }
   ],
   "source": [
    "#strategy 매개변수의 값을 constant로 주면 모든 샘플에 대해 일정한 값으로 예측\n",
    "from sklearn.linear_model import LinearRegression\n",
    "\n",
    "ols = LinearRegression()\n",
    "ols.fit(features_train, target_train)\n",
    "\n",
    "ols.score(features_test, target_test)\n",
    "\n",
    "clf = DummyRegressor(strategy='constant', constant=20)\n",
    "clf.fit(features_train, target_train)\n",
    "\n",
    "clf.score(features_test, target_test)"
   ]
  },
  {
   "cell_type": "code",
   "execution_count": 19,
   "metadata": {},
   "outputs": [
    {
     "name": "stdout",
     "output_type": "stream",
     "text": [
      "train_max: 50.0\n"
     ]
    },
    {
     "data": {
      "text/plain": [
       "-9.387396643523266"
      ]
     },
     "execution_count": 19,
     "metadata": {},
     "output_type": "execute_result"
    }
   ],
   "source": [
    "clf = DummyRegressor(strategy='quantile', quantile=1.0)\n",
    "#분위값 기준으로 예측 - 0~1 사이, 0.5인 경우 중간값, 1은 최대값\n",
    "\n",
    "clf.fit(features_train, target_train)\n",
    "\n",
    "# 훈련 세트 타깃의 최대값으로 예측합니다.\n",
    "clf.predict(features_test)\n",
    "\n",
    "import numpy as np\n",
    "# 훈련 세트의 타깃에서 최댓값을 확인합니다.\n",
    "print('train_max:', np.max(target_train))\n",
    "clf.score(features_test, target_test)"
   ]
  },
  {
   "cell_type": "code",
   "execution_count": 23,
   "metadata": {},
   "outputs": [
    {
     "data": {
      "text/plain": [
       "0.42105263157894735"
      ]
     },
     "execution_count": 23,
     "metadata": {},
     "output_type": "execute_result"
    }
   ],
   "source": [
    "from sklearn.datasets import load_iris\n",
    "from sklearn.dummy import DummyClassifier\n",
    "#DummyClassifier의 strategy매개변수는 예측값을 생성하는 여러 옵션 제공\n",
    "#stratified: 타깃 벡터의 클래스 비율에 비례하게\n",
    "#uniform: 클래스 비중이 균등하도록\n",
    "#most_frequent: 무조건 훈련 세트에서 가장 많은 타깃 레이블로\n",
    "\n",
    "from sklearn.model_selection import train_test_split\n",
    "\n",
    "iris = load_iris()\n",
    "features, target = iris.data, iris.target\n",
    "\n",
    "features_train, features_test, target_train, target_test = train_test_split( features, target, random_state=0)\n",
    "\n",
    "#strategy=uniform을 사용하여 클래스 비중이 균등하게 랜덤 예측\n",
    "dummy = DummyClassifier(strategy='uniform', random_state=1)\n",
    "dummy.fit(features_train, target_train)\n",
    "dummy.score(features_test, target_test)"
   ]
  },
  {
   "cell_type": "code",
   "execution_count": 24,
   "metadata": {},
   "outputs": [
    {
     "data": {
      "text/plain": [
       "array([2, 2, 2, 2, 2, 2, 2, 2, 2, 2, 2, 2, 2, 2, 2, 2, 2, 2, 2, 2, 2, 2,\n",
       "       2, 2, 2, 2, 2, 2, 2, 2, 2, 2, 2, 2, 2, 2, 2, 2])"
      ]
     },
     "execution_count": 24,
     "metadata": {},
     "output_type": "execute_result"
    }
   ],
   "source": [
    "from sklearn.ensemble import RandomForestClassifier\n",
    "classifier = RandomForestClassifier() # 분류 모델을 만듭니다.\n",
    "classifier.fit(features_train, target_train) # 모델 훈련\n",
    "classifier.score(features_test, target_test) # 정확도 점수를 계산\n",
    "dummy = DummyClassifier(strategy='most_frequent')\n",
    "dummy.fit(features_train, target_train)\n",
    "# 훈련 세트 타깃에서 가장 많은 값으로 예측합니다.\n",
    "dummy.predict(features_test)"
   ]
  },
  {
   "cell_type": "code",
   "execution_count": 27,
   "metadata": {},
   "outputs": [
    {
     "data": {
      "text/plain": [
       "array([0.9555, 0.95  , 0.9585, 0.9555, 0.956 ])"
      ]
     },
     "execution_count": 27,
     "metadata": {},
     "output_type": "execute_result"
    }
   ],
   "source": [
    "#이진 분류기의 예측 평가\n",
    "from sklearn.model_selection import cross_val_score\n",
    "from sklearn.linear_model import LogisticRegression\n",
    "from sklearn.datasets import make_classification\n",
    "\n",
    "#특성 행렬과 타깃 벡터 생성\n",
    "X, y = make_classification(n_samples = 10000,\n",
    "                          n_features=3,\n",
    "                          n_informative=3,\n",
    "                          n_redundant=0,\n",
    "                          n_classes=2,\n",
    "                          random_state=1)\n",
    "\n",
    "#로지스틱 회귀 모델 객체 생성\n",
    "logit = LogisticRegression()\n",
    "\n",
    "cross_val_score(logit, X, y, scoring='accuracy') #정확도를 사용하여 교차검증"
   ]
  },
  {
   "cell_type": "markdown",
   "metadata": {},
   "source": [
    "이진 분류기의 예측 평가\n",
    "\n",
    " 정확도 : 예측한 샘플의 비율\n",
    "\n",
    " 정밀도 : 양성으로 예측한 샘플 중에서 진짜 양성 클래스의 비율 (예측에 포함된 잡음)\n",
    "예측을 Positive로 한 대상 중에 예측과 실제 값이 Positive로 일치한 데이터의 비율을 뜻합니다\n",
    "\n",
    " 재현율 : 진짜 양성 샘플 중에서 양성으로 예측한 비율\n",
    "재현율은 실제 값이 Positive인 대상 중에 예측과 실제 값이 Positive로 일치한 데이터의 비율을 뜻합니다 (민감도, TPR)\n",
    "\n",
    " F1은 정밀도와 재현율의 조화 평균입니다."
   ]
  },
  {
   "cell_type": "code",
   "execution_count": null,
   "metadata": {},
   "outputs": [],
   "source": [
    "'''\n",
    "정확도가 항상 좋은 척도일 수는 없다 -\n",
    "예를 들어 이진 분류(양성, 음성) 문제에서 계층의 분배가 999:1인 경우 모두 양성으로 판정하는 모델의 정확도는 99.9%가 된다\n",
    "이 문제의 해결을 위해 Confusion Matrix가 사용된다\n",
    "         실제양성 실제음성\n",
    "양성판단  진양성   위양성\n",
    "음성판단  위음성   진음성\n",
    "\n",
    "각 판정의 결과는 문제마다 다른 결과를 가져온다\n",
    "예를 들어 암의 판정의 경우 양성인 환자를 음성으로 판단해선 안 되고\n",
    "불량 검출 문제에서는 각 판단마다 다른 가치를 갖는다\n",
    "\n",
    "ROC곡선에 대한 내용\n",
    "http://blog.naver.com/PostView.nhn?blogId=song_daesub&logNo=221975683759&categoryNo=0&parentCategoryNo=0&viewDate=&currentPage=1&postListTopCurrentPage=1&from=postView\n",
    "'''"
   ]
  },
  {
   "cell_type": "code",
   "execution_count": 29,
   "metadata": {},
   "outputs": [
    {
     "name": "stdout",
     "output_type": "stream",
     "text": [
      "precision: [0.95963673 0.94820717 0.9635996  0.96149949 0.96060606]\n",
      "recall: [0.951 0.952 0.953 0.949 0.951]\n",
      "f1: [0.95529884 0.9500998  0.95827049 0.95520886 0.95577889]\n"
     ]
    }
   ],
   "source": [
    "# 정밀도를 사용한 교차검증\n",
    "print(\"precision:\",cross_val_score(logit, X, y, scoring=\"precision\"))\n",
    "\n",
    "# 재현율을 사용한 교차검증\n",
    "print(\"recall:\",cross_val_score(logit, X, y, scoring=\"recall\"))\n",
    "\n",
    "# f1 점수를 사용한 교차검증\n",
    "print(\"f1:\",cross_val_score(logit, X, y, scoring=\"f1\"))"
   ]
  },
  {
   "cell_type": "code",
   "execution_count": 31,
   "metadata": {},
   "outputs": [
    {
     "name": "stdout",
     "output_type": "stream",
     "text": [
      "accuracy: 0.947\n"
     ]
    },
    {
     "data": {
      "text/plain": [
       "{'fit_time': array([0.01196766, 0.00897574, 0.00897598, 0.00897574, 0.00897574]),\n",
       " 'score_time': array([0.00099778, 0.00199413, 0.00199461, 0.00199533, 0.00199509]),\n",
       " 'test_accuracy': array([0.9555, 0.95  , 0.9585, 0.9555, 0.956 ]),\n",
       " 'test_precision': array([0.95963673, 0.94820717, 0.9635996 , 0.96149949, 0.96060606])}"
      ]
     },
     "execution_count": 31,
     "metadata": {},
     "output_type": "execute_result"
    }
   ],
   "source": [
    "from sklearn.model_selection import train_test_split\n",
    "from sklearn.metrics import accuracy_score\n",
    "\n",
    "X_train, X_test, y_train, y_test = train_test_split(X, y, test_size=0.1, random_state=1)\n",
    "\n",
    "#테스트 세트의 예측\n",
    "y_hat = logit.fit(X_train, y_train).predict(X_test)\n",
    "\n",
    "#정확도 계산\n",
    "print('accuracy:',accuracy_score(y_test, y_hat))\n",
    "\n",
    "from sklearn.model_selection import cross_validate\n",
    "\n",
    "#정확도와 정밀도를 사용한 교차검증 - 개별적으로 보던 것을 함께 보는 방법\n",
    "cross_validate(logit, X, y, scoring=['accuracy', 'precision'])\n",
    "#fit_time과 score_time은 뭐지?"
   ]
  },
  {
   "cell_type": "code",
   "execution_count": 35,
   "metadata": {},
   "outputs": [],
   "source": [
    "#이진 분류기 임계값 평가 - ROC 곡선: 이진 분류기의 품질 평가에 널리 쓰임\n",
    "import matplotlib.pyplot as plt\n",
    "from sklearn.datasets import make_classification\n",
    "from sklearn.linear_model import LogisticRegression\n",
    "from sklearn.metrics import roc_curve, roc_auc_score\n",
    "from sklearn.model_selection import train_test_split\n",
    "\n",
    "features, target = make_classification(n_samples=10000,\n",
    "                                      n_features=10,\n",
    "                                      n_classes=2,\n",
    "                                      n_informative=3,\n",
    "                                      random_state=3)\n",
    "\n",
    "features_train, features_test, target_train, target_test = train_test_split(features, target, test_size=0.1, random_state=1)\n",
    "\n",
    "logit = LogisticRegression()\n",
    "logit.fit(features_train, target_train)\n",
    "\n",
    "# 예측 확률을 계산합니다.\n",
    "target_probabilities = logit.predict_proba(features_test)[:,1]"
   ]
  },
  {
   "cell_type": "code",
   "execution_count": 36,
   "metadata": {},
   "outputs": [
    {
     "data": {
      "image/png": "[encoded data removed]",
      "text/plain": [
       "<Figure size 432x288 with 1 Axes>"
      ]
     },
     "metadata": {
      "needs_background": "light"
     },
     "output_type": "display_data"
    }
   ],
   "source": [
    "#진짜 양성 비율(양성으로 판단한 것들 중 맞춘 비율)(진짜양성 / (진짜양성 + 거짓음성))과 거짓 양성(양성이라 판단했는데 틀림, 실제론 음성) 비율(양성으로 판단한 것들 중 틀린 비율)(거짓양성 / (진짜음성 + 거짓양성)) 계산\n",
    "false_positive_rate, true_positive_rate, threshold = roc_curve(target_test, target_probabilities)\n",
    "#결과_판단 - false_positive: 양성이라 판단했는데 틀림 (실제론 음성)\n",
    "\n",
    "#ROC 곡선\n",
    "plt.title('Receiver Operating Characteristic')\n",
    "plt.plot(false_positive_rate, true_positive_rate)\n",
    "plt.plot([0,1], ls='--')\n",
    "plt.plot([0,0],c='.7'), plt.plot([1,1],c='.7')\n",
    "plt.ylabel('True Positive Rate')\n",
    "plt.xlabel('False Positive Rate')\n",
    "plt.show()"
   ]
  },
  {
   "cell_type": "code",
   "execution_count": 39,
   "metadata": {},
   "outputs": [
    {
     "name": "stdout",
     "output_type": "stream",
     "text": [
      "임계값: 0.5331715230155317\n",
      "진짜 양성 비율: 0.810204081632653\n",
      "거짓 양성 비율: 0.14901960784313725\n",
      "\n",
      "임계값: 0.818913387665929\n",
      "진짜 양성 비율: 0.5448979591836735\n",
      "거짓 양성 비율: 0.047058823529411764\n"
     ]
    },
    {
     "data": {
      "text/plain": [
       "0.9073389355742297"
      ]
     },
     "execution_count": 39,
     "metadata": {},
     "output_type": "execute_result"
    }
   ],
   "source": [
    "# 예측 확률을 계산합니다.\n",
    "logit.predict_proba(features_test)[0:1]\n",
    "logit.classes_\n",
    "\n",
    "print(\"임계값:\", threshold[116])\n",
    "print(\"진짜 양성 비율:\", true_positive_rate[116])\n",
    "print(\"거짓 양성 비율:\", false_positive_rate[116])\n",
    "\n",
    "print(\"\\n임계값:\", threshold[45])\n",
    "print(\"진짜 양성 비율:\", true_positive_rate[45])\n",
    "print(\"거짓 양성 비율:\", false_positive_rate[45])\n",
    "\n",
    "# ROC 곡선 아래 면적을 계산합니다. 1에 가까울수록 정확\n",
    "roc_auc_score(target_test, target_probabilities)"
   ]
  },
  {
   "cell_type": "code",
   "execution_count": 49,
   "metadata": {},
   "outputs": [
    {
     "data": {
      "image/png": "[encoded data removed]",
      "text/plain": [
       "<Figure size 432x288 with 1 Axes>"
      ]
     },
     "metadata": {
      "needs_background": "light"
     },
     "output_type": "display_data"
    }
   ],
   "source": [
    "from sklearn.metrics import precision_recall_curve\n",
    "#진짜 양성 비율과 거짓 양성 비율을 계산\n",
    "precision, recall, threshold = precision_recall_curve(target_test, target_probabilities)\n",
    "\n",
    "#ROC 곡선\n",
    "plt.plot([0,1],ls='--')\n",
    "plt.plot([1,1],c='.7'), plt.plot([1,1],[1,0],c='.7')\n",
    "\n",
    "plt.plot(precision, recall)\n",
    "\n",
    "plt.title('Precision-Recall Curve')\n",
    "plt.xlabel(\"Recall\")\n",
    "plt.ylabel(\"Precision\")\n",
    "\n",
    "plt.show()"
   ]
  },
  {
   "cell_type": "code",
   "execution_count": 53,
   "metadata": {},
   "outputs": [
    {
     "name": "stderr",
     "output_type": "stream",
     "text": [
      "C:\\Users\\student\\anaconda3\\lib\\site-packages\\sklearn\\linear_model\\_logistic.py:940: ConvergenceWarning: lbfgs failed to converge (status=1):\n",
      "STOP: TOTAL NO. of ITERATIONS REACHED LIMIT.\n",
      "\n",
      "Increase the number of iterations (max_iter) or scale the data as shown in:\n",
      "    https://scikit-learn.org/stable/modules/preprocessing.html\n",
      "Please also refer to the documentation for alternative solver options:\n",
      "    https://scikit-learn.org/stable/modules/linear_model.html#logistic-regression\n",
      "  extra_warning_msg=_LOGISTIC_SOLVER_CONVERGENCE_MSG)\n"
     ]
    },
    {
     "data": {
      "image/png": "[encoded data removed]",
      "text/plain": [
       "<Figure size 432x288 with 1 Axes>"
      ]
     },
     "metadata": {
      "needs_background": "light"
     },
     "output_type": "display_data"
    }
   ],
   "source": [
    "#분류기 성능 시각화 - heatmap 사용\n",
    "import matplotlib.pyplot as plt\n",
    "import seaborn as sns\n",
    "from sklearn import datasets\n",
    "from sklearn.linear_model import LogisticRegression\n",
    "from sklearn.model_selection import train_test_split\n",
    "from sklearn.metrics import confusion_matrix\n",
    "import pandas as pd\n",
    "iris = datasets.load_iris() # 데이터 로드\n",
    "features = iris.data # 특성 행렬\n",
    "target = iris.target # 타깃 벡터\n",
    "class_names = iris.target_names # 클래스 이름 리스트\n",
    "\n",
    "# 훈련 세트와 테스트 세트를 만듭니다.\n",
    "features_train, features_test, target_train, target_test = train_test_split(\n",
    "features, target, random_state=1)\n",
    "classifier = LogisticRegression() # 로지스틱 회귀 모델 객체 생성\n",
    "\n",
    "# 모델을 훈련하고 예측 결과를 계산합니다.\n",
    "target_predicted = classifier.fit(features_train, target_train).predict(features_test)\n",
    "\n",
    "#confusion_matrix 생성\n",
    "matrix = confusion_matrix(target_test, target_predicted)\n",
    "\n",
    "#데이터프레임에 행렬 넣고\n",
    "dataframe = pd.DataFrame(matrix, index=class_names, columns=class_names)\n",
    "\n",
    "#시각화\n",
    "sns.heatmap(dataframe, annot=True, cbar=None, cmap='Blues')\n",
    "plt.title('Confusion Matrix'), plt.tight_layout()\n",
    "plt.ylabel('True Class'), plt.xlabel('Predicted Class')\n",
    "plt.show()"
   ]
  },
  {
   "cell_type": "code",
   "execution_count": 56,
   "metadata": {},
   "outputs": [
    {
     "ename": "NameError",
     "evalue": "name 'transform_feature' is not defined",
     "output_type": "error",
     "traceback": [
      "\u001b[1;31m---------------------------------------------------------------------------\u001b[0m",
      "\u001b[1;31mNameError\u001b[0m                                 Traceback (most recent call last)",
      "\u001b[1;32m<ipython-input-56-e48845259d62>\u001b[0m in \u001b[0;36m<module>\u001b[1;34m\u001b[0m\n\u001b[0;32m      5\u001b[0m \u001b[1;33m\u001b[0m\u001b[0m\n\u001b[0;32m      6\u001b[0m \u001b[1;31m#위의 모든 함수 적용\u001b[0m\u001b[1;33m\u001b[0m\u001b[1;33m\u001b[0m\u001b[1;33m\u001b[0m\u001b[0m\n\u001b[1;32m----> 7\u001b[1;33m \u001b[0mX_titanic_df\u001b[0m \u001b[1;33m=\u001b[0m \u001b[0mtransform_feature\u001b[0m\u001b[1;33m(\u001b[0m\u001b[0mX_titanic_df\u001b[0m\u001b[1;33m)\u001b[0m\u001b[1;33m\u001b[0m\u001b[1;33m\u001b[0m\u001b[0m\n\u001b[0m\u001b[0;32m      8\u001b[0m \u001b[1;33m\u001b[0m\u001b[0m\n\u001b[0;32m      9\u001b[0m \u001b[1;32mfrom\u001b[0m \u001b[0msklearn\u001b[0m\u001b[1;33m.\u001b[0m\u001b[0mmodel_selection\u001b[0m \u001b[1;32mimport\u001b[0m \u001b[0mtrain_test_split\u001b[0m\u001b[1;33m\u001b[0m\u001b[1;33m\u001b[0m\u001b[0m\n",
      "\u001b[1;31mNameError\u001b[0m: name 'transform_feature' is not defined"
     ]
    }
   ],
   "source": [
    "titanic_df = pd.read_csv('data\\\\titanic_train.csv')\n",
    "X_titanic_df = titanic_df.drop('Survived', axis=1)\n",
    "y_titanic_df = titanic_df['Survived']\n",
    "#데이터를 csv로 불러오고, target와 나머지로 분리\n",
    "\n",
    "#위의 모든 함수 적용\n",
    "X_titanic_df = transform_feature(X_titanic_df)\n",
    "\n",
    "from sklearn.model_selection import train_test_split\n",
    "X_train, X_test, y_train, y_test = train_test_split(X_titanic_df, y_titanic_df, test_size = 0.2, random_state=11)"
   ]
  },
  {
   "cell_type": "code",
   "execution_count": 55,
   "metadata": {},
   "outputs": [
    {
     "name": "stdout",
     "output_type": "stream",
     "text": [
      "GridSearchCV 최적 하이퍼 파라미터: {'max_depth': 10, 'min_samples_leaf': 5, 'min_samples_split': 2}\n",
      "GridSearchCV 최고 정확도: 0.9659\n",
      "테스트 세트에서의 DecisionTreeClassifier 정확도: 0.9570\n"
     ]
    }
   ],
   "source": [
    "#GridSearchCV: classifier나 regressor와 같은 알고리즘에 사용되는 하이퍼파라미터를 순차적으로 교차 검증 수행하며 입력하면서 최적의 파라미터를 도출해주는 기능을 제공하는 클래스\n",
    "#estimator 매개변수의 입력값은 classifier, regressor, pipeline\n",
    "#param_grid: key (하이퍼파라미터명) + 리스트 (하이퍼파라미터값) 의 딕셔너리\n",
    "#scoring: 예측 성능을 측정할 지표\n",
    "#cv: 교차 검증 분할할 학습/테스트 세트 개수\n",
    "#refit (true): 가장 최적의 하이퍼파라미터를 찾은 뒤 찾은 하이퍼파라미터로 estimator 재학습\n",
    "from sklearn.tree import DecisionTreeClassifier\n",
    "dt_clf = DecisionTreeClassifier(random_state=11)\n",
    "\n",
    "from sklearn.model_selection import GridSearchCV\n",
    "parameters = {'max_depth': [2, 3, 5, 10],\n",
    "             'min_samples_split': [2,3,5],\n",
    "             'min_samples_leaf': [1,5,8]}\n",
    "grid_dclf = GridSearchCV(dt_clf, param_grid=parameters, scoring='accuracy', cv=5)\n",
    "grid_dclf.fit(X_train, y_train)\n",
    "\n",
    "print('GridSearchCV 최적 하이퍼 파라미터:', grid_dclf.best_params_)\n",
    "print('GridSearchCV 최고 정확도: {0:.4f}'.format(grid_dclf.best_score_))\n",
    "\n",
    "best_dclf = grid_dclf.best_estimator_\n",
    "pred = best_dclf.predict(X_test)\n",
    "accuracy = accuracy_score(y_test, pred)\n",
    "print('테스트 세트에서의 DecisionTreeClassifier 정확도: {0:.4f}'.format(accuracy))"
   ]
  },
  {
   "cell_type": "code",
   "execution_count": null,
   "metadata": {},
   "outputs": [],
   "source": [
    "#회귀 모델 평가 - MSE(Mean Squared Error)\n",
    "#MSE(전체 제곱 오차)의 값이 클수록 더 나쁜 모델\n",
    "#사이킷런의 scoring 매개변수값은 높을수록 좋다고 침\n",
    "#따라서 사이킷런에 MSE 쓰려면 음의 MSE인 neg_mean_squared_error 사용\n",
    "\n",
    "#회귀 모델의 평가 지표인 R^2는 모델이 설명하는 타깃 벡터의 분산을 뜻함\n",
    "#R^2은 1에 가까울수록 좋음"
   ]
  },
  {
   "cell_type": "code",
   "execution_count": 57,
   "metadata": {},
   "outputs": [
    {
     "data": {
      "text/plain": [
       "0.8916265564072142"
      ]
     },
     "execution_count": 57,
     "metadata": {},
     "output_type": "execute_result"
    }
   ],
   "source": [
    "#군집 모델 평가 - 클러스터의 품질을 평가하는 \"\"실루엣 계수\"\"\n",
    "import numpy as np\n",
    "from sklearn.metrics import silhouette_score\n",
    "from sklearn import datasets\n",
    "from sklearn.cluster import KMeans\n",
    "from sklearn.datasets import make_blobs\n",
    "\n",
    "features, _ = make_blobs(n_samples = 1000,\n",
    "                         n_features = 10,\n",
    "                         centers = 2,\n",
    "                         cluster_std = 0.5,\n",
    "                         shuffle = True,\n",
    "                         random_state = 1) # 특성 행렬을 생성\n",
    "\n",
    "# k-평균을 사용하여 데이터를 클러스터링하고 클래스를 예측합니다.\n",
    "model = KMeans(n_clusters=2, random_state=1).fit(features)\n",
    "target_predicted = model.labels_ # 예측된 클래스\n",
    "silhouette_score(features, target_predicted) # 모델 평가\n",
    "\n",
    "#클러스터 내 샘플 간의 거리는 가깝고 / 클러스터 간의 거리는 멀어야 좋은 군집\n",
    "#실루엣 계수 = "
   ]
  },
  {
   "cell_type": "code",
   "execution_count": 58,
   "metadata": {},
   "outputs": [],
   "source": [
    "from sklearn.metrics import make_scorer, r2_score\n",
    "from sklearn.model_selection import train_test_split\n",
    "from sklearn.linear_model import Ridge\n",
    "from sklearn.datasets import make_regression\n",
    "\n",
    "# 특성 행렬과 타깃 벡터를 만듭니다.\n",
    "features, target = make_regression(n_samples = 100,\n",
    "                                   n_features = 3,\n",
    "                                   random_state = 1)\n",
    "\n",
    "# 훈련 세트와 테스트 세트를 만듭니다.\n",
    "features_train, features_test, target_train, target_test = train_test_split(\n",
    "features, target, test_size=0.10, random_state=1)\n",
    "\n",
    "def custom_metric(target_test, target_predicted): # 사용자 정의 지표 함수를 정의\n",
    "    r2 = r2_score(target_test, target_predicted) # R^2 점수를 계산\n",
    "    return r2 # R^2 점수를 반환\n",
    "\n",
    "# 높은 점수가 좋은 것을 나타내는 스코어 함수를 만듭니다.\n",
    "score = make_scorer(custom_metric, greater_is_better=True)\n",
    "classifier = Ridge() # 릿지(ridge) 회귀 모델 객체 생성"
   ]
  },
  {
   "cell_type": "code",
   "execution_count": 63,
   "metadata": {},
   "outputs": [
    {
     "name": "stdout",
     "output_type": "stream",
     "text": [
      "Custom Score: 0.9997906102882058\n",
      "R^2 Score: 0.9997906102882058\n"
     ]
    }
   ],
   "source": [
    "model = classifier.fit(features_train, target_train) # 릿지 회귀 모델 훈련\n",
    "print('Custom Score:',score(model, features_test, target_test)) # 사용자 정의 스코어 함수를 인자로 넘겨줌\n",
    "\n",
    "target_predicted = model.predict(features_test) # 예측\n",
    "print('R^2 Score:',r2_score(target_test, target_predicted)) # R^2 점수 계산\n",
    "#당연히 같게 나옴 custom score도 R^2 점수 계산이므로"
   ]
  },
  {
   "cell_type": "code",
   "execution_count": null,
   "metadata": {},
   "outputs": [],
   "source": []
  }
 ],
 "metadata": {
  "kernelspec": {
   "display_name": "Python 3",
   "language": "python",
   "name": "python3"
  },
  "language_info": {
   "codemirror_mode": {
    "name": "ipython",
    "version": 3
   },
   "file_extension": ".py",
   "mimetype": "text/x-python",
   "name": "python",
   "nbconvert_exporter": "python",
   "pygments_lexer": "ipython3",
   "version": "3.7.6"
  }
 },
 "nbformat": 4,
 "nbformat_minor": 4
}
