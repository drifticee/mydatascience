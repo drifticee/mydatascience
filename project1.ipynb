{
 "cells": [
  {
   "cell_type": "markdown",
   "metadata": {},
   "source": [
    "http://www.aihub.or.kr/aidata/105\n",
    "\n",
    "http://melonicedlatte.com/machinelearning/2018/07/02/215933.html\n",
    "\n",
    "https://ko.wikipedia.org/wiki/%EC%9D%8C%EC%84%B1_%ED%95%A9%EC%84%B1#%ED%85%8D%EC%8A%A4%ED%8A%B8_%EC%9D%8C%EC%84%B1_%EB%B3%80%ED%99%98_%EC%8B%9C%EC%8A%A4%ED%85%9C"
   ]
  }
 ],
 "metadata": {
  "kernelspec": {
   "display_name": "Python 3",
   "language": "python",
   "name": "python3"
  },
  "language_info": {
   "codemirror_mode": {
    "name": "ipython",
    "version": 3
   },
   "file_extension": ".py",
   "mimetype": "text/x-python",
   "name": "python",
   "nbconvert_exporter": "python",
   "pygments_lexer": "ipython3",
   "version": "3.7.7"
  }
 },
 "nbformat": 4,
 "nbformat_minor": 4
}
